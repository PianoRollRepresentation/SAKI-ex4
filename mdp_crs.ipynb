{
 "cells": [
  {
   "cell_type": "code",
   "execution_count": null,
   "metadata": {
    "collapsed": true,
    "pycharm": {
     "is_executing": true
    }
   },
   "outputs": [],
   "source": [
    "from typing import List, Dict\n",
    "\n",
    "import numpy as np\n",
    "from mdptoolbox import mdp\n",
    "from itertools import product, repeat\n",
    "from functools import reduce\n",
    "from operator import iconcat\n",
    "from scipy.sparse import csr_matrix\n",
    "\n",
    "from copy import deepcopy"
   ]
  },
  {
   "cell_type": "code",
   "execution_count": null,
   "outputs": [],
   "source": [
    "# data\n",
    "field_content = ['empty', 'white', 'blue', 'red']\n",
    "task = ['store', 'restore']\n",
    "item = ['white', 'blue', 'red']\n",
    "task_and_item = [['store', 'white'], ['store', 'blue'], ['store', 'red'],\n",
    "                 ['restore', 'white'], ['restore', 'blue'], ['restore', 'red']]\n",
    "actions = [0, 1, 2, 3]\n",
    "rewards_dict = {0: 4, 1: 2, 2: 2, 3: 0}\n"
   ],
   "metadata": {
    "collapsed": false,
    "pycharm": {
     "name": "#%%\n",
     "is_executing": true
    }
   }
  },
  {
   "cell_type": "code",
   "execution_count": null,
   "outputs": [],
   "source": [
    "def probabilities_from_data() -> Dict:\n",
    "    f = open('probdata.txt', 'r')\n",
    "\n",
    "    colors = []\n",
    "    line = f.readline()\n",
    "    while line:\n",
    "        colors.append(line.split()[1])\n",
    "        line = f.readline()\n",
    "\n",
    "    total_length = len(colors)\n",
    "\n",
    "    p_white = len(colors[colors == 'white']) / total_length\n",
    "    p_blue = len(colors[colors == 'blue']) / total_length\n",
    "    p_red = len(colors[colors == 'red']) / total_length\n",
    "\n",
    "    return {'white': p_white, 'blue': p_blue, 'red': p_red}\n",
    "\n",
    "probs = probabilities_from_data()\n",
    "print(probs)"
   ],
   "metadata": {
    "collapsed": false,
    "pycharm": {
     "name": "#%%\n",
     "is_executing": true
    }
   }
  },
  {
   "cell_type": "code",
   "execution_count": null,
   "outputs": [],
   "source": [
    "def all_repeat() -> List:\n",
    "    \"\"\"\n",
    "    Computes all permutations of items with repetitions\n",
    "\n",
    "    :return: permutations of items with repetitions\n",
    "    \"\"\"\n",
    "    result = []\n",
    "    for c in product(field_content, repeat=4):\n",
    "        comb = [c[0], c[1], c[2], c[3]]\n",
    "        result.append(comb)\n",
    "\n",
    "    result = list(repeat(result, 6))\n",
    "    result = list(map(list, zip(result, task_and_item)))\n",
    "\n",
    "    for i in range(len(result)):\n",
    "        result[i] = [elem + result[i][1] for elem in result[i][0]]\n",
    "\n",
    "    result = reduce(iconcat, result, [])\n",
    "\n",
    "    return result"
   ],
   "metadata": {
    "collapsed": false,
    "pycharm": {
     "name": "#%%\n",
     "is_executing": true
    }
   }
  },
  {
   "cell_type": "code",
   "execution_count": null,
   "outputs": [],
   "source": [
    "states = all_repeat()\n",
    "num_states = len(states)\n",
    "\n",
    "# check if all elements are unique.\n",
    "np.testing.assert_equal(len(list(set(map(tuple, states)))), num_states)"
   ],
   "metadata": {
    "collapsed": false,
    "pycharm": {
     "name": "#%%\n",
     "is_executing": true
    }
   }
  },
  {
   "cell_type": "code",
   "execution_count": null,
   "outputs": [],
   "source": [
    "def field_content_equals(from_state: list, to_state: list) -> bool:\n",
    "    return from_state[:4] == to_state[:4]"
   ],
   "metadata": {
    "collapsed": false,
    "pycharm": {
     "name": "#%%\n",
     "is_executing": true
    }
   }
  },
  {
   "cell_type": "code",
   "execution_count": null,
   "outputs": [],
   "source": [
    "def transition_prob(action: int, from_state: list, to_state: list) -> float:\n",
    "    copy_from_state = deepcopy(from_state)\n",
    "    next_item = to_state[-1]\n",
    "\n",
    "    if copy_from_state[4] == 'store':\n",
    "        if copy_from_state[action] != 'empty':\n",
    "            return 1 if from_state == to_state else 0\n",
    "\n",
    "        copy_from_state[action] = copy_from_state[-1]\n",
    "        return probs[next_item] / 2 if field_content_equals(copy_from_state, to_state) else 0\n",
    "    elif copy_from_state[4] == 'restore':\n",
    "        if copy_from_state[action] != copy_from_state[-1]:\n",
    "            return 1 if from_state == to_state else 0\n",
    "\n",
    "        copy_from_state[action] = 'empty'\n",
    "        return probs[next_item] / 2 if field_content_equals(copy_from_state, to_state) else 0\n",
    "\n",
    "    return 0"
   ],
   "metadata": {
    "collapsed": false,
    "pycharm": {
     "name": "#%%\n",
     "is_executing": true
    }
   }
  },
  {
   "cell_type": "code",
   "execution_count": null,
   "outputs": [],
   "source": [
    "test_prob = transition_prob(0, ['empty', 'empty', 'empty', 'empty', 'restore', 'red'],\n",
    "                            ['empty', 'empty', 'empty', 'empty', 'restore', 'red'])\n",
    "\n",
    "np.testing.assert_equal(test_prob, 1)"
   ],
   "metadata": {
    "collapsed": false,
    "pycharm": {
     "name": "#%%\n",
     "is_executing": true
    }
   }
  },
  {
   "cell_type": "code",
   "execution_count": null,
   "outputs": [],
   "source": [
    "def reward(action: int, last_prob: float) -> float:\n",
    "    if last_prob == 1:\n",
    "        return 0\n",
    "\n",
    "    return rewards_dict[action]"
   ],
   "metadata": {
    "collapsed": false,
    "pycharm": {
     "name": "#%%\n",
     "is_executing": true
    }
   }
  },
  {
   "cell_type": "code",
   "execution_count": null,
   "outputs": [],
   "source": [
    "def transition_and_reward_matrix():\n",
    "    transitions = []\n",
    "    rewards = []\n",
    "\n",
    "    for action in actions:\n",
    "        row = []\n",
    "        col = []\n",
    "        data = []\n",
    "\n",
    "        reward_vector = []\n",
    "\n",
    "        for id_from, from_state in enumerate(states):\n",
    "            for id_to, to_state in enumerate(states):\n",
    "                p = transition_prob(action, from_state, to_state)\n",
    "\n",
    "                if p > 0:\n",
    "                    row.append(id_from)\n",
    "                    col.append(id_to)\n",
    "                    data.append(p)\n",
    "\n",
    "            reward_vector.append(reward(action, data[-1]))\n",
    "\n",
    "        transitions.append(csr_matrix((data, (row, col)), shape=(num_states, num_states)))\n",
    "        rewards.append(reward_vector)\n",
    "\n",
    "    return transitions, np.array(rewards).T"
   ],
   "metadata": {
    "collapsed": false,
    "pycharm": {
     "name": "#%%\n",
     "is_executing": true
    }
   }
  },
  {
   "cell_type": "code",
   "execution_count": 109,
   "outputs": [
    {
     "ename": "KeyboardInterrupt",
     "evalue": "",
     "output_type": "error",
     "traceback": [
      "\u001B[1;31m---------------------------------------------------------------------------\u001B[0m",
      "\u001B[1;31mKeyboardInterrupt\u001B[0m                         Traceback (most recent call last)",
      "\u001B[1;32m<ipython-input-109-999225fbc7cf>\u001B[0m in \u001B[0;36m<module>\u001B[1;34m\u001B[0m\n\u001B[1;32m----> 1\u001B[1;33m \u001B[0mP\u001B[0m\u001B[1;33m,\u001B[0m \u001B[0mR\u001B[0m \u001B[1;33m=\u001B[0m \u001B[0mtransition_and_reward_matrix\u001B[0m\u001B[1;33m(\u001B[0m\u001B[1;33m)\u001B[0m\u001B[1;33m\u001B[0m\u001B[1;33m\u001B[0m\u001B[0m\n\u001B[0m\u001B[0;32m      2\u001B[0m \u001B[1;33m\u001B[0m\u001B[0m\n",
      "\u001B[1;32m<ipython-input-108-dd792560a554>\u001B[0m in \u001B[0;36mtransition_and_reward_matrix\u001B[1;34m()\u001B[0m\n\u001B[0;32m     12\u001B[0m         \u001B[1;32mfor\u001B[0m \u001B[0mid_from\u001B[0m\u001B[1;33m,\u001B[0m \u001B[0mfrom_state\u001B[0m \u001B[1;32min\u001B[0m \u001B[0menumerate\u001B[0m\u001B[1;33m(\u001B[0m\u001B[0mstates\u001B[0m\u001B[1;33m)\u001B[0m\u001B[1;33m:\u001B[0m\u001B[1;33m\u001B[0m\u001B[1;33m\u001B[0m\u001B[0m\n\u001B[0;32m     13\u001B[0m             \u001B[1;32mfor\u001B[0m \u001B[0mid_to\u001B[0m\u001B[1;33m,\u001B[0m \u001B[0mto_state\u001B[0m \u001B[1;32min\u001B[0m \u001B[0menumerate\u001B[0m\u001B[1;33m(\u001B[0m\u001B[0mstates\u001B[0m\u001B[1;33m)\u001B[0m\u001B[1;33m:\u001B[0m\u001B[1;33m\u001B[0m\u001B[1;33m\u001B[0m\u001B[0m\n\u001B[1;32m---> 14\u001B[1;33m                 \u001B[0mp\u001B[0m \u001B[1;33m=\u001B[0m \u001B[0mtransition_prob\u001B[0m\u001B[1;33m(\u001B[0m\u001B[0maction\u001B[0m\u001B[1;33m,\u001B[0m \u001B[0mfrom_state\u001B[0m\u001B[1;33m,\u001B[0m \u001B[0mto_state\u001B[0m\u001B[1;33m)\u001B[0m\u001B[1;33m\u001B[0m\u001B[1;33m\u001B[0m\u001B[0m\n\u001B[0m\u001B[0;32m     15\u001B[0m \u001B[1;33m\u001B[0m\u001B[0m\n\u001B[0;32m     16\u001B[0m                 \u001B[1;32mif\u001B[0m \u001B[0mp\u001B[0m \u001B[1;33m>\u001B[0m \u001B[1;36m0\u001B[0m\u001B[1;33m:\u001B[0m\u001B[1;33m\u001B[0m\u001B[1;33m\u001B[0m\u001B[0m\n",
      "\u001B[1;32m<ipython-input-105-cee56157740e>\u001B[0m in \u001B[0;36mtransition_prob\u001B[1;34m(action, from_state, to_state)\u001B[0m\n\u001B[0;32m      1\u001B[0m \u001B[1;32mdef\u001B[0m \u001B[0mtransition_prob\u001B[0m\u001B[1;33m(\u001B[0m\u001B[0maction\u001B[0m\u001B[1;33m:\u001B[0m \u001B[0mint\u001B[0m\u001B[1;33m,\u001B[0m \u001B[0mfrom_state\u001B[0m\u001B[1;33m:\u001B[0m \u001B[0mlist\u001B[0m\u001B[1;33m,\u001B[0m \u001B[0mto_state\u001B[0m\u001B[1;33m:\u001B[0m \u001B[0mlist\u001B[0m\u001B[1;33m)\u001B[0m \u001B[1;33m->\u001B[0m \u001B[0mfloat\u001B[0m\u001B[1;33m:\u001B[0m\u001B[1;33m\u001B[0m\u001B[1;33m\u001B[0m\u001B[0m\n\u001B[0;32m      2\u001B[0m     \u001B[0mcopy_from_state\u001B[0m \u001B[1;33m=\u001B[0m \u001B[0mdeepcopy\u001B[0m\u001B[1;33m(\u001B[0m\u001B[0mfrom_state\u001B[0m\u001B[1;33m)\u001B[0m\u001B[1;33m\u001B[0m\u001B[1;33m\u001B[0m\u001B[0m\n\u001B[1;32m----> 3\u001B[1;33m     \u001B[0mnext_item\u001B[0m \u001B[1;33m=\u001B[0m \u001B[0mto_state\u001B[0m\u001B[1;33m[\u001B[0m\u001B[1;33m-\u001B[0m\u001B[1;36m1\u001B[0m\u001B[1;33m]\u001B[0m\u001B[1;33m\u001B[0m\u001B[1;33m\u001B[0m\u001B[0m\n\u001B[0m\u001B[0;32m      4\u001B[0m \u001B[1;33m\u001B[0m\u001B[0m\n\u001B[0;32m      5\u001B[0m     \u001B[1;32mif\u001B[0m \u001B[0mcopy_from_state\u001B[0m\u001B[1;33m[\u001B[0m\u001B[1;36m4\u001B[0m\u001B[1;33m]\u001B[0m \u001B[1;33m==\u001B[0m \u001B[1;34m'store'\u001B[0m\u001B[1;33m:\u001B[0m\u001B[1;33m\u001B[0m\u001B[1;33m\u001B[0m\u001B[0m\n",
      "\u001B[1;31mKeyboardInterrupt\u001B[0m: "
     ]
    }
   ],
   "source": [
    "P, R = transition_and_reward_matrix()"
   ],
   "metadata": {
    "collapsed": false,
    "pycharm": {
     "name": "#%%\n"
    }
   }
  },
  {
   "cell_type": "code",
   "execution_count": null,
   "outputs": [],
   "source": [
    "P"
   ],
   "metadata": {
    "collapsed": false,
    "pycharm": {
     "name": "#%%\n"
    }
   }
  },
  {
   "cell_type": "code",
   "execution_count": null,
   "outputs": [],
   "source": [
    "ones = np.zeros((4, num_states))\n",
    "for i, m in enumerate(P):\n",
    "    ones[i] = np.sum(np.array(m.toarray()), axis=1)\n",
    "\n",
    "test = ones[0]\n",
    "test = np.reshape(test, (32, -1))\n",
    "np.testing.assert_array_almost_equal(ones, np.ones_like(ones))"
   ],
   "metadata": {
    "collapsed": false,
    "pycharm": {
     "name": "#%%\n",
     "is_executing": true
    }
   }
  },
  {
   "cell_type": "code",
   "execution_count": null,
   "outputs": [],
   "source": [
    "np.testing.assert_array_equal(R.shape, (num_states, 4))"
   ],
   "metadata": {
    "collapsed": false,
    "pycharm": {
     "name": "#%%\n",
     "is_executing": true
    }
   }
  },
  {
   "cell_type": "code",
   "execution_count": null,
   "outputs": [],
   "source": [
    "pi = mdp.PolicyIteration(P, R, 0.9)\n",
    "pi.run()"
   ],
   "metadata": {
    "collapsed": false,
    "pycharm": {
     "name": "#%%\n",
     "is_executing": true
    }
   }
  },
  {
   "cell_type": "code",
   "execution_count": null,
   "outputs": [],
   "source": [
    "result_policy = pi.policy\n",
    "print(len(result_policy))"
   ],
   "metadata": {
    "collapsed": false,
    "pycharm": {
     "name": "#%%\n",
     "is_executing": true
    }
   }
  },
  {
   "cell_type": "code",
   "execution_count": null,
   "outputs": [],
   "source": [
    "def next_comb_mdp(cur_comb: List, state_index: int, policy: tuple) -> List:\n",
    "    action = policy[state_index]\n",
    "    result = cur_comb[:4]\n",
    "    cur_task = cur_comb[4]\n",
    "    cur_item = cur_comb[-1]\n",
    "\n",
    "    if cur_task == 'store':\n",
    "        result[action] = cur_item\n",
    "    elif cur_task == 'restore':\n",
    "        result[action] = 'empty'\n",
    "\n",
    "    return result"
   ],
   "metadata": {
    "collapsed": false,
    "pycharm": {
     "name": "#%%\n",
     "is_executing": true
    }
   }
  },
  {
   "cell_type": "code",
   "execution_count": null,
   "outputs": [],
   "source": [
    "def reward_mdp(warehouse_input: List[tuple], policy: tuple) -> float:\n",
    "    cur_comb = ['empty', 'empty', 'empty', 'empty']\n",
    "    total_reward = 0\n",
    "\n",
    "    for cur_task, cur_item in warehouse_input:\n",
    "        cur_comb.append(cur_task)\n",
    "        cur_comb.append(cur_item)\n",
    "\n",
    "        state_index = states.index(cur_comb)\n",
    "\n",
    "        cur_comb = next_comb_mdp(cur_comb, state_index, policy)\n",
    "        total_reward += rewards_dict[policy[state_index]]\n",
    "\n",
    "    return total_reward"
   ],
   "metadata": {
    "collapsed": false,
    "pycharm": {
     "name": "#%%\n",
     "is_executing": true
    }
   }
  },
  {
   "cell_type": "code",
   "execution_count": null,
   "outputs": [],
   "source": [
    "def next_comb_greedy(cur_comb: List) -> List:\n",
    "    result = cur_comb[:4]\n",
    "    cur_task = cur_comb[4]\n",
    "    cur_item = cur_comb[-1]\n",
    "\n",
    "    if cur_task == 'store':\n",
    "        for action, field in enumerate(result):\n",
    "            if field == 'empty':\n",
    "                result[action] = cur_item\n",
    "                return result, action\n",
    "\n",
    "    elif cur_task == 'restore':\n",
    "        for action, field in enumerate(result):\n",
    "            if field == cur_item:\n",
    "                result[action] = 'empty'\n",
    "                return result, action\n",
    "\n",
    "    return result, 0"
   ],
   "metadata": {
    "collapsed": false,
    "pycharm": {
     "name": "#%%\n",
     "is_executing": true
    }
   }
  },
  {
   "cell_type": "code",
   "execution_count": null,
   "outputs": [],
   "source": [
    "def reward_greedy(warehouse_input: List[tuple]) -> float:\n",
    "    cur_comb = ['empty', 'empty', 'empty', 'empty']\n",
    "    total_reward = 0\n",
    "\n",
    "    for cur_task, cur_item in warehouse_input:\n",
    "        cur_comb.append(cur_task)\n",
    "        cur_comb.append(cur_item)\n",
    "\n",
    "        cur_comb, action = next_comb_greedy(cur_comb)\n",
    "        total_reward += rewards_dict[action]\n",
    "\n",
    "    return total_reward"
   ],
   "metadata": {
    "collapsed": false,
    "pycharm": {
     "name": "#%%\n",
     "is_executing": true
    }
   }
  },
  {
   "cell_type": "code",
   "execution_count": null,
   "outputs": [],
   "source": [
    "def data_to_warehouse_input() -> List[tuple]:\n",
    "    f = open('trainingdata.txt', 'r')\n",
    "\n",
    "    result = []\n",
    "    line = f.readline()\n",
    "    while line:\n",
    "        result.append(tuple(line.split()))\n",
    "        line = f.readline()\n",
    "\n",
    "    return result\n",
    "\n",
    "w_input = data_to_warehouse_input()\n",
    "print(w_input)"
   ],
   "metadata": {
    "collapsed": false,
    "pycharm": {
     "name": "#%%\n",
     "is_executing": true
    }
   }
  },
  {
   "cell_type": "code",
   "execution_count": null,
   "outputs": [],
   "source": [
    "print(reward_mdp(w_input, result_policy))\n",
    "print(reward_greedy(w_input))"
   ],
   "metadata": {
    "collapsed": false,
    "pycharm": {
     "name": "#%%\n",
     "is_executing": true
    }
   }
  }
 ],
 "metadata": {
  "kernelspec": {
   "display_name": "Python 3",
   "language": "python",
   "name": "python3"
  },
  "language_info": {
   "codemirror_mode": {
    "name": "ipython",
    "version": 2
   },
   "file_extension": ".py",
   "mimetype": "text/x-python",
   "name": "python",
   "nbconvert_exporter": "python",
   "pygments_lexer": "ipython2",
   "version": "2.7.6"
  }
 },
 "nbformat": 4,
 "nbformat_minor": 0
}