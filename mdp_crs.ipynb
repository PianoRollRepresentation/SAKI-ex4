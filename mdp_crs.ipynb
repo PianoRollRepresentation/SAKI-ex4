{
 "cells": [
  {
   "cell_type": "code",
   "execution_count": 68,
   "metadata": {
    "collapsed": true
   },
   "outputs": [],
   "source": [
    "import numpy as np\n",
    "from mdptoolbox import mdp\n",
    "from itertools import product, repeat\n",
    "from functools import reduce\n",
    "from operator import iconcat\n",
    "from scipy.sparse import csr_matrix\n",
    "\n",
    "from copy import deepcopy"
   ]
  },
  {
   "cell_type": "code",
   "execution_count": 69,
   "outputs": [],
   "source": [
    "# data\n",
    "field_content = ['empty', 'white', 'blue', 'red']\n",
    "task = ['store', 'restore']\n",
    "item = ['white', 'blue', 'red']\n",
    "task_and_item = [['store', 'white'], ['store', 'blue'], ['store', 'red'],\n",
    "                 ['restore', 'white'], ['restore', 'blue'], ['restore', 'red']]\n",
    "actions = [0, 1, 2, 3]\n",
    "\n",
    "# probabilities\n",
    "probs = {'white': 0.2, 'blue': 0.7, 'red': 0.1}"
   ],
   "metadata": {
    "collapsed": false,
    "pycharm": {
     "name": "#%%\n"
    }
   }
  },
  {
   "cell_type": "code",
   "execution_count": 70,
   "outputs": [],
   "source": [
    "def all_repeat():\n",
    "    \"\"\"\n",
    "    Computes all permutations of items with repetitions\n",
    "\n",
    "    :return: permutations of items with repetitions\n",
    "    \"\"\"\n",
    "    result = []\n",
    "    for c in product(field_content, repeat=4):\n",
    "        comb = [c[0], c[1], c[2], c[3]]\n",
    "        result.append(comb)\n",
    "\n",
    "    result = list(repeat(result, 6))\n",
    "    result = list(map(list, zip(result, task_and_item)))\n",
    "\n",
    "    for i in range(len(result)):\n",
    "        result[i] = [elem + result[i][1] for elem in result[i][0]]\n",
    "\n",
    "    result = reduce(iconcat, result, [])\n",
    "\n",
    "    return result"
   ],
   "metadata": {
    "collapsed": false,
    "pycharm": {
     "name": "#%%\n"
    }
   }
  },
  {
   "cell_type": "code",
   "execution_count": 71,
   "outputs": [],
   "source": [
    "states = all_repeat()\n",
    "num_states = len(states)\n",
    "\n",
    "# check if all elements are unique.\n",
    "np.testing.assert_equal(len(list(set(map(tuple, states)))), num_states)"
   ],
   "metadata": {
    "collapsed": false,
    "pycharm": {
     "name": "#%%\n"
    }
   }
  },
  {
   "cell_type": "code",
   "execution_count": 72,
   "outputs": [],
   "source": [
    "def field_content_equals(from_state: list, to_state: list) -> bool:\n",
    "    return from_state[:4] == to_state[:4]"
   ],
   "metadata": {
    "collapsed": false,
    "pycharm": {
     "name": "#%%\n"
    }
   }
  },
  {
   "cell_type": "code",
   "execution_count": 73,
   "outputs": [],
   "source": [
    "def transition_prob(action: int, from_state: list, to_state: list) -> float:\n",
    "    copy_from_state = deepcopy(from_state)\n",
    "    next_item = to_state[-1]\n",
    "\n",
    "    if copy_from_state[4] == 'store':\n",
    "        if copy_from_state[action] != 'empty':\n",
    "            return 1 if from_state == to_state else 0\n",
    "\n",
    "        copy_from_state[action] = copy_from_state[-1]\n",
    "        return probs[next_item] / 2 if field_content_equals(copy_from_state, to_state) else 0\n",
    "    elif copy_from_state[4] == 'restore':\n",
    "        if copy_from_state[action] != copy_from_state[-1]:\n",
    "            return 1 if from_state == to_state else 0\n",
    "\n",
    "        copy_from_state[action] = 'empty'\n",
    "        return probs[next_item] / 2 if field_content_equals(copy_from_state, to_state) else 0\n",
    "\n",
    "    return 0"
   ],
   "metadata": {
    "collapsed": false,
    "pycharm": {
     "name": "#%%\n"
    }
   }
  },
  {
   "cell_type": "code",
   "execution_count": 74,
   "outputs": [],
   "source": [
    "test_prob = transition_prob(0, ['empty', 'empty', 'empty', 'empty', 'restore', 'red'],\n",
    "                            ['empty', 'empty', 'empty', 'empty', 'restore', 'red'])\n",
    "\n",
    "np.testing.assert_equal(test_prob, 1)"
   ],
   "metadata": {
    "collapsed": false,
    "pycharm": {
     "name": "#%%\n"
    }
   }
  },
  {
   "cell_type": "code",
   "execution_count": 75,
   "outputs": [],
   "source": [
    "def reward(action: int, last_prob: float) -> float:\n",
    "    if last_prob == 1:\n",
    "        return 0\n",
    "\n",
    "    rewards_dict = {0: 4, 1: 2, 2: 2, 3: 0}\n",
    "    return rewards_dict[action]"
   ],
   "metadata": {
    "collapsed": false,
    "pycharm": {
     "name": "#%%\n"
    }
   }
  },
  {
   "cell_type": "code",
   "execution_count": 76,
   "outputs": [],
   "source": [
    "def transition_and_reward_matrix():\n",
    "    transitions = []\n",
    "    rewards = []\n",
    "\n",
    "    for action in actions:\n",
    "        row = []\n",
    "        col = []\n",
    "        data = []\n",
    "\n",
    "        reward_vector = []\n",
    "\n",
    "        for id_from, from_state in enumerate(states):\n",
    "            for id_to, to_state in enumerate(states):\n",
    "                p = transition_prob(action, from_state, to_state)\n",
    "\n",
    "                if p > 0:\n",
    "                    row.append(id_from)\n",
    "                    col.append(id_to)\n",
    "                    data.append(p)\n",
    "\n",
    "            reward_vector.append(reward(action, data[-1]))\n",
    "\n",
    "        transitions.append(csr_matrix((data, (row, col)), shape=(num_states, num_states)))\n",
    "        rewards.append(reward_vector)\n",
    "\n",
    "    return transitions, np.array(rewards).T"
   ],
   "metadata": {
    "collapsed": false,
    "pycharm": {
     "name": "#%%\n"
    }
   }
  },
  {
   "cell_type": "code",
   "execution_count": 77,
   "outputs": [],
   "source": [
    "P, R = transition_and_reward_matrix()"
   ],
   "metadata": {
    "collapsed": false,
    "pycharm": {
     "name": "#%%\n"
    }
   }
  },
  {
   "cell_type": "code",
   "execution_count": 79,
   "outputs": [],
   "source": [
    "ones = np.zeros((4, num_states, num_states))\n",
    "for i, m in enumerate(P):\n",
    "    ones[i] = np.sum(np.array(m.toarray()), axis=1)\n",
    "\n",
    "np.testing.assert_array_equal(ones, np.ones_like(ones))"
   ],
   "metadata": {
    "collapsed": false,
    "pycharm": {
     "name": "#%%\n"
    }
   }
  },
  {
   "cell_type": "code",
   "execution_count": 80,
   "outputs": [],
   "source": [
    "np.testing.assert_array_equal(R.shape, (num_states, 4))"
   ],
   "metadata": {
    "collapsed": false,
    "pycharm": {
     "name": "#%%\n"
    }
   }
  },
  {
   "cell_type": "code",
   "execution_count": 81,
   "outputs": [
    {
     "data": {
      "text/plain": "(0,\n 0,\n 0,\n 0,\n 0,\n 0,\n 0,\n 0,\n 0,\n 0,\n 0,\n 0,\n 0,\n 0,\n 0,\n 0,\n 0,\n 0,\n 0,\n 0,\n 0,\n 0,\n 0,\n 0,\n 0,\n 0,\n 0,\n 0,\n 0,\n 0,\n 0,\n 0,\n 0,\n 0,\n 0,\n 0,\n 0,\n 0,\n 0,\n 0,\n 0,\n 0,\n 0,\n 0,\n 0,\n 0,\n 0,\n 0,\n 0,\n 0,\n 0,\n 0,\n 0,\n 0,\n 0,\n 0,\n 0,\n 0,\n 0,\n 0,\n 0,\n 0,\n 0,\n 0,\n 1,\n 1,\n 1,\n 1,\n 1,\n 1,\n 1,\n 1,\n 1,\n 1,\n 1,\n 1,\n 1,\n 1,\n 1,\n 1,\n 2,\n 2,\n 2,\n 2,\n 3,\n 0,\n 0,\n 0,\n 3,\n 0,\n 0,\n 0,\n 3,\n 0,\n 0,\n 0,\n 2,\n 2,\n 2,\n 2,\n 3,\n 0,\n 0,\n 0,\n 3,\n 0,\n 0,\n 0,\n 3,\n 0,\n 0,\n 0,\n 2,\n 2,\n 2,\n 2,\n 3,\n 0,\n 0,\n 0,\n 3,\n 0,\n 0,\n 0,\n 3,\n 0,\n 0,\n 0,\n 2,\n 1,\n 1,\n 1,\n 1,\n 1,\n 1,\n 1,\n 1,\n 1,\n 1,\n 1,\n 1,\n 1,\n 1,\n 1,\n 2,\n 2,\n 2,\n 2,\n 3,\n 0,\n 0,\n 0,\n 3,\n 0,\n 0,\n 0,\n 3,\n 0,\n 0,\n 0,\n 2,\n 2,\n 2,\n 2,\n 3,\n 0,\n 0,\n 0,\n 3,\n 0,\n 0,\n 0,\n 3,\n 0,\n 0,\n 0,\n 2,\n 2,\n 2,\n 2,\n 3,\n 0,\n 0,\n 0,\n 3,\n 0,\n 0,\n 0,\n 3,\n 0,\n 0,\n 0,\n 1,\n 2,\n 1,\n 1,\n 1,\n 1,\n 1,\n 1,\n 1,\n 1,\n 1,\n 1,\n 1,\n 1,\n 1,\n 1,\n 2,\n 2,\n 2,\n 2,\n 3,\n 0,\n 0,\n 0,\n 3,\n 0,\n 0,\n 0,\n 3,\n 0,\n 0,\n 0,\n 2,\n 2,\n 2,\n 2,\n 3,\n 0,\n 0,\n 0,\n 3,\n 0,\n 0,\n 0,\n 3,\n 0,\n 0,\n 0,\n 2,\n 2,\n 2,\n 2,\n 3,\n 0,\n 0,\n 0,\n 3,\n 0,\n 0,\n 0,\n 3,\n 0,\n 0,\n 0,\n 0,\n 0,\n 0,\n 0,\n 0,\n 0,\n 0,\n 0,\n 0,\n 0,\n 0,\n 0,\n 0,\n 0,\n 0,\n 0,\n 0,\n 0,\n 0,\n 0,\n 0,\n 0,\n 0,\n 0,\n 0,\n 0,\n 0,\n 0,\n 0,\n 0,\n 0,\n 0,\n 0,\n 0,\n 0,\n 0,\n 0,\n 0,\n 0,\n 0,\n 0,\n 0,\n 0,\n 0,\n 0,\n 0,\n 0,\n 0,\n 0,\n 0,\n 0,\n 0,\n 0,\n 0,\n 0,\n 0,\n 0,\n 0,\n 0,\n 0,\n 0,\n 0,\n 0,\n 0,\n 1,\n 1,\n 2,\n 1,\n 1,\n 1,\n 1,\n 1,\n 1,\n 1,\n 1,\n 1,\n 1,\n 1,\n 1,\n 1,\n 2,\n 2,\n 2,\n 2,\n 3,\n 0,\n 0,\n 0,\n 3,\n 0,\n 0,\n 0,\n 3,\n 0,\n 0,\n 0,\n 2,\n 2,\n 2,\n 2,\n 3,\n 0,\n 0,\n 0,\n 3,\n 0,\n 0,\n 0,\n 3,\n 0,\n 0,\n 0,\n 2,\n 2,\n 2,\n 2,\n 3,\n 0,\n 0,\n 0,\n 3,\n 0,\n 0,\n 0,\n 3,\n 0,\n 0,\n 0,\n 1,\n 2,\n 1,\n 1,\n 1,\n 1,\n 1,\n 1,\n 1,\n 1,\n 1,\n 1,\n 1,\n 1,\n 1,\n 1,\n 2,\n 2,\n 2,\n 2,\n 3,\n 0,\n 0,\n 0,\n 3,\n 0,\n 0,\n 0,\n 3,\n 0,\n 0,\n 0,\n 2,\n 2,\n 2,\n 2,\n 3,\n 0,\n 0,\n 0,\n 3,\n 0,\n 0,\n 0,\n 3,\n 0,\n 0,\n 0,\n 2,\n 2,\n 2,\n 2,\n 3,\n 0,\n 0,\n 0,\n 3,\n 0,\n 0,\n 0,\n 3,\n 0,\n 0,\n 0,\n 1,\n 1,\n 2,\n 2,\n 1,\n 1,\n 1,\n 1,\n 1,\n 1,\n 1,\n 1,\n 1,\n 1,\n 1,\n 1,\n 2,\n 2,\n 2,\n 2,\n 3,\n 0,\n 0,\n 0,\n 3,\n 0,\n 0,\n 0,\n 3,\n 0,\n 0,\n 0,\n 2,\n 2,\n 2,\n 2,\n 3,\n 0,\n 0,\n 0,\n 3,\n 0,\n 0,\n 0,\n 3,\n 0,\n 0,\n 0,\n 2,\n 2,\n 2,\n 2,\n 3,\n 0,\n 0,\n 0,\n 3,\n 0,\n 0,\n 0,\n 3,\n 0,\n 0,\n 0,\n 0,\n 0,\n 0,\n 0,\n 0,\n 0,\n 0,\n 0,\n 0,\n 0,\n 0,\n 0,\n 0,\n 0,\n 0,\n 0,\n 0,\n 0,\n 0,\n 0,\n 0,\n 0,\n 0,\n 0,\n 0,\n 0,\n 0,\n 0,\n 0,\n 0,\n 0,\n 0,\n 0,\n 0,\n 0,\n 0,\n 0,\n 0,\n 0,\n 0,\n 0,\n 0,\n 0,\n 0,\n 0,\n 0,\n 0,\n 0,\n 0,\n 0,\n 0,\n 0,\n 0,\n 0,\n 0,\n 0,\n 0,\n 0,\n 0,\n 0,\n 0,\n 0,\n 0,\n 0,\n 2,\n 1,\n 2,\n 1,\n 1,\n 1,\n 1,\n 1,\n 1,\n 1,\n 1,\n 1,\n 1,\n 1,\n 1,\n 1,\n 2,\n 2,\n 2,\n 2,\n 3,\n 0,\n 0,\n 0,\n 3,\n 0,\n 0,\n 0,\n 3,\n 0,\n 0,\n 0,\n 2,\n 2,\n 2,\n 2,\n 3,\n 0,\n 0,\n 0,\n 3,\n 0,\n 0,\n 0,\n 3,\n 0,\n 0,\n 0,\n 2,\n 2,\n 2,\n 2,\n 3,\n 0,\n 0,\n 0,\n 3,\n 0,\n 0,\n 0,\n 3,\n 0,\n 0,\n 0,\n 2,\n 1,\n 1,\n 1,\n 1,\n 1,\n 1,\n 1,\n 1,\n 1,\n 1,\n 1,\n 1,\n 1,\n 1,\n 1,\n 2,\n 2,\n 2,\n 2,\n 3,\n 0,\n 0,\n 0,\n 3,\n 0,\n 0,\n 0,\n 3,\n 0,\n 0,\n 0,\n 2,\n 2,\n 2,\n 2,\n 3,\n 0,\n 0,\n 0,\n 3,\n 0,\n 0,\n 0,\n 3,\n 0,\n 0,\n 0,\n 2,\n 2,\n 2,\n 2,\n 3,\n 0,\n 0,\n 0,\n 3,\n 0,\n 0,\n 0,\n 3,\n 0,\n 0,\n 0,\n 2,\n 2,\n 2,\n 1,\n 1,\n 1,\n 1,\n 1,\n 1,\n 1,\n 1,\n 1,\n 1,\n 1,\n 1,\n 1,\n 2,\n 2,\n 2,\n 2,\n 3,\n 0,\n 0,\n 0,\n 3,\n 0,\n 0,\n 0,\n 3,\n 0,\n 0,\n 0,\n 2,\n 2,\n 2,\n 2,\n 3,\n 0,\n 0,\n 0,\n 3,\n 0,\n 0,\n 0,\n 3,\n 0,\n 0,\n 0,\n 2,\n 2,\n 2,\n 2,\n 3,\n 0,\n 0,\n 0,\n 3,\n 0,\n 0,\n 0,\n 3,\n 0,\n 0,\n 0,\n 0,\n 3,\n 0,\n 0,\n 2,\n 2,\n 2,\n 2,\n 0,\n 3,\n 0,\n 0,\n 0,\n 3,\n 0,\n 0,\n 1,\n 1,\n 1,\n 1,\n 1,\n 1,\n 2,\n 2,\n 1,\n 1,\n 1,\n 1,\n 1,\n 1,\n 1,\n 1,\n 0,\n 3,\n 0,\n 0,\n 2,\n 2,\n 2,\n 2,\n 0,\n 3,\n 0,\n 0,\n 0,\n 3,\n 0,\n 0,\n 0,\n 3,\n 0,\n 0,\n 2,\n 2,\n 2,\n 2,\n 0,\n 3,\n 0,\n 0,\n 0,\n 3,\n 0,\n 0,\n 0,\n 0,\n 0,\n 0,\n 0,\n 0,\n 0,\n 0,\n 0,\n 0,\n 0,\n 0,\n 0,\n 0,\n 0,\n 0,\n 0,\n 0,\n 0,\n 0,\n 0,\n 0,\n 0,\n 0,\n 0,\n 0,\n 0,\n 0,\n 0,\n 0,\n 0,\n 0,\n 0,\n 0,\n 0,\n 0,\n 0,\n 0,\n 0,\n 0,\n 0,\n 0,\n 0,\n 0,\n 0,\n 0,\n 0,\n 0,\n 0,\n 0,\n 0,\n 0,\n 0,\n 0,\n 0,\n 0,\n 0,\n 0,\n 0,\n 0,\n 0,\n 0,\n 0,\n 0,\n 0,\n 3,\n 0,\n 0,\n 2,\n 2,\n 2,\n 2,\n 0,\n 3,\n 0,\n 0,\n 0,\n 3,\n 0,\n 0,\n 1,\n 1,\n 1,\n 1,\n 1,\n 2,\n 1,\n 1,\n 1,\n 1,\n 1,\n 1,\n 1,\n 1,\n 1,\n 1,\n 0,\n 3,\n 0,\n 0,\n 2,\n 2,\n 2,\n 2,\n 0,\n 3,\n 0,\n 0,\n 0,\n 3,\n 0,\n 0,\n 0,\n 3,\n 0,\n 0,\n 2,\n 2,\n 2,\n 2,\n 0,\n 3,\n 0,\n 0,\n 0,\n 3,\n 0,\n 0,\n 0,\n 3,\n 0,\n 0,\n 2,\n 2,\n 2,\n 2,\n 0,\n 3,\n 0,\n 0,\n 0,\n 3,\n 0,\n 0,\n 1,\n 1,\n 1,\n 1,\n 2,\n 1,\n 1,\n 2,\n 1,\n 1,\n 1,\n 1,\n 1,\n 1,\n 1,\n 1,\n 0,\n 3,\n 0,\n 0,\n 2,\n 2,\n 2,\n 2,\n ...)"
     },
     "execution_count": 81,
     "metadata": {},
     "output_type": "execute_result"
    }
   ],
   "source": [
    "pi = mdp.PolicyIteration(P, R, 0.9)\n",
    "pi.run()\n",
    "pi.policy"
   ],
   "metadata": {
    "collapsed": false,
    "pycharm": {
     "name": "#%%\n"
    }
   }
  },
  {
   "cell_type": "code",
   "execution_count": 82,
   "outputs": [
    {
     "name": "stdout",
     "output_type": "stream",
     "text": [
      "1536\n"
     ]
    }
   ],
   "source": [
    "policy = pi.policy\n",
    "print(len(policy))\n",
    "\n"
   ],
   "metadata": {
    "collapsed": false,
    "pycharm": {
     "name": "#%%\n"
    }
   }
  }
 ],
 "metadata": {
  "kernelspec": {
   "display_name": "Python 3",
   "language": "python",
   "name": "python3"
  },
  "language_info": {
   "codemirror_mode": {
    "name": "ipython",
    "version": 2
   },
   "file_extension": ".py",
   "mimetype": "text/x-python",
   "name": "python",
   "nbconvert_exporter": "python",
   "pygments_lexer": "ipython2",
   "version": "2.7.6"
  }
 },
 "nbformat": 4,
 "nbformat_minor": 0
}