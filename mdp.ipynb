{
 "cells": [
  {
   "cell_type": "code",
   "execution_count": 174,
   "metadata": {
    "collapsed": true
   },
   "outputs": [],
   "source": [
    "from typing import List, Dict\n",
    "\n",
    "import numpy as np\n",
    "from mdptoolbox import mdp\n",
    "from itertools import product, repeat\n",
    "from functools import reduce\n",
    "from operator import iconcat\n",
    "from scipy.sparse import csr_matrix\n",
    "\n",
    "from copy import deepcopy"
   ]
  },
  {
   "cell_type": "code",
   "execution_count": 175,
   "outputs": [],
   "source": [
    "# data\n",
    "field_content = ['empty', 'white', 'blue', 'red']\n",
    "task = ['store', 'restore']\n",
    "item = ['white', 'blue', 'red']\n",
    "task_and_item = [['store', 'white'], ['store', 'blue'], ['store', 'red'],\n",
    "                 ['restore', 'white'], ['restore', 'blue'], ['restore', 'red']]\n",
    "actions = [0, 1, 2, 3]\n",
    "\n",
    "\"\"\"\n",
    "2x2 warehouse with reward/distance at every position:\n",
    "\n",
    "                [3/4 1/6]\n",
    "in/out_item ->  [5/2 3/4]\n",
    "\"\"\"\n",
    "rewards_dict = {0: 5, 1: 3, 2: 3, 3: 1}\n",
    "dist_dict = {0: 2, 1: 4, 2: 4, 3: 6}"
   ],
   "metadata": {
    "collapsed": false,
    "pycharm": {
     "name": "#%%\n"
    }
   }
  },
  {
   "cell_type": "code",
   "execution_count": 176,
   "outputs": [
    {
     "name": "stdout",
     "output_type": "stream",
     "text": [
      "{'store_white': 0.1278493557978196, 'store_blue': 0.12528906508093823, 'store_red': 0.24686157912124215, 'restore_white': 0.1278493557978196, 'restore_blue': 0.12528906508093823, 'restore_red': 0.24686157912124215}\n"
     ]
    }
   ],
   "source": [
    "def probabilities_from_data() -> Dict:\n",
    "    f = open('trainingdata.txt', 'r')\n",
    "\n",
    "    color_and_tasks = []\n",
    "    line = f.readline()\n",
    "    while line:\n",
    "        color_and_tasks.append(line.split())\n",
    "        line = f.readline()\n",
    "\n",
    "    total_length = len(color_and_tasks)\n",
    "\n",
    "    p_store_white = len([cur for cur in color_and_tasks if cur == ['store', 'white']]) / total_length\n",
    "    p_store_blue = len([cur for cur in color_and_tasks if cur == ['store', 'blue']]) / total_length\n",
    "    p_store_red = len([cur for cur in color_and_tasks if cur == ['store', 'red']]) / total_length\n",
    "    p_restore_white = len([cur for cur in color_and_tasks if cur == ['restore', 'white']]) / total_length\n",
    "    p_restore_blue = len([cur for cur in color_and_tasks if cur == ['restore', 'blue']]) / total_length\n",
    "    p_restore_red = len([cur for cur in color_and_tasks if cur == ['restore', 'red']]) / total_length\n",
    "\n",
    "    np.testing.assert_equal(p_store_white + p_store_blue + p_store_red + p_restore_white + p_restore_blue + p_restore_red,\n",
    "                            1)\n",
    "\n",
    "    return {'store_white': p_store_white,\n",
    "            'store_blue': p_store_blue,\n",
    "            'store_red': p_store_red,\n",
    "            'restore_white': p_restore_white,\n",
    "            'restore_blue': p_restore_blue,\n",
    "            'restore_red': p_restore_red}\n",
    "\n",
    "\n",
    "probs = probabilities_from_data()\n",
    "print(probs)"
   ],
   "metadata": {
    "collapsed": false,
    "pycharm": {
     "name": "#%%\n"
    }
   }
  },
  {
   "cell_type": "code",
   "execution_count": 177,
   "outputs": [],
   "source": [
    "def all_repeat() -> List:\n",
    "    \"\"\"\n",
    "    Computes all permutations of items with repetitions\n",
    "\n",
    "    :return: permutations of items with repetitions\n",
    "    \"\"\"\n",
    "    result = []\n",
    "    for c in product(field_content, repeat=4):\n",
    "        comb = [c[0], c[1], c[2], c[3]]\n",
    "        result.append(comb)\n",
    "\n",
    "    result = list(repeat(result, 6))\n",
    "    result = list(map(list, zip(result, task_and_item)))\n",
    "\n",
    "    for i in range(len(result)):\n",
    "        result[i] = [elem + result[i][1] for elem in result[i][0]]\n",
    "\n",
    "    result = reduce(iconcat, result, [])\n",
    "\n",
    "    return result"
   ],
   "metadata": {
    "collapsed": false,
    "pycharm": {
     "name": "#%%\n"
    }
   }
  },
  {
   "cell_type": "code",
   "execution_count": 178,
   "outputs": [],
   "source": [
    "states = all_repeat()\n",
    "num_states = len(states)\n",
    "\n",
    "# check if all elements are unique.\n",
    "np.testing.assert_equal(len(list(set(map(tuple, states)))), num_states)"
   ],
   "metadata": {
    "collapsed": false,
    "pycharm": {
     "name": "#%%\n"
    }
   }
  },
  {
   "cell_type": "code",
   "execution_count": 179,
   "outputs": [],
   "source": [
    "def field_content_equals(from_state: list, to_state: list) -> bool:\n",
    "    return from_state[:4] == to_state[:4]"
   ],
   "metadata": {
    "collapsed": false,
    "pycharm": {
     "name": "#%%\n"
    }
   }
  },
  {
   "cell_type": "code",
   "execution_count": 180,
   "outputs": [],
   "source": [
    "def transition_prob(action: int, from_state: list, to_state: list) -> float:\n",
    "    copy_from_state = deepcopy(from_state)\n",
    "    next_item = to_state[-1]\n",
    "\n",
    "    if copy_from_state[4] == 'store':\n",
    "        if copy_from_state[action] != 'empty':\n",
    "            return 1 if from_state == to_state else 0\n",
    "\n",
    "        # from_state = [empty empty red empty] -> [red empty red empty]\n",
    "        # to_state = [red empty red empty]\n",
    "        copy_from_state[action] = copy_from_state[-1]\n",
    "        return probs['store_' + next_item] if field_content_equals(copy_from_state, to_state) else 0\n",
    "    elif copy_from_state[4] == 'restore':\n",
    "        if copy_from_state[action] != copy_from_state[-1]:\n",
    "            return 1 if from_state == to_state else 0\n",
    "\n",
    "        copy_from_state[action] = 'empty'\n",
    "        return probs['restore_' + next_item] if field_content_equals(copy_from_state, to_state) else 0\n",
    "\n",
    "    return 0"
   ],
   "metadata": {
    "collapsed": false,
    "pycharm": {
     "name": "#%%\n"
    }
   }
  },
  {
   "cell_type": "code",
   "execution_count": 181,
   "outputs": [],
   "source": [
    "test_prob = transition_prob(0, ['empty', 'empty', 'empty', 'empty', 'restore', 'red'],\n",
    "                            ['empty', 'empty', 'empty', 'empty', 'restore', 'red'])\n",
    "\n",
    "np.testing.assert_equal(test_prob, 1)"
   ],
   "metadata": {
    "collapsed": false,
    "pycharm": {
     "name": "#%%\n"
    }
   }
  },
  {
   "cell_type": "code",
   "execution_count": 182,
   "outputs": [],
   "source": [
    "def reward(action: int, to_state: List) -> float:\n",
    "    if to_state[action] == 'empty':\n",
    "        return rewards_dict[action]\n",
    "\n",
    "    return 0"
   ],
   "metadata": {
    "collapsed": false,
    "pycharm": {
     "name": "#%%\n"
    }
   }
  },
  {
   "cell_type": "code",
   "execution_count": 183,
   "outputs": [],
   "source": [
    "def transition_and_reward_matrix():\n",
    "    transitions = []\n",
    "    rewards = []\n",
    "\n",
    "    for action in actions:\n",
    "        row = []\n",
    "        col = []\n",
    "        data = []\n",
    "\n",
    "        reward_vector = []\n",
    "\n",
    "        for id_from, from_state in enumerate(states):\n",
    "            for id_to, to_state in enumerate(states):\n",
    "                p = transition_prob(action, from_state, to_state)\n",
    "\n",
    "                if p > 0:\n",
    "                    row.append(id_from)\n",
    "                    col.append(id_to)\n",
    "                    data.append(p)\n",
    "\n",
    "            reward_vector.append(reward(action, to_state))\n",
    "\n",
    "        transitions.append(csr_matrix((data, (row, col)), shape=(num_states, num_states)))\n",
    "        rewards.append(reward_vector)\n",
    "\n",
    "    return transitions, np.array(rewards).T"
   ],
   "metadata": {
    "collapsed": false,
    "pycharm": {
     "name": "#%%\n"
    }
   }
  },
  {
   "cell_type": "code",
   "execution_count": 184,
   "outputs": [],
   "source": [
    "P, R = transition_and_reward_matrix()"
   ],
   "metadata": {
    "collapsed": false,
    "pycharm": {
     "name": "#%%\n"
    }
   }
  },
  {
   "cell_type": "code",
   "execution_count": 185,
   "outputs": [
    {
     "data": {
      "text/plain": "array([[0, 0, 0, 0],\n       [0, 0, 0, 0],\n       [0, 0, 0, 0],\n       ...,\n       [0, 0, 0, 0],\n       [0, 0, 0, 0],\n       [0, 0, 0, 0]])"
     },
     "execution_count": 185,
     "metadata": {},
     "output_type": "execute_result"
    }
   ],
   "source": [
    "R"
   ],
   "metadata": {
    "collapsed": false,
    "pycharm": {
     "name": "#%%\n"
    }
   }
  },
  {
   "cell_type": "code",
   "execution_count": 186,
   "outputs": [],
   "source": [
    "ones = np.zeros((4, num_states))\n",
    "for i, m in enumerate(P):\n",
    "    ones[i] = np.sum(np.array(m.toarray()), axis=1)\n",
    "\n",
    "test = ones[0]\n",
    "test = np.reshape(test, (32, -1))\n",
    "np.testing.assert_array_almost_equal(ones, np.ones_like(ones))"
   ],
   "metadata": {
    "collapsed": false,
    "pycharm": {
     "name": "#%%\n"
    }
   }
  },
  {
   "cell_type": "code",
   "execution_count": 187,
   "outputs": [],
   "source": [
    "np.testing.assert_array_equal(R.shape, (num_states, 4))"
   ],
   "metadata": {
    "collapsed": false,
    "pycharm": {
     "name": "#%%\n"
    }
   }
  },
  {
   "cell_type": "code",
   "execution_count": 188,
   "outputs": [],
   "source": [
    "algorithms = [mdp.PolicyIteration, mdp.PolicyIterationModified]\n",
    "discounts = [0.3, 0.5, 0.7, 0.9]\n",
    "\n",
    "policies = []\n",
    "for alg in algorithms:\n",
    "    for d in discounts:\n",
    "        pass\n",
    "        # pi = alg(P, R, d)\n",
    "        # pi.run()\n",
    "\n",
    "        # policies.append(pi.policy)"
   ],
   "metadata": {
    "collapsed": false,
    "pycharm": {
     "name": "#%%\n"
    }
   }
  },
  {
   "cell_type": "code",
   "execution_count": 189,
   "outputs": [],
   "source": [
    "pi = mdp.PolicyIteration(P, R, 0.3)\n",
    "pi.run()"
   ],
   "metadata": {
    "collapsed": false,
    "pycharm": {
     "name": "#%%\n"
    }
   }
  },
  {
   "cell_type": "code",
   "execution_count": 190,
   "outputs": [
    {
     "name": "stdout",
     "output_type": "stream",
     "text": [
      "1536\n"
     ]
    }
   ],
   "source": [
    "result_policy = pi.policy\n",
    "print(len(result_policy))"
   ],
   "metadata": {
    "collapsed": false,
    "pycharm": {
     "name": "#%%\n"
    }
   }
  },
  {
   "cell_type": "code",
   "execution_count": 191,
   "outputs": [],
   "source": [
    "def next_comb_mdp(cur_comb: List, state_index: int, policy: tuple) -> List:\n",
    "    action = policy[state_index]\n",
    "    result = cur_comb[:4]\n",
    "    cur_task = cur_comb[4]\n",
    "    cur_item = cur_comb[-1]\n",
    "\n",
    "    if cur_task == 'store':\n",
    "        result[action] = cur_item\n",
    "    elif cur_task == 'restore':\n",
    "        result[action] = 'empty'\n",
    "\n",
    "    return result"
   ],
   "metadata": {
    "collapsed": false,
    "pycharm": {
     "name": "#%%\n"
    }
   }
  },
  {
   "cell_type": "code",
   "execution_count": 192,
   "outputs": [],
   "source": [
    "def distance_mdp(warehouse_input: List[tuple], policy: tuple) -> float:\n",
    "    cur_comb = ['empty', 'empty', 'empty', 'empty']\n",
    "    total_reward = 0\n",
    "\n",
    "    for cur_task, cur_item in warehouse_input:\n",
    "        cur_comb.append(cur_task)\n",
    "        cur_comb.append(cur_item)\n",
    "\n",
    "        state_index = states.index(cur_comb)\n",
    "\n",
    "        cur_comb = next_comb_mdp(cur_comb, state_index, policy)\n",
    "        total_reward += dist_dict[policy[state_index]]\n",
    "\n",
    "    return total_reward"
   ],
   "metadata": {
    "collapsed": false,
    "pycharm": {
     "name": "#%%\n"
    }
   }
  },
  {
   "cell_type": "code",
   "execution_count": 193,
   "outputs": [],
   "source": [
    "def next_comb_greedy(cur_comb: List) -> List:\n",
    "    result = cur_comb[:4]\n",
    "    cur_task = cur_comb[4]\n",
    "    cur_item = cur_comb[-1]\n",
    "\n",
    "    if cur_task == 'store':\n",
    "        for action, field in enumerate(result):\n",
    "            if field == 'empty':\n",
    "                result[action] = cur_item\n",
    "                return result, action\n",
    "\n",
    "    elif cur_task == 'restore':\n",
    "        for action, field in enumerate(result):\n",
    "            if field == cur_item:\n",
    "                result[action] = 'empty'\n",
    "                return result, action\n",
    "\n",
    "    return result, 0"
   ],
   "metadata": {
    "collapsed": false,
    "pycharm": {
     "name": "#%%\n"
    }
   }
  },
  {
   "cell_type": "code",
   "execution_count": 194,
   "outputs": [],
   "source": [
    "def distance_greedy(warehouse_input: List[tuple]) -> float:\n",
    "    cur_comb = ['empty', 'empty', 'empty', 'empty']\n",
    "    total_reward = 0\n",
    "\n",
    "    for cur_task, cur_item in warehouse_input:\n",
    "        cur_comb.append(cur_task)\n",
    "        cur_comb.append(cur_item)\n",
    "\n",
    "        cur_comb, action = next_comb_greedy(cur_comb)\n",
    "        total_reward += dist_dict[action]\n",
    "\n",
    "    return total_reward"
   ],
   "metadata": {
    "collapsed": false,
    "pycharm": {
     "name": "#%%\n"
    }
   }
  },
  {
   "cell_type": "code",
   "execution_count": 195,
   "outputs": [
    {
     "name": "stdout",
     "output_type": "stream",
     "text": [
      "[('store', 'red'), ('store', 'blue'), ('store', 'white'), ('restore', 'blue'), ('restore', 'white'), ('store', 'white'), ('store', 'red'), ('store', 'white'), ('store', 'red'), ('restore', 'red'), ('restore', 'red'), ('store', 'white'), ('store', 'blue'), ('store', 'white'), ('restore', 'red'), ('restore', 'white'), ('restore', 'white'), ('store', 'red'), ('store', 'blue'), ('restore', 'red'), ('store', 'blue'), ('store', 'white'), ('restore', 'white'), ('restore', 'blue'), ('restore', 'white'), ('restore', 'white'), ('restore', 'blue'), ('restore', 'blue'), ('store', 'red'), ('restore', 'red'), ('store', 'red'), ('store', 'white'), ('store', 'red'), ('store', 'red'), ('store', 'white'), ('store', 'white'), ('restore', 'red'), ('restore', 'red'), ('restore', 'red'), ('store', 'red'), ('restore', 'white'), ('restore', 'red'), ('restore', 'white'), ('store', 'red'), ('store', 'red'), ('store', 'white'), ('store', 'white'), ('store', 'blue'), ('restore', 'red'), ('restore', 'red'), ('restore', 'white'), ('restore', 'blue'), ('restore', 'white'), ('restore', 'white'), ('store', 'blue'), ('store', 'white'), ('store', 'white'), ('restore', 'blue'), ('restore', 'white'), ('restore', 'white')]\n"
     ]
    }
   ],
   "source": [
    "def data_to_warehouse_input() -> List[tuple]:\n",
    "    f = open('testingdata.txt', 'r')\n",
    "\n",
    "    result = []\n",
    "    line = f.readline()\n",
    "    while line:\n",
    "        result.append(tuple(line.split()))\n",
    "        line = f.readline()\n",
    "\n",
    "    return result\n",
    "\n",
    "\n",
    "w_input = data_to_warehouse_input()\n",
    "print(w_input)"
   ],
   "metadata": {
    "collapsed": false,
    "pycharm": {
     "name": "#%%\n"
    }
   }
  },
  {
   "cell_type": "code",
   "execution_count": 196,
   "outputs": [
    {
     "name": "stdout",
     "output_type": "stream",
     "text": [
      "120\n",
      "192\n"
     ]
    }
   ],
   "source": [
    "for policy in policies:\n",
    "    print(distance_mdp(w_input, policy))\n",
    "\n",
    "print(distance_mdp(w_input, result_policy))\n",
    "print(distance_greedy(w_input))"
   ],
   "metadata": {
    "collapsed": false,
    "pycharm": {
     "name": "#%%\n"
    }
   }
  }
 ],
 "metadata": {
  "kernelspec": {
   "display_name": "Python 3",
   "language": "python",
   "name": "python3"
  },
  "language_info": {
   "codemirror_mode": {
    "name": "ipython",
    "version": 2
   },
   "file_extension": ".py",
   "mimetype": "text/x-python",
   "name": "python",
   "nbconvert_exporter": "python",
   "pygments_lexer": "ipython2",
   "version": "2.7.6"
  }
 },
 "nbformat": 4,
 "nbformat_minor": 0
}