{
 "cells": [
  {
   "cell_type": "code",
   "execution_count": 321,
   "metadata": {
    "collapsed": true
   },
   "outputs": [],
   "source": [
    "from typing import List, Dict\n",
    "\n",
    "import numpy as np\n",
    "from mdptoolbox import mdp\n",
    "from itertools import product, repeat\n",
    "from functools import reduce\n",
    "from operator import iconcat\n",
    "from scipy.sparse import csr_matrix\n",
    "\n",
    "from copy import deepcopy"
   ]
  },
  {
   "cell_type": "code",
   "execution_count": 322,
   "outputs": [],
   "source": [
    "# data\n",
    "field_content = ['empty', 'white', 'blue', 'red']\n",
    "task = ['store', 'restore']\n",
    "item = ['white', 'blue', 'red']\n",
    "task_and_item = [['store', 'white'], ['store', 'blue'], ['store', 'red'],\n",
    "                 ['restore', 'white'], ['restore', 'blue'], ['restore', 'red']]\n",
    "actions = [0, 1, 2, 3]\n",
    "\n",
    "\"\"\"\n",
    "2x2 warehouse with reward/distance at every position:\n",
    "\n",
    "                [3/4 1/6]\n",
    "in/out_item ->  [5/2 3/4]\n",
    "\"\"\"\n",
    "rewards_dict = {0: 5, 1: 3, 2: 3, 3: 1}\n",
    "dist_dict = {0: 2, 1: 4, 2: 4, 3: 6}"
   ],
   "metadata": {
    "collapsed": false,
    "pycharm": {
     "name": "#%%\n"
    }
   }
  },
  {
   "cell_type": "code",
   "execution_count": 323,
   "outputs": [
    {
     "name": "stdout",
     "output_type": "stream",
     "text": [
      "{'store_white': 0.1278493557978196, 'store_blue': 0.12528906508093823, 'store_red': 0.24686157912124215, 'restore_white': 0.1278493557978196, 'restore_blue': 0.12528906508093823, 'restore_red': 0.24686157912124215}\n"
     ]
    }
   ],
   "source": [
    "def probabilities_from_data() -> Dict:\n",
    "    \"\"\"\n",
    "    Returns a dictionary containing the relative frequencies of every task/item combination of trainingdata.txt.\n",
    "    \"\"\"\n",
    "\n",
    "    # read in data\n",
    "    f = open('trainingdata.txt', 'r')\n",
    "\n",
    "    # convert every line to [<task>, <item>] array and store in color_and_tasks.\n",
    "    color_and_tasks = []\n",
    "    line = f.readline()\n",
    "    while line:\n",
    "        color_and_tasks.append(line.split())\n",
    "        line = f.readline()\n",
    "\n",
    "    total_length = len(color_and_tasks)\n",
    "\n",
    "    # compute relative frequencies.\n",
    "    p_store_white = len([cur for cur in color_and_tasks if cur == ['store', 'white']]) / total_length\n",
    "    p_store_blue = len([cur for cur in color_and_tasks if cur == ['store', 'blue']]) / total_length\n",
    "    p_store_red = len([cur for cur in color_and_tasks if cur == ['store', 'red']]) / total_length\n",
    "    p_restore_white = len([cur for cur in color_and_tasks if cur == ['restore', 'white']]) / total_length\n",
    "    p_restore_blue = len([cur for cur in color_and_tasks if cur == ['restore', 'blue']]) / total_length\n",
    "    p_restore_red = len([cur for cur in color_and_tasks if cur == ['restore', 'red']]) / total_length\n",
    "\n",
    "    # check if relative frequencies sum up to 1.\n",
    "    np.testing.assert_equal(p_store_white + p_store_blue + p_store_red + p_restore_white + p_restore_blue + p_restore_red,\n",
    "                            1)\n",
    "\n",
    "    # store in dictionary.\n",
    "    return {'store_white': p_store_white,\n",
    "            'store_blue': p_store_blue,\n",
    "            'store_red': p_store_red,\n",
    "            'restore_white': p_restore_white,\n",
    "            'restore_blue': p_restore_blue,\n",
    "            'restore_red': p_restore_red}\n",
    "\n",
    "probs = probabilities_from_data()\n",
    "print(probs)"
   ],
   "metadata": {
    "collapsed": false,
    "pycharm": {
     "name": "#%%\n"
    }
   }
  },
  {
   "cell_type": "code",
   "execution_count": 324,
   "outputs": [],
   "source": [
    "def get_states() -> List[str]:\n",
    "    \"\"\"\n",
    "    Computes and returns the states. A state has the form\n",
    "\n",
    "    [<field_content>[0], <field_content>[1], <field_content>[2], <field_content>[3], <task>, <item>]\n",
    "\n",
    "    and represents an <item> to be stored/restored (represented by <task>) in the warehouse\n",
    "\n",
    "    [<field_content>[2] <field_content>[3]]\n",
    "    [<field_content>[0] <field_content>[1]].\n",
    "    \"\"\"\n",
    "    return list(product(field_content, field_content, field_content, field_content, task, item))"
   ],
   "metadata": {
    "collapsed": false,
    "pycharm": {
     "name": "#%%\n"
    }
   }
  },
  {
   "cell_type": "code",
   "execution_count": 325,
   "outputs": [
    {
     "name": "stdout",
     "output_type": "stream",
     "text": [
      "('empty', 'empty', 'empty', 'empty', 'store', 'white')\n",
      "('white', 'empty', 'empty', 'empty', 'store', 'white')\n",
      "('white', 'empty', 'empty', 'empty', 'store', 'blue')\n",
      "('white', 'empty', 'empty', 'empty', 'store', 'red')\n",
      "('white', 'empty', 'empty', 'empty', 'restore', 'white')\n",
      "('white', 'empty', 'empty', 'empty', 'restore', 'blue')\n",
      "('white', 'empty', 'empty', 'empty', 'restore', 'red')\n"
     ]
    }
   ],
   "source": [
    "states = get_states()\n",
    "num_states = len(states)\n",
    "\n",
    "# check if all elements are unique.\n",
    "np.testing.assert_equal(len(list(set(states))), num_states)\n",
    "print(states[0])\n",
    "for state in states[384:390]:\n",
    "    print(state)"
   ],
   "metadata": {
    "collapsed": false,
    "pycharm": {
     "name": "#%%\n"
    }
   }
  },
  {
   "cell_type": "code",
   "execution_count": 326,
   "outputs": [],
   "source": [
    "def field_content_equals(from_state: list, to_state: list) -> bool:\n",
    "    return from_state[:4] == to_state[:4]"
   ],
   "metadata": {
    "collapsed": false,
    "pycharm": {
     "name": "#%%\n"
    }
   }
  },
  {
   "cell_type": "code",
   "execution_count": 327,
   "outputs": [],
   "source": [
    "def transition_prob(action: int, from_state: list, to_state: list) -> float:\n",
    "    copy_from_state = list(from_state)\n",
    "    next_item = to_state[-1]\n",
    "\n",
    "    if copy_from_state[4] == 'store':\n",
    "        if copy_from_state[action] != 'empty':\n",
    "            return 1 if from_state == to_state else 0\n",
    "\n",
    "        copy_from_state[action] = copy_from_state[-1]\n",
    "        return probs['store_' + next_item] if field_content_equals(copy_from_state, list(to_state)) else 0\n",
    "    elif copy_from_state[4] == 'restore':\n",
    "        if copy_from_state[action] != copy_from_state[-1]:\n",
    "            return 1 if from_state == to_state else 0\n",
    "\n",
    "        copy_from_state[action] = 'empty'\n",
    "        return probs['restore_' + next_item] if field_content_equals(copy_from_state, list(to_state)) else 0\n",
    "\n",
    "    return 0"
   ],
   "metadata": {
    "collapsed": false,
    "pycharm": {
     "name": "#%%\n"
    }
   }
  },
  {
   "cell_type": "code",
   "execution_count": 328,
   "outputs": [],
   "source": [
    "test_prob = transition_prob(0, ['empty', 'empty', 'empty', 'empty', 'restore', 'red'],\n",
    "                            ['empty', 'empty', 'empty', 'empty', 'restore', 'red'])\n",
    "\n",
    "np.testing.assert_equal(test_prob, 1)"
   ],
   "metadata": {
    "collapsed": false,
    "pycharm": {
     "name": "#%%\n"
    }
   }
  },
  {
   "cell_type": "code",
   "execution_count": 329,
   "outputs": [],
   "source": [
    "def reward(action: int, to_state: List) -> float:\n",
    "    if to_state[action] == 'empty':\n",
    "        return rewards_dict[action]\n",
    "\n",
    "    return 0"
   ],
   "metadata": {
    "collapsed": false,
    "pycharm": {
     "name": "#%%\n"
    }
   }
  },
  {
   "cell_type": "code",
   "execution_count": 330,
   "outputs": [],
   "source": [
    "def transition_and_reward_matrix():\n",
    "    transitions = []\n",
    "    rewards = []\n",
    "\n",
    "    for action in actions:\n",
    "        row = []\n",
    "        col = []\n",
    "        data = []\n",
    "\n",
    "        reward_vector = []\n",
    "\n",
    "        for id_from, from_state in enumerate(states):\n",
    "            for id_to, to_state in enumerate(states):\n",
    "                p = transition_prob(action, from_state, to_state)\n",
    "\n",
    "                if p > 0:\n",
    "                    row.append(id_from)\n",
    "                    col.append(id_to)\n",
    "                    data.append(p)\n",
    "\n",
    "            reward_vector.append(reward(action, to_state))\n",
    "\n",
    "        transitions.append(csr_matrix((data, (row, col)), shape=(num_states, num_states)))\n",
    "        rewards.append(reward_vector)\n",
    "\n",
    "    return transitions, np.array(rewards).T"
   ],
   "metadata": {
    "collapsed": false,
    "pycharm": {
     "name": "#%%\n"
    }
   }
  },
  {
   "cell_type": "code",
   "execution_count": 331,
   "outputs": [],
   "source": [
    "P, R = transition_and_reward_matrix()"
   ],
   "metadata": {
    "collapsed": false,
    "pycharm": {
     "name": "#%%\n"
    }
   }
  },
  {
   "cell_type": "code",
   "execution_count": 332,
   "outputs": [
    {
     "data": {
      "text/plain": "array([[0., 0., 0., ..., 0., 0., 0.],\n       [0., 0., 0., ..., 0., 0., 0.],\n       [0., 0., 0., ..., 0., 0., 0.],\n       ...,\n       [0., 0., 0., ..., 1., 0., 0.],\n       [0., 0., 0., ..., 0., 1., 0.],\n       [0., 0., 0., ..., 0., 0., 0.]])"
     },
     "execution_count": 332,
     "metadata": {},
     "output_type": "execute_result"
    }
   ],
   "source": [
    "P[0].toarray()"
   ],
   "metadata": {
    "collapsed": false,
    "pycharm": {
     "name": "#%%\n"
    }
   }
  },
  {
   "cell_type": "code",
   "execution_count": 333,
   "outputs": [
    {
     "data": {
      "text/plain": "array([[0, 0, 0, 0],\n       [0, 0, 0, 0],\n       [0, 0, 0, 0],\n       ...,\n       [0, 0, 0, 0],\n       [0, 0, 0, 0],\n       [0, 0, 0, 0]])"
     },
     "execution_count": 333,
     "metadata": {},
     "output_type": "execute_result"
    }
   ],
   "source": [
    "R"
   ],
   "metadata": {
    "collapsed": false,
    "pycharm": {
     "name": "#%%\n"
    }
   }
  },
  {
   "cell_type": "code",
   "execution_count": 334,
   "outputs": [],
   "source": [
    "ones = np.zeros((4, num_states))\n",
    "for i, m in enumerate(P):\n",
    "    ones[i] = np.sum(np.array(m.toarray()), axis=1)\n",
    "\n",
    "test = ones[0]\n",
    "test = np.reshape(test, (32, -1))\n",
    "np.testing.assert_array_almost_equal(ones, np.ones_like(ones))"
   ],
   "metadata": {
    "collapsed": false,
    "pycharm": {
     "name": "#%%\n"
    }
   }
  },
  {
   "cell_type": "code",
   "execution_count": 335,
   "outputs": [],
   "source": [
    "np.testing.assert_array_equal(R.shape, (num_states, 4))"
   ],
   "metadata": {
    "collapsed": false,
    "pycharm": {
     "name": "#%%\n"
    }
   }
  },
  {
   "cell_type": "code",
   "execution_count": 336,
   "outputs": [],
   "source": [
    "algorithms = [mdp.PolicyIteration, mdp.PolicyIterationModified]\n",
    "discounts = [0.3, 0.5, 0.7, 0.9]\n",
    "\n",
    "policies = []\n",
    "for alg in algorithms:\n",
    "    for d in discounts:\n",
    "        pass\n",
    "        # pi = alg(P, R, d)\n",
    "        # pi.run()\n",
    "\n",
    "        # policies.append(pi.policy)"
   ],
   "metadata": {
    "collapsed": false,
    "pycharm": {
     "name": "#%%\n"
    }
   }
  },
  {
   "cell_type": "code",
   "execution_count": 337,
   "outputs": [],
   "source": [
    "pi = mdp.PolicyIteration(P, R, 0.3)\n",
    "pi.run()"
   ],
   "metadata": {
    "collapsed": false,
    "pycharm": {
     "name": "#%%\n"
    }
   }
  },
  {
   "cell_type": "code",
   "execution_count": 338,
   "outputs": [
    {
     "name": "stdout",
     "output_type": "stream",
     "text": [
      "1536\n"
     ]
    }
   ],
   "source": [
    "result_policy = pi.policy\n",
    "print(len(result_policy))"
   ],
   "metadata": {
    "collapsed": false,
    "pycharm": {
     "name": "#%%\n"
    }
   }
  },
  {
   "cell_type": "code",
   "execution_count": 339,
   "outputs": [],
   "source": [
    "def next_comb_mdp(cur_comb: List, state_index: int, policy: tuple) -> List:\n",
    "    action = policy[state_index]\n",
    "    result = cur_comb[:4]\n",
    "    cur_task = cur_comb[4]\n",
    "    cur_item = cur_comb[-1]\n",
    "\n",
    "    if cur_task == 'store':\n",
    "        result[action] = cur_item\n",
    "    elif cur_task == 'restore':\n",
    "        result[action] = 'empty'\n",
    "\n",
    "    return result"
   ],
   "metadata": {
    "collapsed": false,
    "pycharm": {
     "name": "#%%\n"
    }
   }
  },
  {
   "cell_type": "code",
   "execution_count": 340,
   "outputs": [],
   "source": [
    "def distance_mdp(warehouse_input: List[tuple], policy: tuple) -> float:\n",
    "    cur_comb = ['empty', 'empty', 'empty', 'empty']\n",
    "    total_reward = 0\n",
    "\n",
    "    for cur_task, cur_item in warehouse_input:\n",
    "        cur_comb.append(cur_task)\n",
    "        cur_comb.append(cur_item)\n",
    "\n",
    "        state_index = states.index(tuple(cur_comb))\n",
    "\n",
    "        cur_comb = next_comb_mdp(cur_comb, state_index, policy)\n",
    "        total_reward += dist_dict[policy[state_index]]\n",
    "\n",
    "    return total_reward"
   ],
   "metadata": {
    "collapsed": false,
    "pycharm": {
     "name": "#%%\n"
    }
   }
  },
  {
   "cell_type": "code",
   "execution_count": 341,
   "outputs": [],
   "source": [
    "def next_comb_greedy(cur_comb: List) -> List:\n",
    "    result = cur_comb[:4]\n",
    "    cur_task = cur_comb[4]\n",
    "    cur_item = cur_comb[-1]\n",
    "\n",
    "    if cur_task == 'store':\n",
    "        for action, field in enumerate(result):\n",
    "            if field == 'empty':\n",
    "                result[action] = cur_item\n",
    "                return result, action\n",
    "\n",
    "    elif cur_task == 'restore':\n",
    "        for action, field in enumerate(result):\n",
    "            if field == cur_item:\n",
    "                result[action] = 'empty'\n",
    "                return result, action\n",
    "\n",
    "    return result, 0"
   ],
   "metadata": {
    "collapsed": false,
    "pycharm": {
     "name": "#%%\n"
    }
   }
  },
  {
   "cell_type": "code",
   "execution_count": 342,
   "outputs": [],
   "source": [
    "def distance_greedy(warehouse_input: List[tuple]) -> float:\n",
    "    cur_comb = ['empty', 'empty', 'empty', 'empty']\n",
    "    total_reward = 0\n",
    "\n",
    "    for cur_task, cur_item in warehouse_input:\n",
    "        cur_comb.append(cur_task)\n",
    "        cur_comb.append(cur_item)\n",
    "\n",
    "        cur_comb, action = next_comb_greedy(cur_comb)\n",
    "        total_reward += dist_dict[action]\n",
    "\n",
    "    return total_reward"
   ],
   "metadata": {
    "collapsed": false,
    "pycharm": {
     "name": "#%%\n"
    }
   }
  },
  {
   "cell_type": "code",
   "execution_count": 343,
   "outputs": [
    {
     "name": "stdout",
     "output_type": "stream",
     "text": [
      "[('store', 'red'), ('store', 'blue'), ('store', 'white'), ('restore', 'blue'), ('restore', 'white'), ('store', 'white'), ('store', 'red'), ('store', 'white'), ('store', 'red'), ('restore', 'red'), ('restore', 'red'), ('store', 'white'), ('store', 'blue'), ('store', 'white'), ('restore', 'red'), ('restore', 'white'), ('restore', 'white'), ('store', 'red'), ('store', 'blue'), ('restore', 'red'), ('store', 'blue'), ('store', 'white'), ('restore', 'white'), ('restore', 'blue'), ('restore', 'white'), ('restore', 'white'), ('restore', 'blue'), ('restore', 'blue'), ('store', 'red'), ('restore', 'red'), ('store', 'red'), ('store', 'white'), ('store', 'red'), ('store', 'red'), ('store', 'white'), ('store', 'white'), ('restore', 'red'), ('restore', 'red'), ('restore', 'red'), ('store', 'red'), ('restore', 'white'), ('restore', 'red'), ('restore', 'white'), ('store', 'red'), ('store', 'red'), ('store', 'white'), ('store', 'white'), ('store', 'blue'), ('restore', 'red'), ('restore', 'red'), ('restore', 'white'), ('restore', 'blue'), ('restore', 'white'), ('restore', 'white'), ('store', 'blue'), ('store', 'white'), ('store', 'white'), ('restore', 'blue'), ('restore', 'white'), ('restore', 'white')]\n"
     ]
    }
   ],
   "source": [
    "def data_to_warehouse_input() -> List[tuple]:\n",
    "    f = open('testingdata.txt', 'r')\n",
    "\n",
    "    result = []\n",
    "    line = f.readline()\n",
    "    while line:\n",
    "        result.append(tuple(line.split()))\n",
    "        line = f.readline()\n",
    "\n",
    "    return result\n",
    "\n",
    "\n",
    "w_input = data_to_warehouse_input()\n",
    "print(w_input)"
   ],
   "metadata": {
    "collapsed": false,
    "pycharm": {
     "name": "#%%\n"
    }
   }
  },
  {
   "cell_type": "code",
   "execution_count": 344,
   "outputs": [
    {
     "name": "stdout",
     "output_type": "stream",
     "text": [
      "120\n",
      "192\n"
     ]
    }
   ],
   "source": [
    "for policy in policies:\n",
    "    print(distance_mdp(w_input, policy))\n",
    "\n",
    "print(distance_mdp(w_input, result_policy))\n",
    "print(distance_greedy(w_input))"
   ],
   "metadata": {
    "collapsed": false,
    "pycharm": {
     "name": "#%%\n"
    }
   }
  }
 ],
 "metadata": {
  "kernelspec": {
   "display_name": "Python 3",
   "language": "python",
   "name": "python3"
  },
  "language_info": {
   "codemirror_mode": {
    "name": "ipython",
    "version": 2
   },
   "file_extension": ".py",
   "mimetype": "text/x-python",
   "name": "python",
   "nbconvert_exporter": "python",
   "pygments_lexer": "ipython2",
   "version": "2.7.6"
  }
 },
 "nbformat": 4,
 "nbformat_minor": 0
}