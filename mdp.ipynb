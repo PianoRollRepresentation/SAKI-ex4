{
 "cells": [
  {
   "cell_type": "code",
   "execution_count": 572,
   "metadata": {
    "collapsed": true
   },
   "outputs": [],
   "source": [
    "from typing import List, Dict\n",
    "\n",
    "import numpy as np\n",
    "from mdptoolbox import mdp\n",
    "from itertools import product\n",
    "from scipy.sparse import csr_matrix"
   ]
  },
  {
   "cell_type": "code",
   "execution_count": 573,
   "outputs": [],
   "source": [
    "# data\n",
    "field_content = ['empty', 'white', 'blue', 'red']\n",
    "task = ['store', 'restore']\n",
    "item = ['white', 'blue', 'red']\n",
    "task_and_item = [['store', 'white'], ['store', 'blue'], ['store', 'red'],\n",
    "                 ['restore', 'white'], ['restore', 'blue'], ['restore', 'red']]\n",
    "actions = [0, 1, 2, 3]\n",
    "\n",
    "\"\"\"\n",
    "2x2 warehouse with reward/distance at every position:\n",
    "\n",
    "                [3/4 1/6]\n",
    "in/out_item ->  [5/2 3/4]\n",
    "\"\"\"\n",
    "rewards_dict = {0: 4, 1: 3, 2: 2, 3: 1}\n",
    "dist_dict = {0: 2, 1: 4, 2: 4, 3: 6}"
   ],
   "metadata": {
    "collapsed": false,
    "pycharm": {
     "name": "#%%\n"
    }
   }
  },
  {
   "cell_type": "code",
   "execution_count": 574,
   "outputs": [
    {
     "name": "stdout",
     "output_type": "stream",
     "text": [
      "{'store_white': 0.1278493557978196, 'store_blue': 0.12528906508093823, 'store_red': 0.24686157912124215, 'restore_white': 0.1278493557978196, 'restore_blue': 0.12528906508093823, 'restore_red': 0.24686157912124215}\n"
     ]
    }
   ],
   "source": [
    "def probabilities_from_data() -> Dict:\n",
    "    \"\"\"\n",
    "    Returns a dictionary containing the relative frequencies of every task/item combination of trainingdata.txt.\n",
    "    \"\"\"\n",
    "\n",
    "    # read in data\n",
    "    f = open('trainingdata.txt', 'r')\n",
    "\n",
    "    # convert every line to [<task>, <item>] array and store in color_and_tasks.\n",
    "    color_and_tasks = []\n",
    "    line = f.readline()\n",
    "    while line:\n",
    "        color_and_tasks.append(line.split())\n",
    "        line = f.readline()\n",
    "\n",
    "    total_length = len(color_and_tasks)\n",
    "\n",
    "    # compute relative frequencies.\n",
    "    p_store_white = len([cur for cur in color_and_tasks if cur == ['store', 'white']]) / total_length\n",
    "    p_store_blue = len([cur for cur in color_and_tasks if cur == ['store', 'blue']]) / total_length\n",
    "    p_store_red = len([cur for cur in color_and_tasks if cur == ['store', 'red']]) / total_length\n",
    "    p_restore_white = len([cur for cur in color_and_tasks if cur == ['restore', 'white']]) / total_length\n",
    "    p_restore_blue = len([cur for cur in color_and_tasks if cur == ['restore', 'blue']]) / total_length\n",
    "    p_restore_red = len([cur for cur in color_and_tasks if cur == ['restore', 'red']]) / total_length\n",
    "\n",
    "    # check if relative frequencies sum up to 1.\n",
    "    np.testing.assert_equal(\n",
    "        p_store_white + p_store_blue + p_store_red + p_restore_white + p_restore_blue + p_restore_red,\n",
    "        1)\n",
    "\n",
    "    # store in dictionary.\n",
    "    return {'store_white': p_store_white,\n",
    "            'store_blue': p_store_blue,\n",
    "            'store_red': p_store_red,\n",
    "            'restore_white': p_restore_white,\n",
    "            'restore_blue': p_restore_blue,\n",
    "            'restore_red': p_restore_red}\n",
    "\n",
    "\n",
    "probs = probabilities_from_data()\n",
    "print(probs)"
   ],
   "metadata": {
    "collapsed": false,
    "pycharm": {
     "name": "#%%\n"
    }
   }
  },
  {
   "cell_type": "code",
   "execution_count": 575,
   "outputs": [],
   "source": [
    "def get_states() -> List[str]:\n",
    "    \"\"\"\n",
    "    Computes and returns the states. A state has the form\n",
    "\n",
    "    [<field_content>[0], <field_content>[1], <field_content>[2], <field_content>[3], <task>, <item>]\n",
    "\n",
    "    and represents an <item> to be stored/restored (represented by <task>) in the warehouse\n",
    "\n",
    "    [<field_content>[2] <field_content>[3]]\n",
    "    [<field_content>[0] <field_content>[1]].\n",
    "    \"\"\"\n",
    "    return list(product(field_content, field_content, field_content, field_content, task, item))"
   ],
   "metadata": {
    "collapsed": false,
    "pycharm": {
     "name": "#%%\n"
    }
   }
  },
  {
   "cell_type": "code",
   "execution_count": 576,
   "outputs": [
    {
     "name": "stdout",
     "output_type": "stream",
     "text": [
      "[('empty', 'empty', 'empty', 'empty', 'store', 'white'), ('empty', 'empty', 'empty', 'empty', 'store', 'blue'), ('empty', 'empty', 'empty', 'empty', 'store', 'red'), ('empty', 'empty', 'empty', 'empty', 'restore', 'white'), ('empty', 'empty', 'empty', 'empty', 'restore', 'blue'), ('empty', 'empty', 'empty', 'empty', 'restore', 'red'), ('empty', 'empty', 'empty', 'white', 'store', 'white'), ('empty', 'empty', 'empty', 'white', 'store', 'blue'), ('empty', 'empty', 'empty', 'white', 'store', 'red'), ('empty', 'empty', 'empty', 'white', 'restore', 'white'), ('empty', 'empty', 'empty', 'white', 'restore', 'blue'), ('empty', 'empty', 'empty', 'white', 'restore', 'red'), ('empty', 'empty', 'empty', 'blue', 'store', 'white'), ('empty', 'empty', 'empty', 'blue', 'store', 'blue'), ('empty', 'empty', 'empty', 'blue', 'store', 'red'), ('empty', 'empty', 'empty', 'blue', 'restore', 'white'), ('empty', 'empty', 'empty', 'blue', 'restore', 'blue'), ('empty', 'empty', 'empty', 'blue', 'restore', 'red'), ('empty', 'empty', 'empty', 'red', 'store', 'white'), ('empty', 'empty', 'empty', 'red', 'store', 'blue'), ('empty', 'empty', 'empty', 'red', 'store', 'red'), ('empty', 'empty', 'empty', 'red', 'restore', 'white'), ('empty', 'empty', 'empty', 'red', 'restore', 'blue'), ('empty', 'empty', 'empty', 'red', 'restore', 'red'), ('empty', 'empty', 'white', 'empty', 'store', 'white'), ('empty', 'empty', 'white', 'empty', 'store', 'blue'), ('empty', 'empty', 'white', 'empty', 'store', 'red'), ('empty', 'empty', 'white', 'empty', 'restore', 'white'), ('empty', 'empty', 'white', 'empty', 'restore', 'blue'), ('empty', 'empty', 'white', 'empty', 'restore', 'red'), ('empty', 'empty', 'white', 'white', 'store', 'white'), ('empty', 'empty', 'white', 'white', 'store', 'blue'), ('empty', 'empty', 'white', 'white', 'store', 'red'), ('empty', 'empty', 'white', 'white', 'restore', 'white'), ('empty', 'empty', 'white', 'white', 'restore', 'blue'), ('empty', 'empty', 'white', 'white', 'restore', 'red'), ('empty', 'empty', 'white', 'blue', 'store', 'white'), ('empty', 'empty', 'white', 'blue', 'store', 'blue'), ('empty', 'empty', 'white', 'blue', 'store', 'red'), ('empty', 'empty', 'white', 'blue', 'restore', 'white'), ('empty', 'empty', 'white', 'blue', 'restore', 'blue'), ('empty', 'empty', 'white', 'blue', 'restore', 'red'), ('empty', 'empty', 'white', 'red', 'store', 'white'), ('empty', 'empty', 'white', 'red', 'store', 'blue'), ('empty', 'empty', 'white', 'red', 'store', 'red'), ('empty', 'empty', 'white', 'red', 'restore', 'white'), ('empty', 'empty', 'white', 'red', 'restore', 'blue'), ('empty', 'empty', 'white', 'red', 'restore', 'red'), ('empty', 'empty', 'blue', 'empty', 'store', 'white'), ('empty', 'empty', 'blue', 'empty', 'store', 'blue'), ('empty', 'empty', 'blue', 'empty', 'store', 'red'), ('empty', 'empty', 'blue', 'empty', 'restore', 'white'), ('empty', 'empty', 'blue', 'empty', 'restore', 'blue'), ('empty', 'empty', 'blue', 'empty', 'restore', 'red'), ('empty', 'empty', 'blue', 'white', 'store', 'white'), ('empty', 'empty', 'blue', 'white', 'store', 'blue'), ('empty', 'empty', 'blue', 'white', 'store', 'red'), ('empty', 'empty', 'blue', 'white', 'restore', 'white'), ('empty', 'empty', 'blue', 'white', 'restore', 'blue'), ('empty', 'empty', 'blue', 'white', 'restore', 'red'), ('empty', 'empty', 'blue', 'blue', 'store', 'white'), ('empty', 'empty', 'blue', 'blue', 'store', 'blue'), ('empty', 'empty', 'blue', 'blue', 'store', 'red'), ('empty', 'empty', 'blue', 'blue', 'restore', 'white'), ('empty', 'empty', 'blue', 'blue', 'restore', 'blue'), ('empty', 'empty', 'blue', 'blue', 'restore', 'red'), ('empty', 'empty', 'blue', 'red', 'store', 'white'), ('empty', 'empty', 'blue', 'red', 'store', 'blue'), ('empty', 'empty', 'blue', 'red', 'store', 'red'), ('empty', 'empty', 'blue', 'red', 'restore', 'white'), ('empty', 'empty', 'blue', 'red', 'restore', 'blue'), ('empty', 'empty', 'blue', 'red', 'restore', 'red'), ('empty', 'empty', 'red', 'empty', 'store', 'white'), ('empty', 'empty', 'red', 'empty', 'store', 'blue'), ('empty', 'empty', 'red', 'empty', 'store', 'red'), ('empty', 'empty', 'red', 'empty', 'restore', 'white'), ('empty', 'empty', 'red', 'empty', 'restore', 'blue'), ('empty', 'empty', 'red', 'empty', 'restore', 'red'), ('empty', 'empty', 'red', 'white', 'store', 'white'), ('empty', 'empty', 'red', 'white', 'store', 'blue'), ('empty', 'empty', 'red', 'white', 'store', 'red'), ('empty', 'empty', 'red', 'white', 'restore', 'white'), ('empty', 'empty', 'red', 'white', 'restore', 'blue'), ('empty', 'empty', 'red', 'white', 'restore', 'red'), ('empty', 'empty', 'red', 'blue', 'store', 'white'), ('empty', 'empty', 'red', 'blue', 'store', 'blue'), ('empty', 'empty', 'red', 'blue', 'store', 'red'), ('empty', 'empty', 'red', 'blue', 'restore', 'white'), ('empty', 'empty', 'red', 'blue', 'restore', 'blue'), ('empty', 'empty', 'red', 'blue', 'restore', 'red'), ('empty', 'empty', 'red', 'red', 'store', 'white'), ('empty', 'empty', 'red', 'red', 'store', 'blue'), ('empty', 'empty', 'red', 'red', 'store', 'red'), ('empty', 'empty', 'red', 'red', 'restore', 'white'), ('empty', 'empty', 'red', 'red', 'restore', 'blue'), ('empty', 'empty', 'red', 'red', 'restore', 'red'), ('empty', 'white', 'empty', 'empty', 'store', 'white'), ('empty', 'white', 'empty', 'empty', 'store', 'blue'), ('empty', 'white', 'empty', 'empty', 'store', 'red'), ('empty', 'white', 'empty', 'empty', 'restore', 'white'), ('empty', 'white', 'empty', 'empty', 'restore', 'blue'), ('empty', 'white', 'empty', 'empty', 'restore', 'red'), ('empty', 'white', 'empty', 'white', 'store', 'white'), ('empty', 'white', 'empty', 'white', 'store', 'blue'), ('empty', 'white', 'empty', 'white', 'store', 'red'), ('empty', 'white', 'empty', 'white', 'restore', 'white'), ('empty', 'white', 'empty', 'white', 'restore', 'blue'), ('empty', 'white', 'empty', 'white', 'restore', 'red'), ('empty', 'white', 'empty', 'blue', 'store', 'white'), ('empty', 'white', 'empty', 'blue', 'store', 'blue'), ('empty', 'white', 'empty', 'blue', 'store', 'red'), ('empty', 'white', 'empty', 'blue', 'restore', 'white'), ('empty', 'white', 'empty', 'blue', 'restore', 'blue'), ('empty', 'white', 'empty', 'blue', 'restore', 'red'), ('empty', 'white', 'empty', 'red', 'store', 'white'), ('empty', 'white', 'empty', 'red', 'store', 'blue'), ('empty', 'white', 'empty', 'red', 'store', 'red'), ('empty', 'white', 'empty', 'red', 'restore', 'white'), ('empty', 'white', 'empty', 'red', 'restore', 'blue'), ('empty', 'white', 'empty', 'red', 'restore', 'red'), ('empty', 'white', 'white', 'empty', 'store', 'white'), ('empty', 'white', 'white', 'empty', 'store', 'blue'), ('empty', 'white', 'white', 'empty', 'store', 'red'), ('empty', 'white', 'white', 'empty', 'restore', 'white'), ('empty', 'white', 'white', 'empty', 'restore', 'blue'), ('empty', 'white', 'white', 'empty', 'restore', 'red'), ('empty', 'white', 'white', 'white', 'store', 'white'), ('empty', 'white', 'white', 'white', 'store', 'blue'), ('empty', 'white', 'white', 'white', 'store', 'red'), ('empty', 'white', 'white', 'white', 'restore', 'white'), ('empty', 'white', 'white', 'white', 'restore', 'blue'), ('empty', 'white', 'white', 'white', 'restore', 'red'), ('empty', 'white', 'white', 'blue', 'store', 'white'), ('empty', 'white', 'white', 'blue', 'store', 'blue'), ('empty', 'white', 'white', 'blue', 'store', 'red'), ('empty', 'white', 'white', 'blue', 'restore', 'white'), ('empty', 'white', 'white', 'blue', 'restore', 'blue'), ('empty', 'white', 'white', 'blue', 'restore', 'red'), ('empty', 'white', 'white', 'red', 'store', 'white'), ('empty', 'white', 'white', 'red', 'store', 'blue'), ('empty', 'white', 'white', 'red', 'store', 'red'), ('empty', 'white', 'white', 'red', 'restore', 'white'), ('empty', 'white', 'white', 'red', 'restore', 'blue'), ('empty', 'white', 'white', 'red', 'restore', 'red'), ('empty', 'white', 'blue', 'empty', 'store', 'white'), ('empty', 'white', 'blue', 'empty', 'store', 'blue'), ('empty', 'white', 'blue', 'empty', 'store', 'red'), ('empty', 'white', 'blue', 'empty', 'restore', 'white'), ('empty', 'white', 'blue', 'empty', 'restore', 'blue'), ('empty', 'white', 'blue', 'empty', 'restore', 'red'), ('empty', 'white', 'blue', 'white', 'store', 'white'), ('empty', 'white', 'blue', 'white', 'store', 'blue'), ('empty', 'white', 'blue', 'white', 'store', 'red'), ('empty', 'white', 'blue', 'white', 'restore', 'white'), ('empty', 'white', 'blue', 'white', 'restore', 'blue'), ('empty', 'white', 'blue', 'white', 'restore', 'red'), ('empty', 'white', 'blue', 'blue', 'store', 'white'), ('empty', 'white', 'blue', 'blue', 'store', 'blue'), ('empty', 'white', 'blue', 'blue', 'store', 'red'), ('empty', 'white', 'blue', 'blue', 'restore', 'white'), ('empty', 'white', 'blue', 'blue', 'restore', 'blue'), ('empty', 'white', 'blue', 'blue', 'restore', 'red'), ('empty', 'white', 'blue', 'red', 'store', 'white'), ('empty', 'white', 'blue', 'red', 'store', 'blue'), ('empty', 'white', 'blue', 'red', 'store', 'red'), ('empty', 'white', 'blue', 'red', 'restore', 'white'), ('empty', 'white', 'blue', 'red', 'restore', 'blue'), ('empty', 'white', 'blue', 'red', 'restore', 'red'), ('empty', 'white', 'red', 'empty', 'store', 'white'), ('empty', 'white', 'red', 'empty', 'store', 'blue'), ('empty', 'white', 'red', 'empty', 'store', 'red'), ('empty', 'white', 'red', 'empty', 'restore', 'white'), ('empty', 'white', 'red', 'empty', 'restore', 'blue'), ('empty', 'white', 'red', 'empty', 'restore', 'red'), ('empty', 'white', 'red', 'white', 'store', 'white'), ('empty', 'white', 'red', 'white', 'store', 'blue'), ('empty', 'white', 'red', 'white', 'store', 'red'), ('empty', 'white', 'red', 'white', 'restore', 'white'), ('empty', 'white', 'red', 'white', 'restore', 'blue'), ('empty', 'white', 'red', 'white', 'restore', 'red'), ('empty', 'white', 'red', 'blue', 'store', 'white'), ('empty', 'white', 'red', 'blue', 'store', 'blue'), ('empty', 'white', 'red', 'blue', 'store', 'red'), ('empty', 'white', 'red', 'blue', 'restore', 'white'), ('empty', 'white', 'red', 'blue', 'restore', 'blue'), ('empty', 'white', 'red', 'blue', 'restore', 'red'), ('empty', 'white', 'red', 'red', 'store', 'white'), ('empty', 'white', 'red', 'red', 'store', 'blue'), ('empty', 'white', 'red', 'red', 'store', 'red'), ('empty', 'white', 'red', 'red', 'restore', 'white'), ('empty', 'white', 'red', 'red', 'restore', 'blue'), ('empty', 'white', 'red', 'red', 'restore', 'red'), ('empty', 'blue', 'empty', 'empty', 'store', 'white'), ('empty', 'blue', 'empty', 'empty', 'store', 'blue'), ('empty', 'blue', 'empty', 'empty', 'store', 'red'), ('empty', 'blue', 'empty', 'empty', 'restore', 'white'), ('empty', 'blue', 'empty', 'empty', 'restore', 'blue'), ('empty', 'blue', 'empty', 'empty', 'restore', 'red'), ('empty', 'blue', 'empty', 'white', 'store', 'white'), ('empty', 'blue', 'empty', 'white', 'store', 'blue'), ('empty', 'blue', 'empty', 'white', 'store', 'red'), ('empty', 'blue', 'empty', 'white', 'restore', 'white'), ('empty', 'blue', 'empty', 'white', 'restore', 'blue'), ('empty', 'blue', 'empty', 'white', 'restore', 'red'), ('empty', 'blue', 'empty', 'blue', 'store', 'white'), ('empty', 'blue', 'empty', 'blue', 'store', 'blue'), ('empty', 'blue', 'empty', 'blue', 'store', 'red'), ('empty', 'blue', 'empty', 'blue', 'restore', 'white'), ('empty', 'blue', 'empty', 'blue', 'restore', 'blue'), ('empty', 'blue', 'empty', 'blue', 'restore', 'red'), ('empty', 'blue', 'empty', 'red', 'store', 'white'), ('empty', 'blue', 'empty', 'red', 'store', 'blue'), ('empty', 'blue', 'empty', 'red', 'store', 'red'), ('empty', 'blue', 'empty', 'red', 'restore', 'white'), ('empty', 'blue', 'empty', 'red', 'restore', 'blue'), ('empty', 'blue', 'empty', 'red', 'restore', 'red'), ('empty', 'blue', 'white', 'empty', 'store', 'white'), ('empty', 'blue', 'white', 'empty', 'store', 'blue'), ('empty', 'blue', 'white', 'empty', 'store', 'red'), ('empty', 'blue', 'white', 'empty', 'restore', 'white'), ('empty', 'blue', 'white', 'empty', 'restore', 'blue'), ('empty', 'blue', 'white', 'empty', 'restore', 'red'), ('empty', 'blue', 'white', 'white', 'store', 'white'), ('empty', 'blue', 'white', 'white', 'store', 'blue'), ('empty', 'blue', 'white', 'white', 'store', 'red'), ('empty', 'blue', 'white', 'white', 'restore', 'white'), ('empty', 'blue', 'white', 'white', 'restore', 'blue'), ('empty', 'blue', 'white', 'white', 'restore', 'red'), ('empty', 'blue', 'white', 'blue', 'store', 'white'), ('empty', 'blue', 'white', 'blue', 'store', 'blue'), ('empty', 'blue', 'white', 'blue', 'store', 'red'), ('empty', 'blue', 'white', 'blue', 'restore', 'white'), ('empty', 'blue', 'white', 'blue', 'restore', 'blue'), ('empty', 'blue', 'white', 'blue', 'restore', 'red'), ('empty', 'blue', 'white', 'red', 'store', 'white'), ('empty', 'blue', 'white', 'red', 'store', 'blue'), ('empty', 'blue', 'white', 'red', 'store', 'red'), ('empty', 'blue', 'white', 'red', 'restore', 'white'), ('empty', 'blue', 'white', 'red', 'restore', 'blue'), ('empty', 'blue', 'white', 'red', 'restore', 'red'), ('empty', 'blue', 'blue', 'empty', 'store', 'white'), ('empty', 'blue', 'blue', 'empty', 'store', 'blue'), ('empty', 'blue', 'blue', 'empty', 'store', 'red'), ('empty', 'blue', 'blue', 'empty', 'restore', 'white'), ('empty', 'blue', 'blue', 'empty', 'restore', 'blue'), ('empty', 'blue', 'blue', 'empty', 'restore', 'red'), ('empty', 'blue', 'blue', 'white', 'store', 'white'), ('empty', 'blue', 'blue', 'white', 'store', 'blue'), ('empty', 'blue', 'blue', 'white', 'store', 'red'), ('empty', 'blue', 'blue', 'white', 'restore', 'white'), ('empty', 'blue', 'blue', 'white', 'restore', 'blue'), ('empty', 'blue', 'blue', 'white', 'restore', 'red'), ('empty', 'blue', 'blue', 'blue', 'store', 'white'), ('empty', 'blue', 'blue', 'blue', 'store', 'blue'), ('empty', 'blue', 'blue', 'blue', 'store', 'red'), ('empty', 'blue', 'blue', 'blue', 'restore', 'white'), ('empty', 'blue', 'blue', 'blue', 'restore', 'blue'), ('empty', 'blue', 'blue', 'blue', 'restore', 'red'), ('empty', 'blue', 'blue', 'red', 'store', 'white'), ('empty', 'blue', 'blue', 'red', 'store', 'blue'), ('empty', 'blue', 'blue', 'red', 'store', 'red'), ('empty', 'blue', 'blue', 'red', 'restore', 'white'), ('empty', 'blue', 'blue', 'red', 'restore', 'blue'), ('empty', 'blue', 'blue', 'red', 'restore', 'red'), ('empty', 'blue', 'red', 'empty', 'store', 'white'), ('empty', 'blue', 'red', 'empty', 'store', 'blue'), ('empty', 'blue', 'red', 'empty', 'store', 'red'), ('empty', 'blue', 'red', 'empty', 'restore', 'white'), ('empty', 'blue', 'red', 'empty', 'restore', 'blue'), ('empty', 'blue', 'red', 'empty', 'restore', 'red'), ('empty', 'blue', 'red', 'white', 'store', 'white'), ('empty', 'blue', 'red', 'white', 'store', 'blue'), ('empty', 'blue', 'red', 'white', 'store', 'red'), ('empty', 'blue', 'red', 'white', 'restore', 'white'), ('empty', 'blue', 'red', 'white', 'restore', 'blue'), ('empty', 'blue', 'red', 'white', 'restore', 'red'), ('empty', 'blue', 'red', 'blue', 'store', 'white'), ('empty', 'blue', 'red', 'blue', 'store', 'blue'), ('empty', 'blue', 'red', 'blue', 'store', 'red'), ('empty', 'blue', 'red', 'blue', 'restore', 'white'), ('empty', 'blue', 'red', 'blue', 'restore', 'blue'), ('empty', 'blue', 'red', 'blue', 'restore', 'red'), ('empty', 'blue', 'red', 'red', 'store', 'white'), ('empty', 'blue', 'red', 'red', 'store', 'blue'), ('empty', 'blue', 'red', 'red', 'store', 'red'), ('empty', 'blue', 'red', 'red', 'restore', 'white'), ('empty', 'blue', 'red', 'red', 'restore', 'blue'), ('empty', 'blue', 'red', 'red', 'restore', 'red'), ('empty', 'red', 'empty', 'empty', 'store', 'white'), ('empty', 'red', 'empty', 'empty', 'store', 'blue'), ('empty', 'red', 'empty', 'empty', 'store', 'red'), ('empty', 'red', 'empty', 'empty', 'restore', 'white'), ('empty', 'red', 'empty', 'empty', 'restore', 'blue'), ('empty', 'red', 'empty', 'empty', 'restore', 'red'), ('empty', 'red', 'empty', 'white', 'store', 'white'), ('empty', 'red', 'empty', 'white', 'store', 'blue'), ('empty', 'red', 'empty', 'white', 'store', 'red'), ('empty', 'red', 'empty', 'white', 'restore', 'white'), ('empty', 'red', 'empty', 'white', 'restore', 'blue'), ('empty', 'red', 'empty', 'white', 'restore', 'red'), ('empty', 'red', 'empty', 'blue', 'store', 'white'), ('empty', 'red', 'empty', 'blue', 'store', 'blue'), ('empty', 'red', 'empty', 'blue', 'store', 'red'), ('empty', 'red', 'empty', 'blue', 'restore', 'white'), ('empty', 'red', 'empty', 'blue', 'restore', 'blue'), ('empty', 'red', 'empty', 'blue', 'restore', 'red'), ('empty', 'red', 'empty', 'red', 'store', 'white'), ('empty', 'red', 'empty', 'red', 'store', 'blue'), ('empty', 'red', 'empty', 'red', 'store', 'red'), ('empty', 'red', 'empty', 'red', 'restore', 'white'), ('empty', 'red', 'empty', 'red', 'restore', 'blue'), ('empty', 'red', 'empty', 'red', 'restore', 'red'), ('empty', 'red', 'white', 'empty', 'store', 'white'), ('empty', 'red', 'white', 'empty', 'store', 'blue'), ('empty', 'red', 'white', 'empty', 'store', 'red'), ('empty', 'red', 'white', 'empty', 'restore', 'white'), ('empty', 'red', 'white', 'empty', 'restore', 'blue'), ('empty', 'red', 'white', 'empty', 'restore', 'red'), ('empty', 'red', 'white', 'white', 'store', 'white'), ('empty', 'red', 'white', 'white', 'store', 'blue'), ('empty', 'red', 'white', 'white', 'store', 'red'), ('empty', 'red', 'white', 'white', 'restore', 'white'), ('empty', 'red', 'white', 'white', 'restore', 'blue'), ('empty', 'red', 'white', 'white', 'restore', 'red'), ('empty', 'red', 'white', 'blue', 'store', 'white'), ('empty', 'red', 'white', 'blue', 'store', 'blue'), ('empty', 'red', 'white', 'blue', 'store', 'red'), ('empty', 'red', 'white', 'blue', 'restore', 'white'), ('empty', 'red', 'white', 'blue', 'restore', 'blue'), ('empty', 'red', 'white', 'blue', 'restore', 'red'), ('empty', 'red', 'white', 'red', 'store', 'white'), ('empty', 'red', 'white', 'red', 'store', 'blue'), ('empty', 'red', 'white', 'red', 'store', 'red'), ('empty', 'red', 'white', 'red', 'restore', 'white'), ('empty', 'red', 'white', 'red', 'restore', 'blue'), ('empty', 'red', 'white', 'red', 'restore', 'red'), ('empty', 'red', 'blue', 'empty', 'store', 'white'), ('empty', 'red', 'blue', 'empty', 'store', 'blue'), ('empty', 'red', 'blue', 'empty', 'store', 'red'), ('empty', 'red', 'blue', 'empty', 'restore', 'white'), ('empty', 'red', 'blue', 'empty', 'restore', 'blue'), ('empty', 'red', 'blue', 'empty', 'restore', 'red'), ('empty', 'red', 'blue', 'white', 'store', 'white'), ('empty', 'red', 'blue', 'white', 'store', 'blue'), ('empty', 'red', 'blue', 'white', 'store', 'red'), ('empty', 'red', 'blue', 'white', 'restore', 'white'), ('empty', 'red', 'blue', 'white', 'restore', 'blue'), ('empty', 'red', 'blue', 'white', 'restore', 'red'), ('empty', 'red', 'blue', 'blue', 'store', 'white'), ('empty', 'red', 'blue', 'blue', 'store', 'blue'), ('empty', 'red', 'blue', 'blue', 'store', 'red'), ('empty', 'red', 'blue', 'blue', 'restore', 'white'), ('empty', 'red', 'blue', 'blue', 'restore', 'blue'), ('empty', 'red', 'blue', 'blue', 'restore', 'red'), ('empty', 'red', 'blue', 'red', 'store', 'white'), ('empty', 'red', 'blue', 'red', 'store', 'blue'), ('empty', 'red', 'blue', 'red', 'store', 'red'), ('empty', 'red', 'blue', 'red', 'restore', 'white'), ('empty', 'red', 'blue', 'red', 'restore', 'blue'), ('empty', 'red', 'blue', 'red', 'restore', 'red'), ('empty', 'red', 'red', 'empty', 'store', 'white'), ('empty', 'red', 'red', 'empty', 'store', 'blue'), ('empty', 'red', 'red', 'empty', 'store', 'red'), ('empty', 'red', 'red', 'empty', 'restore', 'white'), ('empty', 'red', 'red', 'empty', 'restore', 'blue'), ('empty', 'red', 'red', 'empty', 'restore', 'red'), ('empty', 'red', 'red', 'white', 'store', 'white'), ('empty', 'red', 'red', 'white', 'store', 'blue'), ('empty', 'red', 'red', 'white', 'store', 'red'), ('empty', 'red', 'red', 'white', 'restore', 'white'), ('empty', 'red', 'red', 'white', 'restore', 'blue'), ('empty', 'red', 'red', 'white', 'restore', 'red'), ('empty', 'red', 'red', 'blue', 'store', 'white'), ('empty', 'red', 'red', 'blue', 'store', 'blue'), ('empty', 'red', 'red', 'blue', 'store', 'red'), ('empty', 'red', 'red', 'blue', 'restore', 'white'), ('empty', 'red', 'red', 'blue', 'restore', 'blue'), ('empty', 'red', 'red', 'blue', 'restore', 'red'), ('empty', 'red', 'red', 'red', 'store', 'white'), ('empty', 'red', 'red', 'red', 'store', 'blue'), ('empty', 'red', 'red', 'red', 'store', 'red'), ('empty', 'red', 'red', 'red', 'restore', 'white'), ('empty', 'red', 'red', 'red', 'restore', 'blue'), ('empty', 'red', 'red', 'red', 'restore', 'red'), ('white', 'empty', 'empty', 'empty', 'store', 'white'), ('white', 'empty', 'empty', 'empty', 'store', 'blue'), ('white', 'empty', 'empty', 'empty', 'store', 'red'), ('white', 'empty', 'empty', 'empty', 'restore', 'white'), ('white', 'empty', 'empty', 'empty', 'restore', 'blue'), ('white', 'empty', 'empty', 'empty', 'restore', 'red'), ('white', 'empty', 'empty', 'white', 'store', 'white'), ('white', 'empty', 'empty', 'white', 'store', 'blue'), ('white', 'empty', 'empty', 'white', 'store', 'red'), ('white', 'empty', 'empty', 'white', 'restore', 'white'), ('white', 'empty', 'empty', 'white', 'restore', 'blue'), ('white', 'empty', 'empty', 'white', 'restore', 'red'), ('white', 'empty', 'empty', 'blue', 'store', 'white'), ('white', 'empty', 'empty', 'blue', 'store', 'blue'), ('white', 'empty', 'empty', 'blue', 'store', 'red'), ('white', 'empty', 'empty', 'blue', 'restore', 'white'), ('white', 'empty', 'empty', 'blue', 'restore', 'blue'), ('white', 'empty', 'empty', 'blue', 'restore', 'red'), ('white', 'empty', 'empty', 'red', 'store', 'white'), ('white', 'empty', 'empty', 'red', 'store', 'blue'), ('white', 'empty', 'empty', 'red', 'store', 'red'), ('white', 'empty', 'empty', 'red', 'restore', 'white'), ('white', 'empty', 'empty', 'red', 'restore', 'blue'), ('white', 'empty', 'empty', 'red', 'restore', 'red'), ('white', 'empty', 'white', 'empty', 'store', 'white'), ('white', 'empty', 'white', 'empty', 'store', 'blue'), ('white', 'empty', 'white', 'empty', 'store', 'red'), ('white', 'empty', 'white', 'empty', 'restore', 'white'), ('white', 'empty', 'white', 'empty', 'restore', 'blue'), ('white', 'empty', 'white', 'empty', 'restore', 'red'), ('white', 'empty', 'white', 'white', 'store', 'white'), ('white', 'empty', 'white', 'white', 'store', 'blue'), ('white', 'empty', 'white', 'white', 'store', 'red'), ('white', 'empty', 'white', 'white', 'restore', 'white'), ('white', 'empty', 'white', 'white', 'restore', 'blue'), ('white', 'empty', 'white', 'white', 'restore', 'red'), ('white', 'empty', 'white', 'blue', 'store', 'white'), ('white', 'empty', 'white', 'blue', 'store', 'blue'), ('white', 'empty', 'white', 'blue', 'store', 'red'), ('white', 'empty', 'white', 'blue', 'restore', 'white'), ('white', 'empty', 'white', 'blue', 'restore', 'blue'), ('white', 'empty', 'white', 'blue', 'restore', 'red'), ('white', 'empty', 'white', 'red', 'store', 'white'), ('white', 'empty', 'white', 'red', 'store', 'blue'), ('white', 'empty', 'white', 'red', 'store', 'red'), ('white', 'empty', 'white', 'red', 'restore', 'white'), ('white', 'empty', 'white', 'red', 'restore', 'blue'), ('white', 'empty', 'white', 'red', 'restore', 'red'), ('white', 'empty', 'blue', 'empty', 'store', 'white'), ('white', 'empty', 'blue', 'empty', 'store', 'blue'), ('white', 'empty', 'blue', 'empty', 'store', 'red'), ('white', 'empty', 'blue', 'empty', 'restore', 'white'), ('white', 'empty', 'blue', 'empty', 'restore', 'blue'), ('white', 'empty', 'blue', 'empty', 'restore', 'red'), ('white', 'empty', 'blue', 'white', 'store', 'white'), ('white', 'empty', 'blue', 'white', 'store', 'blue'), ('white', 'empty', 'blue', 'white', 'store', 'red'), ('white', 'empty', 'blue', 'white', 'restore', 'white'), ('white', 'empty', 'blue', 'white', 'restore', 'blue'), ('white', 'empty', 'blue', 'white', 'restore', 'red'), ('white', 'empty', 'blue', 'blue', 'store', 'white'), ('white', 'empty', 'blue', 'blue', 'store', 'blue'), ('white', 'empty', 'blue', 'blue', 'store', 'red'), ('white', 'empty', 'blue', 'blue', 'restore', 'white'), ('white', 'empty', 'blue', 'blue', 'restore', 'blue'), ('white', 'empty', 'blue', 'blue', 'restore', 'red'), ('white', 'empty', 'blue', 'red', 'store', 'white'), ('white', 'empty', 'blue', 'red', 'store', 'blue'), ('white', 'empty', 'blue', 'red', 'store', 'red'), ('white', 'empty', 'blue', 'red', 'restore', 'white'), ('white', 'empty', 'blue', 'red', 'restore', 'blue'), ('white', 'empty', 'blue', 'red', 'restore', 'red'), ('white', 'empty', 'red', 'empty', 'store', 'white'), ('white', 'empty', 'red', 'empty', 'store', 'blue'), ('white', 'empty', 'red', 'empty', 'store', 'red'), ('white', 'empty', 'red', 'empty', 'restore', 'white'), ('white', 'empty', 'red', 'empty', 'restore', 'blue'), ('white', 'empty', 'red', 'empty', 'restore', 'red'), ('white', 'empty', 'red', 'white', 'store', 'white'), ('white', 'empty', 'red', 'white', 'store', 'blue'), ('white', 'empty', 'red', 'white', 'store', 'red'), ('white', 'empty', 'red', 'white', 'restore', 'white'), ('white', 'empty', 'red', 'white', 'restore', 'blue'), ('white', 'empty', 'red', 'white', 'restore', 'red'), ('white', 'empty', 'red', 'blue', 'store', 'white'), ('white', 'empty', 'red', 'blue', 'store', 'blue'), ('white', 'empty', 'red', 'blue', 'store', 'red'), ('white', 'empty', 'red', 'blue', 'restore', 'white'), ('white', 'empty', 'red', 'blue', 'restore', 'blue'), ('white', 'empty', 'red', 'blue', 'restore', 'red'), ('white', 'empty', 'red', 'red', 'store', 'white'), ('white', 'empty', 'red', 'red', 'store', 'blue'), ('white', 'empty', 'red', 'red', 'store', 'red'), ('white', 'empty', 'red', 'red', 'restore', 'white'), ('white', 'empty', 'red', 'red', 'restore', 'blue'), ('white', 'empty', 'red', 'red', 'restore', 'red'), ('white', 'white', 'empty', 'empty', 'store', 'white'), ('white', 'white', 'empty', 'empty', 'store', 'blue'), ('white', 'white', 'empty', 'empty', 'store', 'red'), ('white', 'white', 'empty', 'empty', 'restore', 'white'), ('white', 'white', 'empty', 'empty', 'restore', 'blue'), ('white', 'white', 'empty', 'empty', 'restore', 'red'), ('white', 'white', 'empty', 'white', 'store', 'white'), ('white', 'white', 'empty', 'white', 'store', 'blue'), ('white', 'white', 'empty', 'white', 'store', 'red'), ('white', 'white', 'empty', 'white', 'restore', 'white'), ('white', 'white', 'empty', 'white', 'restore', 'blue'), ('white', 'white', 'empty', 'white', 'restore', 'red'), ('white', 'white', 'empty', 'blue', 'store', 'white'), ('white', 'white', 'empty', 'blue', 'store', 'blue'), ('white', 'white', 'empty', 'blue', 'store', 'red'), ('white', 'white', 'empty', 'blue', 'restore', 'white'), ('white', 'white', 'empty', 'blue', 'restore', 'blue'), ('white', 'white', 'empty', 'blue', 'restore', 'red'), ('white', 'white', 'empty', 'red', 'store', 'white'), ('white', 'white', 'empty', 'red', 'store', 'blue'), ('white', 'white', 'empty', 'red', 'store', 'red'), ('white', 'white', 'empty', 'red', 'restore', 'white'), ('white', 'white', 'empty', 'red', 'restore', 'blue'), ('white', 'white', 'empty', 'red', 'restore', 'red'), ('white', 'white', 'white', 'empty', 'store', 'white'), ('white', 'white', 'white', 'empty', 'store', 'blue'), ('white', 'white', 'white', 'empty', 'store', 'red'), ('white', 'white', 'white', 'empty', 'restore', 'white'), ('white', 'white', 'white', 'empty', 'restore', 'blue'), ('white', 'white', 'white', 'empty', 'restore', 'red'), ('white', 'white', 'white', 'white', 'store', 'white'), ('white', 'white', 'white', 'white', 'store', 'blue'), ('white', 'white', 'white', 'white', 'store', 'red'), ('white', 'white', 'white', 'white', 'restore', 'white'), ('white', 'white', 'white', 'white', 'restore', 'blue'), ('white', 'white', 'white', 'white', 'restore', 'red'), ('white', 'white', 'white', 'blue', 'store', 'white'), ('white', 'white', 'white', 'blue', 'store', 'blue'), ('white', 'white', 'white', 'blue', 'store', 'red'), ('white', 'white', 'white', 'blue', 'restore', 'white'), ('white', 'white', 'white', 'blue', 'restore', 'blue'), ('white', 'white', 'white', 'blue', 'restore', 'red'), ('white', 'white', 'white', 'red', 'store', 'white'), ('white', 'white', 'white', 'red', 'store', 'blue'), ('white', 'white', 'white', 'red', 'store', 'red'), ('white', 'white', 'white', 'red', 'restore', 'white'), ('white', 'white', 'white', 'red', 'restore', 'blue'), ('white', 'white', 'white', 'red', 'restore', 'red'), ('white', 'white', 'blue', 'empty', 'store', 'white'), ('white', 'white', 'blue', 'empty', 'store', 'blue'), ('white', 'white', 'blue', 'empty', 'store', 'red'), ('white', 'white', 'blue', 'empty', 'restore', 'white'), ('white', 'white', 'blue', 'empty', 'restore', 'blue'), ('white', 'white', 'blue', 'empty', 'restore', 'red'), ('white', 'white', 'blue', 'white', 'store', 'white'), ('white', 'white', 'blue', 'white', 'store', 'blue'), ('white', 'white', 'blue', 'white', 'store', 'red'), ('white', 'white', 'blue', 'white', 'restore', 'white'), ('white', 'white', 'blue', 'white', 'restore', 'blue'), ('white', 'white', 'blue', 'white', 'restore', 'red'), ('white', 'white', 'blue', 'blue', 'store', 'white'), ('white', 'white', 'blue', 'blue', 'store', 'blue'), ('white', 'white', 'blue', 'blue', 'store', 'red'), ('white', 'white', 'blue', 'blue', 'restore', 'white'), ('white', 'white', 'blue', 'blue', 'restore', 'blue'), ('white', 'white', 'blue', 'blue', 'restore', 'red'), ('white', 'white', 'blue', 'red', 'store', 'white'), ('white', 'white', 'blue', 'red', 'store', 'blue'), ('white', 'white', 'blue', 'red', 'store', 'red'), ('white', 'white', 'blue', 'red', 'restore', 'white'), ('white', 'white', 'blue', 'red', 'restore', 'blue'), ('white', 'white', 'blue', 'red', 'restore', 'red'), ('white', 'white', 'red', 'empty', 'store', 'white'), ('white', 'white', 'red', 'empty', 'store', 'blue'), ('white', 'white', 'red', 'empty', 'store', 'red'), ('white', 'white', 'red', 'empty', 'restore', 'white'), ('white', 'white', 'red', 'empty', 'restore', 'blue'), ('white', 'white', 'red', 'empty', 'restore', 'red'), ('white', 'white', 'red', 'white', 'store', 'white'), ('white', 'white', 'red', 'white', 'store', 'blue'), ('white', 'white', 'red', 'white', 'store', 'red'), ('white', 'white', 'red', 'white', 'restore', 'white'), ('white', 'white', 'red', 'white', 'restore', 'blue'), ('white', 'white', 'red', 'white', 'restore', 'red'), ('white', 'white', 'red', 'blue', 'store', 'white'), ('white', 'white', 'red', 'blue', 'store', 'blue'), ('white', 'white', 'red', 'blue', 'store', 'red'), ('white', 'white', 'red', 'blue', 'restore', 'white'), ('white', 'white', 'red', 'blue', 'restore', 'blue'), ('white', 'white', 'red', 'blue', 'restore', 'red'), ('white', 'white', 'red', 'red', 'store', 'white'), ('white', 'white', 'red', 'red', 'store', 'blue'), ('white', 'white', 'red', 'red', 'store', 'red'), ('white', 'white', 'red', 'red', 'restore', 'white'), ('white', 'white', 'red', 'red', 'restore', 'blue'), ('white', 'white', 'red', 'red', 'restore', 'red'), ('white', 'blue', 'empty', 'empty', 'store', 'white'), ('white', 'blue', 'empty', 'empty', 'store', 'blue'), ('white', 'blue', 'empty', 'empty', 'store', 'red'), ('white', 'blue', 'empty', 'empty', 'restore', 'white'), ('white', 'blue', 'empty', 'empty', 'restore', 'blue'), ('white', 'blue', 'empty', 'empty', 'restore', 'red'), ('white', 'blue', 'empty', 'white', 'store', 'white'), ('white', 'blue', 'empty', 'white', 'store', 'blue'), ('white', 'blue', 'empty', 'white', 'store', 'red'), ('white', 'blue', 'empty', 'white', 'restore', 'white'), ('white', 'blue', 'empty', 'white', 'restore', 'blue'), ('white', 'blue', 'empty', 'white', 'restore', 'red'), ('white', 'blue', 'empty', 'blue', 'store', 'white'), ('white', 'blue', 'empty', 'blue', 'store', 'blue'), ('white', 'blue', 'empty', 'blue', 'store', 'red'), ('white', 'blue', 'empty', 'blue', 'restore', 'white'), ('white', 'blue', 'empty', 'blue', 'restore', 'blue'), ('white', 'blue', 'empty', 'blue', 'restore', 'red'), ('white', 'blue', 'empty', 'red', 'store', 'white'), ('white', 'blue', 'empty', 'red', 'store', 'blue'), ('white', 'blue', 'empty', 'red', 'store', 'red'), ('white', 'blue', 'empty', 'red', 'restore', 'white'), ('white', 'blue', 'empty', 'red', 'restore', 'blue'), ('white', 'blue', 'empty', 'red', 'restore', 'red'), ('white', 'blue', 'white', 'empty', 'store', 'white'), ('white', 'blue', 'white', 'empty', 'store', 'blue'), ('white', 'blue', 'white', 'empty', 'store', 'red'), ('white', 'blue', 'white', 'empty', 'restore', 'white'), ('white', 'blue', 'white', 'empty', 'restore', 'blue'), ('white', 'blue', 'white', 'empty', 'restore', 'red'), ('white', 'blue', 'white', 'white', 'store', 'white'), ('white', 'blue', 'white', 'white', 'store', 'blue'), ('white', 'blue', 'white', 'white', 'store', 'red'), ('white', 'blue', 'white', 'white', 'restore', 'white'), ('white', 'blue', 'white', 'white', 'restore', 'blue'), ('white', 'blue', 'white', 'white', 'restore', 'red'), ('white', 'blue', 'white', 'blue', 'store', 'white'), ('white', 'blue', 'white', 'blue', 'store', 'blue'), ('white', 'blue', 'white', 'blue', 'store', 'red'), ('white', 'blue', 'white', 'blue', 'restore', 'white'), ('white', 'blue', 'white', 'blue', 'restore', 'blue'), ('white', 'blue', 'white', 'blue', 'restore', 'red'), ('white', 'blue', 'white', 'red', 'store', 'white'), ('white', 'blue', 'white', 'red', 'store', 'blue'), ('white', 'blue', 'white', 'red', 'store', 'red'), ('white', 'blue', 'white', 'red', 'restore', 'white'), ('white', 'blue', 'white', 'red', 'restore', 'blue'), ('white', 'blue', 'white', 'red', 'restore', 'red'), ('white', 'blue', 'blue', 'empty', 'store', 'white'), ('white', 'blue', 'blue', 'empty', 'store', 'blue'), ('white', 'blue', 'blue', 'empty', 'store', 'red'), ('white', 'blue', 'blue', 'empty', 'restore', 'white'), ('white', 'blue', 'blue', 'empty', 'restore', 'blue'), ('white', 'blue', 'blue', 'empty', 'restore', 'red'), ('white', 'blue', 'blue', 'white', 'store', 'white'), ('white', 'blue', 'blue', 'white', 'store', 'blue'), ('white', 'blue', 'blue', 'white', 'store', 'red'), ('white', 'blue', 'blue', 'white', 'restore', 'white'), ('white', 'blue', 'blue', 'white', 'restore', 'blue'), ('white', 'blue', 'blue', 'white', 'restore', 'red'), ('white', 'blue', 'blue', 'blue', 'store', 'white'), ('white', 'blue', 'blue', 'blue', 'store', 'blue'), ('white', 'blue', 'blue', 'blue', 'store', 'red'), ('white', 'blue', 'blue', 'blue', 'restore', 'white'), ('white', 'blue', 'blue', 'blue', 'restore', 'blue'), ('white', 'blue', 'blue', 'blue', 'restore', 'red'), ('white', 'blue', 'blue', 'red', 'store', 'white'), ('white', 'blue', 'blue', 'red', 'store', 'blue'), ('white', 'blue', 'blue', 'red', 'store', 'red'), ('white', 'blue', 'blue', 'red', 'restore', 'white'), ('white', 'blue', 'blue', 'red', 'restore', 'blue'), ('white', 'blue', 'blue', 'red', 'restore', 'red'), ('white', 'blue', 'red', 'empty', 'store', 'white'), ('white', 'blue', 'red', 'empty', 'store', 'blue'), ('white', 'blue', 'red', 'empty', 'store', 'red'), ('white', 'blue', 'red', 'empty', 'restore', 'white'), ('white', 'blue', 'red', 'empty', 'restore', 'blue'), ('white', 'blue', 'red', 'empty', 'restore', 'red'), ('white', 'blue', 'red', 'white', 'store', 'white'), ('white', 'blue', 'red', 'white', 'store', 'blue'), ('white', 'blue', 'red', 'white', 'store', 'red'), ('white', 'blue', 'red', 'white', 'restore', 'white'), ('white', 'blue', 'red', 'white', 'restore', 'blue'), ('white', 'blue', 'red', 'white', 'restore', 'red'), ('white', 'blue', 'red', 'blue', 'store', 'white'), ('white', 'blue', 'red', 'blue', 'store', 'blue'), ('white', 'blue', 'red', 'blue', 'store', 'red'), ('white', 'blue', 'red', 'blue', 'restore', 'white'), ('white', 'blue', 'red', 'blue', 'restore', 'blue'), ('white', 'blue', 'red', 'blue', 'restore', 'red'), ('white', 'blue', 'red', 'red', 'store', 'white'), ('white', 'blue', 'red', 'red', 'store', 'blue'), ('white', 'blue', 'red', 'red', 'store', 'red'), ('white', 'blue', 'red', 'red', 'restore', 'white'), ('white', 'blue', 'red', 'red', 'restore', 'blue'), ('white', 'blue', 'red', 'red', 'restore', 'red'), ('white', 'red', 'empty', 'empty', 'store', 'white'), ('white', 'red', 'empty', 'empty', 'store', 'blue'), ('white', 'red', 'empty', 'empty', 'store', 'red'), ('white', 'red', 'empty', 'empty', 'restore', 'white'), ('white', 'red', 'empty', 'empty', 'restore', 'blue'), ('white', 'red', 'empty', 'empty', 'restore', 'red'), ('white', 'red', 'empty', 'white', 'store', 'white'), ('white', 'red', 'empty', 'white', 'store', 'blue'), ('white', 'red', 'empty', 'white', 'store', 'red'), ('white', 'red', 'empty', 'white', 'restore', 'white'), ('white', 'red', 'empty', 'white', 'restore', 'blue'), ('white', 'red', 'empty', 'white', 'restore', 'red'), ('white', 'red', 'empty', 'blue', 'store', 'white'), ('white', 'red', 'empty', 'blue', 'store', 'blue'), ('white', 'red', 'empty', 'blue', 'store', 'red'), ('white', 'red', 'empty', 'blue', 'restore', 'white'), ('white', 'red', 'empty', 'blue', 'restore', 'blue'), ('white', 'red', 'empty', 'blue', 'restore', 'red'), ('white', 'red', 'empty', 'red', 'store', 'white'), ('white', 'red', 'empty', 'red', 'store', 'blue'), ('white', 'red', 'empty', 'red', 'store', 'red'), ('white', 'red', 'empty', 'red', 'restore', 'white'), ('white', 'red', 'empty', 'red', 'restore', 'blue'), ('white', 'red', 'empty', 'red', 'restore', 'red'), ('white', 'red', 'white', 'empty', 'store', 'white'), ('white', 'red', 'white', 'empty', 'store', 'blue'), ('white', 'red', 'white', 'empty', 'store', 'red'), ('white', 'red', 'white', 'empty', 'restore', 'white'), ('white', 'red', 'white', 'empty', 'restore', 'blue'), ('white', 'red', 'white', 'empty', 'restore', 'red'), ('white', 'red', 'white', 'white', 'store', 'white'), ('white', 'red', 'white', 'white', 'store', 'blue'), ('white', 'red', 'white', 'white', 'store', 'red'), ('white', 'red', 'white', 'white', 'restore', 'white'), ('white', 'red', 'white', 'white', 'restore', 'blue'), ('white', 'red', 'white', 'white', 'restore', 'red'), ('white', 'red', 'white', 'blue', 'store', 'white'), ('white', 'red', 'white', 'blue', 'store', 'blue'), ('white', 'red', 'white', 'blue', 'store', 'red'), ('white', 'red', 'white', 'blue', 'restore', 'white'), ('white', 'red', 'white', 'blue', 'restore', 'blue'), ('white', 'red', 'white', 'blue', 'restore', 'red'), ('white', 'red', 'white', 'red', 'store', 'white'), ('white', 'red', 'white', 'red', 'store', 'blue'), ('white', 'red', 'white', 'red', 'store', 'red'), ('white', 'red', 'white', 'red', 'restore', 'white'), ('white', 'red', 'white', 'red', 'restore', 'blue'), ('white', 'red', 'white', 'red', 'restore', 'red'), ('white', 'red', 'blue', 'empty', 'store', 'white'), ('white', 'red', 'blue', 'empty', 'store', 'blue'), ('white', 'red', 'blue', 'empty', 'store', 'red'), ('white', 'red', 'blue', 'empty', 'restore', 'white'), ('white', 'red', 'blue', 'empty', 'restore', 'blue'), ('white', 'red', 'blue', 'empty', 'restore', 'red'), ('white', 'red', 'blue', 'white', 'store', 'white'), ('white', 'red', 'blue', 'white', 'store', 'blue'), ('white', 'red', 'blue', 'white', 'store', 'red'), ('white', 'red', 'blue', 'white', 'restore', 'white'), ('white', 'red', 'blue', 'white', 'restore', 'blue'), ('white', 'red', 'blue', 'white', 'restore', 'red'), ('white', 'red', 'blue', 'blue', 'store', 'white'), ('white', 'red', 'blue', 'blue', 'store', 'blue'), ('white', 'red', 'blue', 'blue', 'store', 'red'), ('white', 'red', 'blue', 'blue', 'restore', 'white'), ('white', 'red', 'blue', 'blue', 'restore', 'blue'), ('white', 'red', 'blue', 'blue', 'restore', 'red'), ('white', 'red', 'blue', 'red', 'store', 'white'), ('white', 'red', 'blue', 'red', 'store', 'blue'), ('white', 'red', 'blue', 'red', 'store', 'red'), ('white', 'red', 'blue', 'red', 'restore', 'white'), ('white', 'red', 'blue', 'red', 'restore', 'blue'), ('white', 'red', 'blue', 'red', 'restore', 'red'), ('white', 'red', 'red', 'empty', 'store', 'white'), ('white', 'red', 'red', 'empty', 'store', 'blue'), ('white', 'red', 'red', 'empty', 'store', 'red'), ('white', 'red', 'red', 'empty', 'restore', 'white'), ('white', 'red', 'red', 'empty', 'restore', 'blue'), ('white', 'red', 'red', 'empty', 'restore', 'red'), ('white', 'red', 'red', 'white', 'store', 'white'), ('white', 'red', 'red', 'white', 'store', 'blue'), ('white', 'red', 'red', 'white', 'store', 'red'), ('white', 'red', 'red', 'white', 'restore', 'white'), ('white', 'red', 'red', 'white', 'restore', 'blue'), ('white', 'red', 'red', 'white', 'restore', 'red'), ('white', 'red', 'red', 'blue', 'store', 'white'), ('white', 'red', 'red', 'blue', 'store', 'blue'), ('white', 'red', 'red', 'blue', 'store', 'red'), ('white', 'red', 'red', 'blue', 'restore', 'white'), ('white', 'red', 'red', 'blue', 'restore', 'blue'), ('white', 'red', 'red', 'blue', 'restore', 'red'), ('white', 'red', 'red', 'red', 'store', 'white'), ('white', 'red', 'red', 'red', 'store', 'blue'), ('white', 'red', 'red', 'red', 'store', 'red'), ('white', 'red', 'red', 'red', 'restore', 'white'), ('white', 'red', 'red', 'red', 'restore', 'blue'), ('white', 'red', 'red', 'red', 'restore', 'red'), ('blue', 'empty', 'empty', 'empty', 'store', 'white'), ('blue', 'empty', 'empty', 'empty', 'store', 'blue'), ('blue', 'empty', 'empty', 'empty', 'store', 'red'), ('blue', 'empty', 'empty', 'empty', 'restore', 'white'), ('blue', 'empty', 'empty', 'empty', 'restore', 'blue'), ('blue', 'empty', 'empty', 'empty', 'restore', 'red'), ('blue', 'empty', 'empty', 'white', 'store', 'white'), ('blue', 'empty', 'empty', 'white', 'store', 'blue'), ('blue', 'empty', 'empty', 'white', 'store', 'red'), ('blue', 'empty', 'empty', 'white', 'restore', 'white'), ('blue', 'empty', 'empty', 'white', 'restore', 'blue'), ('blue', 'empty', 'empty', 'white', 'restore', 'red'), ('blue', 'empty', 'empty', 'blue', 'store', 'white'), ('blue', 'empty', 'empty', 'blue', 'store', 'blue'), ('blue', 'empty', 'empty', 'blue', 'store', 'red'), ('blue', 'empty', 'empty', 'blue', 'restore', 'white'), ('blue', 'empty', 'empty', 'blue', 'restore', 'blue'), ('blue', 'empty', 'empty', 'blue', 'restore', 'red'), ('blue', 'empty', 'empty', 'red', 'store', 'white'), ('blue', 'empty', 'empty', 'red', 'store', 'blue'), ('blue', 'empty', 'empty', 'red', 'store', 'red'), ('blue', 'empty', 'empty', 'red', 'restore', 'white'), ('blue', 'empty', 'empty', 'red', 'restore', 'blue'), ('blue', 'empty', 'empty', 'red', 'restore', 'red'), ('blue', 'empty', 'white', 'empty', 'store', 'white'), ('blue', 'empty', 'white', 'empty', 'store', 'blue'), ('blue', 'empty', 'white', 'empty', 'store', 'red'), ('blue', 'empty', 'white', 'empty', 'restore', 'white'), ('blue', 'empty', 'white', 'empty', 'restore', 'blue'), ('blue', 'empty', 'white', 'empty', 'restore', 'red'), ('blue', 'empty', 'white', 'white', 'store', 'white'), ('blue', 'empty', 'white', 'white', 'store', 'blue'), ('blue', 'empty', 'white', 'white', 'store', 'red'), ('blue', 'empty', 'white', 'white', 'restore', 'white'), ('blue', 'empty', 'white', 'white', 'restore', 'blue'), ('blue', 'empty', 'white', 'white', 'restore', 'red'), ('blue', 'empty', 'white', 'blue', 'store', 'white'), ('blue', 'empty', 'white', 'blue', 'store', 'blue'), ('blue', 'empty', 'white', 'blue', 'store', 'red'), ('blue', 'empty', 'white', 'blue', 'restore', 'white'), ('blue', 'empty', 'white', 'blue', 'restore', 'blue'), ('blue', 'empty', 'white', 'blue', 'restore', 'red'), ('blue', 'empty', 'white', 'red', 'store', 'white'), ('blue', 'empty', 'white', 'red', 'store', 'blue'), ('blue', 'empty', 'white', 'red', 'store', 'red'), ('blue', 'empty', 'white', 'red', 'restore', 'white'), ('blue', 'empty', 'white', 'red', 'restore', 'blue'), ('blue', 'empty', 'white', 'red', 'restore', 'red'), ('blue', 'empty', 'blue', 'empty', 'store', 'white'), ('blue', 'empty', 'blue', 'empty', 'store', 'blue'), ('blue', 'empty', 'blue', 'empty', 'store', 'red'), ('blue', 'empty', 'blue', 'empty', 'restore', 'white'), ('blue', 'empty', 'blue', 'empty', 'restore', 'blue'), ('blue', 'empty', 'blue', 'empty', 'restore', 'red'), ('blue', 'empty', 'blue', 'white', 'store', 'white'), ('blue', 'empty', 'blue', 'white', 'store', 'blue'), ('blue', 'empty', 'blue', 'white', 'store', 'red'), ('blue', 'empty', 'blue', 'white', 'restore', 'white'), ('blue', 'empty', 'blue', 'white', 'restore', 'blue'), ('blue', 'empty', 'blue', 'white', 'restore', 'red'), ('blue', 'empty', 'blue', 'blue', 'store', 'white'), ('blue', 'empty', 'blue', 'blue', 'store', 'blue'), ('blue', 'empty', 'blue', 'blue', 'store', 'red'), ('blue', 'empty', 'blue', 'blue', 'restore', 'white'), ('blue', 'empty', 'blue', 'blue', 'restore', 'blue'), ('blue', 'empty', 'blue', 'blue', 'restore', 'red'), ('blue', 'empty', 'blue', 'red', 'store', 'white'), ('blue', 'empty', 'blue', 'red', 'store', 'blue'), ('blue', 'empty', 'blue', 'red', 'store', 'red'), ('blue', 'empty', 'blue', 'red', 'restore', 'white'), ('blue', 'empty', 'blue', 'red', 'restore', 'blue'), ('blue', 'empty', 'blue', 'red', 'restore', 'red'), ('blue', 'empty', 'red', 'empty', 'store', 'white'), ('blue', 'empty', 'red', 'empty', 'store', 'blue'), ('blue', 'empty', 'red', 'empty', 'store', 'red'), ('blue', 'empty', 'red', 'empty', 'restore', 'white'), ('blue', 'empty', 'red', 'empty', 'restore', 'blue'), ('blue', 'empty', 'red', 'empty', 'restore', 'red'), ('blue', 'empty', 'red', 'white', 'store', 'white'), ('blue', 'empty', 'red', 'white', 'store', 'blue'), ('blue', 'empty', 'red', 'white', 'store', 'red'), ('blue', 'empty', 'red', 'white', 'restore', 'white'), ('blue', 'empty', 'red', 'white', 'restore', 'blue'), ('blue', 'empty', 'red', 'white', 'restore', 'red'), ('blue', 'empty', 'red', 'blue', 'store', 'white'), ('blue', 'empty', 'red', 'blue', 'store', 'blue'), ('blue', 'empty', 'red', 'blue', 'store', 'red'), ('blue', 'empty', 'red', 'blue', 'restore', 'white'), ('blue', 'empty', 'red', 'blue', 'restore', 'blue'), ('blue', 'empty', 'red', 'blue', 'restore', 'red'), ('blue', 'empty', 'red', 'red', 'store', 'white'), ('blue', 'empty', 'red', 'red', 'store', 'blue'), ('blue', 'empty', 'red', 'red', 'store', 'red'), ('blue', 'empty', 'red', 'red', 'restore', 'white'), ('blue', 'empty', 'red', 'red', 'restore', 'blue'), ('blue', 'empty', 'red', 'red', 'restore', 'red'), ('blue', 'white', 'empty', 'empty', 'store', 'white'), ('blue', 'white', 'empty', 'empty', 'store', 'blue'), ('blue', 'white', 'empty', 'empty', 'store', 'red'), ('blue', 'white', 'empty', 'empty', 'restore', 'white'), ('blue', 'white', 'empty', 'empty', 'restore', 'blue'), ('blue', 'white', 'empty', 'empty', 'restore', 'red'), ('blue', 'white', 'empty', 'white', 'store', 'white'), ('blue', 'white', 'empty', 'white', 'store', 'blue'), ('blue', 'white', 'empty', 'white', 'store', 'red'), ('blue', 'white', 'empty', 'white', 'restore', 'white'), ('blue', 'white', 'empty', 'white', 'restore', 'blue'), ('blue', 'white', 'empty', 'white', 'restore', 'red'), ('blue', 'white', 'empty', 'blue', 'store', 'white'), ('blue', 'white', 'empty', 'blue', 'store', 'blue'), ('blue', 'white', 'empty', 'blue', 'store', 'red'), ('blue', 'white', 'empty', 'blue', 'restore', 'white'), ('blue', 'white', 'empty', 'blue', 'restore', 'blue'), ('blue', 'white', 'empty', 'blue', 'restore', 'red'), ('blue', 'white', 'empty', 'red', 'store', 'white'), ('blue', 'white', 'empty', 'red', 'store', 'blue'), ('blue', 'white', 'empty', 'red', 'store', 'red'), ('blue', 'white', 'empty', 'red', 'restore', 'white'), ('blue', 'white', 'empty', 'red', 'restore', 'blue'), ('blue', 'white', 'empty', 'red', 'restore', 'red'), ('blue', 'white', 'white', 'empty', 'store', 'white'), ('blue', 'white', 'white', 'empty', 'store', 'blue'), ('blue', 'white', 'white', 'empty', 'store', 'red'), ('blue', 'white', 'white', 'empty', 'restore', 'white'), ('blue', 'white', 'white', 'empty', 'restore', 'blue'), ('blue', 'white', 'white', 'empty', 'restore', 'red'), ('blue', 'white', 'white', 'white', 'store', 'white'), ('blue', 'white', 'white', 'white', 'store', 'blue'), ('blue', 'white', 'white', 'white', 'store', 'red'), ('blue', 'white', 'white', 'white', 'restore', 'white'), ('blue', 'white', 'white', 'white', 'restore', 'blue'), ('blue', 'white', 'white', 'white', 'restore', 'red'), ('blue', 'white', 'white', 'blue', 'store', 'white'), ('blue', 'white', 'white', 'blue', 'store', 'blue'), ('blue', 'white', 'white', 'blue', 'store', 'red'), ('blue', 'white', 'white', 'blue', 'restore', 'white'), ('blue', 'white', 'white', 'blue', 'restore', 'blue'), ('blue', 'white', 'white', 'blue', 'restore', 'red'), ('blue', 'white', 'white', 'red', 'store', 'white'), ('blue', 'white', 'white', 'red', 'store', 'blue'), ('blue', 'white', 'white', 'red', 'store', 'red'), ('blue', 'white', 'white', 'red', 'restore', 'white'), ('blue', 'white', 'white', 'red', 'restore', 'blue'), ('blue', 'white', 'white', 'red', 'restore', 'red'), ('blue', 'white', 'blue', 'empty', 'store', 'white'), ('blue', 'white', 'blue', 'empty', 'store', 'blue'), ('blue', 'white', 'blue', 'empty', 'store', 'red'), ('blue', 'white', 'blue', 'empty', 'restore', 'white'), ('blue', 'white', 'blue', 'empty', 'restore', 'blue'), ('blue', 'white', 'blue', 'empty', 'restore', 'red'), ('blue', 'white', 'blue', 'white', 'store', 'white'), ('blue', 'white', 'blue', 'white', 'store', 'blue'), ('blue', 'white', 'blue', 'white', 'store', 'red'), ('blue', 'white', 'blue', 'white', 'restore', 'white'), ('blue', 'white', 'blue', 'white', 'restore', 'blue'), ('blue', 'white', 'blue', 'white', 'restore', 'red'), ('blue', 'white', 'blue', 'blue', 'store', 'white'), ('blue', 'white', 'blue', 'blue', 'store', 'blue'), ('blue', 'white', 'blue', 'blue', 'store', 'red'), ('blue', 'white', 'blue', 'blue', 'restore', 'white'), ('blue', 'white', 'blue', 'blue', 'restore', 'blue'), ('blue', 'white', 'blue', 'blue', 'restore', 'red'), ('blue', 'white', 'blue', 'red', 'store', 'white'), ('blue', 'white', 'blue', 'red', 'store', 'blue'), ('blue', 'white', 'blue', 'red', 'store', 'red'), ('blue', 'white', 'blue', 'red', 'restore', 'white'), ('blue', 'white', 'blue', 'red', 'restore', 'blue'), ('blue', 'white', 'blue', 'red', 'restore', 'red'), ('blue', 'white', 'red', 'empty', 'store', 'white'), ('blue', 'white', 'red', 'empty', 'store', 'blue'), ('blue', 'white', 'red', 'empty', 'store', 'red'), ('blue', 'white', 'red', 'empty', 'restore', 'white'), ('blue', 'white', 'red', 'empty', 'restore', 'blue'), ('blue', 'white', 'red', 'empty', 'restore', 'red'), ('blue', 'white', 'red', 'white', 'store', 'white'), ('blue', 'white', 'red', 'white', 'store', 'blue'), ('blue', 'white', 'red', 'white', 'store', 'red'), ('blue', 'white', 'red', 'white', 'restore', 'white'), ('blue', 'white', 'red', 'white', 'restore', 'blue'), ('blue', 'white', 'red', 'white', 'restore', 'red'), ('blue', 'white', 'red', 'blue', 'store', 'white'), ('blue', 'white', 'red', 'blue', 'store', 'blue'), ('blue', 'white', 'red', 'blue', 'store', 'red'), ('blue', 'white', 'red', 'blue', 'restore', 'white'), ('blue', 'white', 'red', 'blue', 'restore', 'blue'), ('blue', 'white', 'red', 'blue', 'restore', 'red'), ('blue', 'white', 'red', 'red', 'store', 'white'), ('blue', 'white', 'red', 'red', 'store', 'blue'), ('blue', 'white', 'red', 'red', 'store', 'red'), ('blue', 'white', 'red', 'red', 'restore', 'white'), ('blue', 'white', 'red', 'red', 'restore', 'blue'), ('blue', 'white', 'red', 'red', 'restore', 'red'), ('blue', 'blue', 'empty', 'empty', 'store', 'white'), ('blue', 'blue', 'empty', 'empty', 'store', 'blue'), ('blue', 'blue', 'empty', 'empty', 'store', 'red'), ('blue', 'blue', 'empty', 'empty', 'restore', 'white'), ('blue', 'blue', 'empty', 'empty', 'restore', 'blue'), ('blue', 'blue', 'empty', 'empty', 'restore', 'red'), ('blue', 'blue', 'empty', 'white', 'store', 'white'), ('blue', 'blue', 'empty', 'white', 'store', 'blue'), ('blue', 'blue', 'empty', 'white', 'store', 'red'), ('blue', 'blue', 'empty', 'white', 'restore', 'white'), ('blue', 'blue', 'empty', 'white', 'restore', 'blue'), ('blue', 'blue', 'empty', 'white', 'restore', 'red'), ('blue', 'blue', 'empty', 'blue', 'store', 'white'), ('blue', 'blue', 'empty', 'blue', 'store', 'blue'), ('blue', 'blue', 'empty', 'blue', 'store', 'red'), ('blue', 'blue', 'empty', 'blue', 'restore', 'white'), ('blue', 'blue', 'empty', 'blue', 'restore', 'blue'), ('blue', 'blue', 'empty', 'blue', 'restore', 'red'), ('blue', 'blue', 'empty', 'red', 'store', 'white'), ('blue', 'blue', 'empty', 'red', 'store', 'blue'), ('blue', 'blue', 'empty', 'red', 'store', 'red'), ('blue', 'blue', 'empty', 'red', 'restore', 'white'), ('blue', 'blue', 'empty', 'red', 'restore', 'blue'), ('blue', 'blue', 'empty', 'red', 'restore', 'red'), ('blue', 'blue', 'white', 'empty', 'store', 'white'), ('blue', 'blue', 'white', 'empty', 'store', 'blue'), ('blue', 'blue', 'white', 'empty', 'store', 'red'), ('blue', 'blue', 'white', 'empty', 'restore', 'white'), ('blue', 'blue', 'white', 'empty', 'restore', 'blue'), ('blue', 'blue', 'white', 'empty', 'restore', 'red'), ('blue', 'blue', 'white', 'white', 'store', 'white'), ('blue', 'blue', 'white', 'white', 'store', 'blue'), ('blue', 'blue', 'white', 'white', 'store', 'red'), ('blue', 'blue', 'white', 'white', 'restore', 'white'), ('blue', 'blue', 'white', 'white', 'restore', 'blue'), ('blue', 'blue', 'white', 'white', 'restore', 'red'), ('blue', 'blue', 'white', 'blue', 'store', 'white'), ('blue', 'blue', 'white', 'blue', 'store', 'blue'), ('blue', 'blue', 'white', 'blue', 'store', 'red'), ('blue', 'blue', 'white', 'blue', 'restore', 'white'), ('blue', 'blue', 'white', 'blue', 'restore', 'blue'), ('blue', 'blue', 'white', 'blue', 'restore', 'red'), ('blue', 'blue', 'white', 'red', 'store', 'white'), ('blue', 'blue', 'white', 'red', 'store', 'blue'), ('blue', 'blue', 'white', 'red', 'store', 'red'), ('blue', 'blue', 'white', 'red', 'restore', 'white'), ('blue', 'blue', 'white', 'red', 'restore', 'blue'), ('blue', 'blue', 'white', 'red', 'restore', 'red'), ('blue', 'blue', 'blue', 'empty', 'store', 'white'), ('blue', 'blue', 'blue', 'empty', 'store', 'blue'), ('blue', 'blue', 'blue', 'empty', 'store', 'red'), ('blue', 'blue', 'blue', 'empty', 'restore', 'white'), ('blue', 'blue', 'blue', 'empty', 'restore', 'blue'), ('blue', 'blue', 'blue', 'empty', 'restore', 'red'), ('blue', 'blue', 'blue', 'white', 'store', 'white'), ('blue', 'blue', 'blue', 'white', 'store', 'blue'), ('blue', 'blue', 'blue', 'white', 'store', 'red'), ('blue', 'blue', 'blue', 'white', 'restore', 'white'), ('blue', 'blue', 'blue', 'white', 'restore', 'blue'), ('blue', 'blue', 'blue', 'white', 'restore', 'red'), ('blue', 'blue', 'blue', 'blue', 'store', 'white'), ('blue', 'blue', 'blue', 'blue', 'store', 'blue'), ('blue', 'blue', 'blue', 'blue', 'store', 'red'), ('blue', 'blue', 'blue', 'blue', 'restore', 'white'), ('blue', 'blue', 'blue', 'blue', 'restore', 'blue'), ('blue', 'blue', 'blue', 'blue', 'restore', 'red'), ('blue', 'blue', 'blue', 'red', 'store', 'white'), ('blue', 'blue', 'blue', 'red', 'store', 'blue'), ('blue', 'blue', 'blue', 'red', 'store', 'red'), ('blue', 'blue', 'blue', 'red', 'restore', 'white'), ('blue', 'blue', 'blue', 'red', 'restore', 'blue'), ('blue', 'blue', 'blue', 'red', 'restore', 'red'), ('blue', 'blue', 'red', 'empty', 'store', 'white'), ('blue', 'blue', 'red', 'empty', 'store', 'blue'), ('blue', 'blue', 'red', 'empty', 'store', 'red'), ('blue', 'blue', 'red', 'empty', 'restore', 'white'), ('blue', 'blue', 'red', 'empty', 'restore', 'blue'), ('blue', 'blue', 'red', 'empty', 'restore', 'red'), ('blue', 'blue', 'red', 'white', 'store', 'white'), ('blue', 'blue', 'red', 'white', 'store', 'blue'), ('blue', 'blue', 'red', 'white', 'store', 'red'), ('blue', 'blue', 'red', 'white', 'restore', 'white'), ('blue', 'blue', 'red', 'white', 'restore', 'blue'), ('blue', 'blue', 'red', 'white', 'restore', 'red'), ('blue', 'blue', 'red', 'blue', 'store', 'white'), ('blue', 'blue', 'red', 'blue', 'store', 'blue'), ('blue', 'blue', 'red', 'blue', 'store', 'red'), ('blue', 'blue', 'red', 'blue', 'restore', 'white'), ('blue', 'blue', 'red', 'blue', 'restore', 'blue'), ('blue', 'blue', 'red', 'blue', 'restore', 'red'), ('blue', 'blue', 'red', 'red', 'store', 'white'), ('blue', 'blue', 'red', 'red', 'store', 'blue'), ('blue', 'blue', 'red', 'red', 'store', 'red'), ('blue', 'blue', 'red', 'red', 'restore', 'white'), ('blue', 'blue', 'red', 'red', 'restore', 'blue'), ('blue', 'blue', 'red', 'red', 'restore', 'red'), ('blue', 'red', 'empty', 'empty', 'store', 'white'), ('blue', 'red', 'empty', 'empty', 'store', 'blue'), ('blue', 'red', 'empty', 'empty', 'store', 'red'), ('blue', 'red', 'empty', 'empty', 'restore', 'white'), ('blue', 'red', 'empty', 'empty', 'restore', 'blue'), ('blue', 'red', 'empty', 'empty', 'restore', 'red'), ('blue', 'red', 'empty', 'white', 'store', 'white'), ('blue', 'red', 'empty', 'white', 'store', 'blue'), ('blue', 'red', 'empty', 'white', 'store', 'red'), ('blue', 'red', 'empty', 'white', 'restore', 'white'), ('blue', 'red', 'empty', 'white', 'restore', 'blue'), ('blue', 'red', 'empty', 'white', 'restore', 'red'), ('blue', 'red', 'empty', 'blue', 'store', 'white'), ('blue', 'red', 'empty', 'blue', 'store', 'blue'), ('blue', 'red', 'empty', 'blue', 'store', 'red'), ('blue', 'red', 'empty', 'blue', 'restore', 'white'), ('blue', 'red', 'empty', 'blue', 'restore', 'blue'), ('blue', 'red', 'empty', 'blue', 'restore', 'red'), ('blue', 'red', 'empty', 'red', 'store', 'white'), ('blue', 'red', 'empty', 'red', 'store', 'blue'), ('blue', 'red', 'empty', 'red', 'store', 'red'), ('blue', 'red', 'empty', 'red', 'restore', 'white'), ('blue', 'red', 'empty', 'red', 'restore', 'blue'), ('blue', 'red', 'empty', 'red', 'restore', 'red'), ('blue', 'red', 'white', 'empty', 'store', 'white'), ('blue', 'red', 'white', 'empty', 'store', 'blue'), ('blue', 'red', 'white', 'empty', 'store', 'red'), ('blue', 'red', 'white', 'empty', 'restore', 'white'), ('blue', 'red', 'white', 'empty', 'restore', 'blue'), ('blue', 'red', 'white', 'empty', 'restore', 'red'), ('blue', 'red', 'white', 'white', 'store', 'white'), ('blue', 'red', 'white', 'white', 'store', 'blue'), ('blue', 'red', 'white', 'white', 'store', 'red'), ('blue', 'red', 'white', 'white', 'restore', 'white'), ('blue', 'red', 'white', 'white', 'restore', 'blue'), ('blue', 'red', 'white', 'white', 'restore', 'red'), ('blue', 'red', 'white', 'blue', 'store', 'white'), ('blue', 'red', 'white', 'blue', 'store', 'blue'), ('blue', 'red', 'white', 'blue', 'store', 'red'), ('blue', 'red', 'white', 'blue', 'restore', 'white'), ('blue', 'red', 'white', 'blue', 'restore', 'blue'), ('blue', 'red', 'white', 'blue', 'restore', 'red'), ('blue', 'red', 'white', 'red', 'store', 'white'), ('blue', 'red', 'white', 'red', 'store', 'blue'), ('blue', 'red', 'white', 'red', 'store', 'red'), ('blue', 'red', 'white', 'red', 'restore', 'white'), ('blue', 'red', 'white', 'red', 'restore', 'blue'), ('blue', 'red', 'white', 'red', 'restore', 'red'), ('blue', 'red', 'blue', 'empty', 'store', 'white'), ('blue', 'red', 'blue', 'empty', 'store', 'blue'), ('blue', 'red', 'blue', 'empty', 'store', 'red'), ('blue', 'red', 'blue', 'empty', 'restore', 'white'), ('blue', 'red', 'blue', 'empty', 'restore', 'blue'), ('blue', 'red', 'blue', 'empty', 'restore', 'red'), ('blue', 'red', 'blue', 'white', 'store', 'white'), ('blue', 'red', 'blue', 'white', 'store', 'blue'), ('blue', 'red', 'blue', 'white', 'store', 'red'), ('blue', 'red', 'blue', 'white', 'restore', 'white'), ('blue', 'red', 'blue', 'white', 'restore', 'blue'), ('blue', 'red', 'blue', 'white', 'restore', 'red'), ('blue', 'red', 'blue', 'blue', 'store', 'white'), ('blue', 'red', 'blue', 'blue', 'store', 'blue'), ('blue', 'red', 'blue', 'blue', 'store', 'red'), ('blue', 'red', 'blue', 'blue', 'restore', 'white'), ('blue', 'red', 'blue', 'blue', 'restore', 'blue'), ('blue', 'red', 'blue', 'blue', 'restore', 'red'), ('blue', 'red', 'blue', 'red', 'store', 'white'), ('blue', 'red', 'blue', 'red', 'store', 'blue'), ('blue', 'red', 'blue', 'red', 'store', 'red'), ('blue', 'red', 'blue', 'red', 'restore', 'white'), ('blue', 'red', 'blue', 'red', 'restore', 'blue'), ('blue', 'red', 'blue', 'red', 'restore', 'red'), ('blue', 'red', 'red', 'empty', 'store', 'white'), ('blue', 'red', 'red', 'empty', 'store', 'blue'), ('blue', 'red', 'red', 'empty', 'store', 'red'), ('blue', 'red', 'red', 'empty', 'restore', 'white'), ('blue', 'red', 'red', 'empty', 'restore', 'blue'), ('blue', 'red', 'red', 'empty', 'restore', 'red'), ('blue', 'red', 'red', 'white', 'store', 'white'), ('blue', 'red', 'red', 'white', 'store', 'blue'), ('blue', 'red', 'red', 'white', 'store', 'red'), ('blue', 'red', 'red', 'white', 'restore', 'white'), ('blue', 'red', 'red', 'white', 'restore', 'blue'), ('blue', 'red', 'red', 'white', 'restore', 'red'), ('blue', 'red', 'red', 'blue', 'store', 'white'), ('blue', 'red', 'red', 'blue', 'store', 'blue'), ('blue', 'red', 'red', 'blue', 'store', 'red'), ('blue', 'red', 'red', 'blue', 'restore', 'white'), ('blue', 'red', 'red', 'blue', 'restore', 'blue'), ('blue', 'red', 'red', 'blue', 'restore', 'red'), ('blue', 'red', 'red', 'red', 'store', 'white'), ('blue', 'red', 'red', 'red', 'store', 'blue'), ('blue', 'red', 'red', 'red', 'store', 'red'), ('blue', 'red', 'red', 'red', 'restore', 'white'), ('blue', 'red', 'red', 'red', 'restore', 'blue'), ('blue', 'red', 'red', 'red', 'restore', 'red'), ('red', 'empty', 'empty', 'empty', 'store', 'white'), ('red', 'empty', 'empty', 'empty', 'store', 'blue'), ('red', 'empty', 'empty', 'empty', 'store', 'red'), ('red', 'empty', 'empty', 'empty', 'restore', 'white'), ('red', 'empty', 'empty', 'empty', 'restore', 'blue'), ('red', 'empty', 'empty', 'empty', 'restore', 'red'), ('red', 'empty', 'empty', 'white', 'store', 'white'), ('red', 'empty', 'empty', 'white', 'store', 'blue'), ('red', 'empty', 'empty', 'white', 'store', 'red'), ('red', 'empty', 'empty', 'white', 'restore', 'white'), ('red', 'empty', 'empty', 'white', 'restore', 'blue'), ('red', 'empty', 'empty', 'white', 'restore', 'red'), ('red', 'empty', 'empty', 'blue', 'store', 'white'), ('red', 'empty', 'empty', 'blue', 'store', 'blue'), ('red', 'empty', 'empty', 'blue', 'store', 'red'), ('red', 'empty', 'empty', 'blue', 'restore', 'white'), ('red', 'empty', 'empty', 'blue', 'restore', 'blue'), ('red', 'empty', 'empty', 'blue', 'restore', 'red'), ('red', 'empty', 'empty', 'red', 'store', 'white'), ('red', 'empty', 'empty', 'red', 'store', 'blue'), ('red', 'empty', 'empty', 'red', 'store', 'red'), ('red', 'empty', 'empty', 'red', 'restore', 'white'), ('red', 'empty', 'empty', 'red', 'restore', 'blue'), ('red', 'empty', 'empty', 'red', 'restore', 'red'), ('red', 'empty', 'white', 'empty', 'store', 'white'), ('red', 'empty', 'white', 'empty', 'store', 'blue'), ('red', 'empty', 'white', 'empty', 'store', 'red'), ('red', 'empty', 'white', 'empty', 'restore', 'white'), ('red', 'empty', 'white', 'empty', 'restore', 'blue'), ('red', 'empty', 'white', 'empty', 'restore', 'red'), ('red', 'empty', 'white', 'white', 'store', 'white'), ('red', 'empty', 'white', 'white', 'store', 'blue'), ('red', 'empty', 'white', 'white', 'store', 'red'), ('red', 'empty', 'white', 'white', 'restore', 'white'), ('red', 'empty', 'white', 'white', 'restore', 'blue'), ('red', 'empty', 'white', 'white', 'restore', 'red'), ('red', 'empty', 'white', 'blue', 'store', 'white'), ('red', 'empty', 'white', 'blue', 'store', 'blue'), ('red', 'empty', 'white', 'blue', 'store', 'red'), ('red', 'empty', 'white', 'blue', 'restore', 'white'), ('red', 'empty', 'white', 'blue', 'restore', 'blue'), ('red', 'empty', 'white', 'blue', 'restore', 'red'), ('red', 'empty', 'white', 'red', 'store', 'white'), ('red', 'empty', 'white', 'red', 'store', 'blue'), ('red', 'empty', 'white', 'red', 'store', 'red'), ('red', 'empty', 'white', 'red', 'restore', 'white'), ('red', 'empty', 'white', 'red', 'restore', 'blue'), ('red', 'empty', 'white', 'red', 'restore', 'red'), ('red', 'empty', 'blue', 'empty', 'store', 'white'), ('red', 'empty', 'blue', 'empty', 'store', 'blue'), ('red', 'empty', 'blue', 'empty', 'store', 'red'), ('red', 'empty', 'blue', 'empty', 'restore', 'white'), ('red', 'empty', 'blue', 'empty', 'restore', 'blue'), ('red', 'empty', 'blue', 'empty', 'restore', 'red'), ('red', 'empty', 'blue', 'white', 'store', 'white'), ('red', 'empty', 'blue', 'white', 'store', 'blue'), ('red', 'empty', 'blue', 'white', 'store', 'red'), ('red', 'empty', 'blue', 'white', 'restore', 'white'), ('red', 'empty', 'blue', 'white', 'restore', 'blue'), ('red', 'empty', 'blue', 'white', 'restore', 'red'), ('red', 'empty', 'blue', 'blue', 'store', 'white'), ('red', 'empty', 'blue', 'blue', 'store', 'blue'), ('red', 'empty', 'blue', 'blue', 'store', 'red'), ('red', 'empty', 'blue', 'blue', 'restore', 'white'), ('red', 'empty', 'blue', 'blue', 'restore', 'blue'), ('red', 'empty', 'blue', 'blue', 'restore', 'red'), ('red', 'empty', 'blue', 'red', 'store', 'white'), ('red', 'empty', 'blue', 'red', 'store', 'blue'), ('red', 'empty', 'blue', 'red', 'store', 'red'), ('red', 'empty', 'blue', 'red', 'restore', 'white'), ('red', 'empty', 'blue', 'red', 'restore', 'blue'), ('red', 'empty', 'blue', 'red', 'restore', 'red'), ('red', 'empty', 'red', 'empty', 'store', 'white'), ('red', 'empty', 'red', 'empty', 'store', 'blue'), ('red', 'empty', 'red', 'empty', 'store', 'red'), ('red', 'empty', 'red', 'empty', 'restore', 'white'), ('red', 'empty', 'red', 'empty', 'restore', 'blue'), ('red', 'empty', 'red', 'empty', 'restore', 'red'), ('red', 'empty', 'red', 'white', 'store', 'white'), ('red', 'empty', 'red', 'white', 'store', 'blue'), ('red', 'empty', 'red', 'white', 'store', 'red'), ('red', 'empty', 'red', 'white', 'restore', 'white'), ('red', 'empty', 'red', 'white', 'restore', 'blue'), ('red', 'empty', 'red', 'white', 'restore', 'red'), ('red', 'empty', 'red', 'blue', 'store', 'white'), ('red', 'empty', 'red', 'blue', 'store', 'blue'), ('red', 'empty', 'red', 'blue', 'store', 'red'), ('red', 'empty', 'red', 'blue', 'restore', 'white'), ('red', 'empty', 'red', 'blue', 'restore', 'blue'), ('red', 'empty', 'red', 'blue', 'restore', 'red'), ('red', 'empty', 'red', 'red', 'store', 'white'), ('red', 'empty', 'red', 'red', 'store', 'blue'), ('red', 'empty', 'red', 'red', 'store', 'red'), ('red', 'empty', 'red', 'red', 'restore', 'white'), ('red', 'empty', 'red', 'red', 'restore', 'blue'), ('red', 'empty', 'red', 'red', 'restore', 'red'), ('red', 'white', 'empty', 'empty', 'store', 'white'), ('red', 'white', 'empty', 'empty', 'store', 'blue'), ('red', 'white', 'empty', 'empty', 'store', 'red'), ('red', 'white', 'empty', 'empty', 'restore', 'white'), ('red', 'white', 'empty', 'empty', 'restore', 'blue'), ('red', 'white', 'empty', 'empty', 'restore', 'red'), ('red', 'white', 'empty', 'white', 'store', 'white'), ('red', 'white', 'empty', 'white', 'store', 'blue'), ('red', 'white', 'empty', 'white', 'store', 'red'), ('red', 'white', 'empty', 'white', 'restore', 'white'), ('red', 'white', 'empty', 'white', 'restore', 'blue'), ('red', 'white', 'empty', 'white', 'restore', 'red'), ('red', 'white', 'empty', 'blue', 'store', 'white'), ('red', 'white', 'empty', 'blue', 'store', 'blue'), ('red', 'white', 'empty', 'blue', 'store', 'red'), ('red', 'white', 'empty', 'blue', 'restore', 'white'), ('red', 'white', 'empty', 'blue', 'restore', 'blue'), ('red', 'white', 'empty', 'blue', 'restore', 'red'), ('red', 'white', 'empty', 'red', 'store', 'white'), ('red', 'white', 'empty', 'red', 'store', 'blue'), ('red', 'white', 'empty', 'red', 'store', 'red'), ('red', 'white', 'empty', 'red', 'restore', 'white'), ('red', 'white', 'empty', 'red', 'restore', 'blue'), ('red', 'white', 'empty', 'red', 'restore', 'red'), ('red', 'white', 'white', 'empty', 'store', 'white'), ('red', 'white', 'white', 'empty', 'store', 'blue'), ('red', 'white', 'white', 'empty', 'store', 'red'), ('red', 'white', 'white', 'empty', 'restore', 'white'), ('red', 'white', 'white', 'empty', 'restore', 'blue'), ('red', 'white', 'white', 'empty', 'restore', 'red'), ('red', 'white', 'white', 'white', 'store', 'white'), ('red', 'white', 'white', 'white', 'store', 'blue'), ('red', 'white', 'white', 'white', 'store', 'red'), ('red', 'white', 'white', 'white', 'restore', 'white'), ('red', 'white', 'white', 'white', 'restore', 'blue'), ('red', 'white', 'white', 'white', 'restore', 'red'), ('red', 'white', 'white', 'blue', 'store', 'white'), ('red', 'white', 'white', 'blue', 'store', 'blue'), ('red', 'white', 'white', 'blue', 'store', 'red'), ('red', 'white', 'white', 'blue', 'restore', 'white'), ('red', 'white', 'white', 'blue', 'restore', 'blue'), ('red', 'white', 'white', 'blue', 'restore', 'red'), ('red', 'white', 'white', 'red', 'store', 'white'), ('red', 'white', 'white', 'red', 'store', 'blue'), ('red', 'white', 'white', 'red', 'store', 'red'), ('red', 'white', 'white', 'red', 'restore', 'white'), ('red', 'white', 'white', 'red', 'restore', 'blue'), ('red', 'white', 'white', 'red', 'restore', 'red'), ('red', 'white', 'blue', 'empty', 'store', 'white'), ('red', 'white', 'blue', 'empty', 'store', 'blue'), ('red', 'white', 'blue', 'empty', 'store', 'red'), ('red', 'white', 'blue', 'empty', 'restore', 'white'), ('red', 'white', 'blue', 'empty', 'restore', 'blue'), ('red', 'white', 'blue', 'empty', 'restore', 'red'), ('red', 'white', 'blue', 'white', 'store', 'white'), ('red', 'white', 'blue', 'white', 'store', 'blue'), ('red', 'white', 'blue', 'white', 'store', 'red'), ('red', 'white', 'blue', 'white', 'restore', 'white'), ('red', 'white', 'blue', 'white', 'restore', 'blue'), ('red', 'white', 'blue', 'white', 'restore', 'red'), ('red', 'white', 'blue', 'blue', 'store', 'white'), ('red', 'white', 'blue', 'blue', 'store', 'blue'), ('red', 'white', 'blue', 'blue', 'store', 'red'), ('red', 'white', 'blue', 'blue', 'restore', 'white'), ('red', 'white', 'blue', 'blue', 'restore', 'blue'), ('red', 'white', 'blue', 'blue', 'restore', 'red'), ('red', 'white', 'blue', 'red', 'store', 'white'), ('red', 'white', 'blue', 'red', 'store', 'blue'), ('red', 'white', 'blue', 'red', 'store', 'red'), ('red', 'white', 'blue', 'red', 'restore', 'white'), ('red', 'white', 'blue', 'red', 'restore', 'blue'), ('red', 'white', 'blue', 'red', 'restore', 'red'), ('red', 'white', 'red', 'empty', 'store', 'white'), ('red', 'white', 'red', 'empty', 'store', 'blue'), ('red', 'white', 'red', 'empty', 'store', 'red'), ('red', 'white', 'red', 'empty', 'restore', 'white'), ('red', 'white', 'red', 'empty', 'restore', 'blue'), ('red', 'white', 'red', 'empty', 'restore', 'red'), ('red', 'white', 'red', 'white', 'store', 'white'), ('red', 'white', 'red', 'white', 'store', 'blue'), ('red', 'white', 'red', 'white', 'store', 'red'), ('red', 'white', 'red', 'white', 'restore', 'white'), ('red', 'white', 'red', 'white', 'restore', 'blue'), ('red', 'white', 'red', 'white', 'restore', 'red'), ('red', 'white', 'red', 'blue', 'store', 'white'), ('red', 'white', 'red', 'blue', 'store', 'blue'), ('red', 'white', 'red', 'blue', 'store', 'red'), ('red', 'white', 'red', 'blue', 'restore', 'white'), ('red', 'white', 'red', 'blue', 'restore', 'blue'), ('red', 'white', 'red', 'blue', 'restore', 'red'), ('red', 'white', 'red', 'red', 'store', 'white'), ('red', 'white', 'red', 'red', 'store', 'blue'), ('red', 'white', 'red', 'red', 'store', 'red'), ('red', 'white', 'red', 'red', 'restore', 'white'), ('red', 'white', 'red', 'red', 'restore', 'blue'), ('red', 'white', 'red', 'red', 'restore', 'red'), ('red', 'blue', 'empty', 'empty', 'store', 'white'), ('red', 'blue', 'empty', 'empty', 'store', 'blue'), ('red', 'blue', 'empty', 'empty', 'store', 'red'), ('red', 'blue', 'empty', 'empty', 'restore', 'white'), ('red', 'blue', 'empty', 'empty', 'restore', 'blue'), ('red', 'blue', 'empty', 'empty', 'restore', 'red'), ('red', 'blue', 'empty', 'white', 'store', 'white'), ('red', 'blue', 'empty', 'white', 'store', 'blue'), ('red', 'blue', 'empty', 'white', 'store', 'red'), ('red', 'blue', 'empty', 'white', 'restore', 'white'), ('red', 'blue', 'empty', 'white', 'restore', 'blue'), ('red', 'blue', 'empty', 'white', 'restore', 'red'), ('red', 'blue', 'empty', 'blue', 'store', 'white'), ('red', 'blue', 'empty', 'blue', 'store', 'blue'), ('red', 'blue', 'empty', 'blue', 'store', 'red'), ('red', 'blue', 'empty', 'blue', 'restore', 'white'), ('red', 'blue', 'empty', 'blue', 'restore', 'blue'), ('red', 'blue', 'empty', 'blue', 'restore', 'red'), ('red', 'blue', 'empty', 'red', 'store', 'white'), ('red', 'blue', 'empty', 'red', 'store', 'blue'), ('red', 'blue', 'empty', 'red', 'store', 'red'), ('red', 'blue', 'empty', 'red', 'restore', 'white'), ('red', 'blue', 'empty', 'red', 'restore', 'blue'), ('red', 'blue', 'empty', 'red', 'restore', 'red'), ('red', 'blue', 'white', 'empty', 'store', 'white'), ('red', 'blue', 'white', 'empty', 'store', 'blue'), ('red', 'blue', 'white', 'empty', 'store', 'red'), ('red', 'blue', 'white', 'empty', 'restore', 'white'), ('red', 'blue', 'white', 'empty', 'restore', 'blue'), ('red', 'blue', 'white', 'empty', 'restore', 'red'), ('red', 'blue', 'white', 'white', 'store', 'white'), ('red', 'blue', 'white', 'white', 'store', 'blue'), ('red', 'blue', 'white', 'white', 'store', 'red'), ('red', 'blue', 'white', 'white', 'restore', 'white'), ('red', 'blue', 'white', 'white', 'restore', 'blue'), ('red', 'blue', 'white', 'white', 'restore', 'red'), ('red', 'blue', 'white', 'blue', 'store', 'white'), ('red', 'blue', 'white', 'blue', 'store', 'blue'), ('red', 'blue', 'white', 'blue', 'store', 'red'), ('red', 'blue', 'white', 'blue', 'restore', 'white'), ('red', 'blue', 'white', 'blue', 'restore', 'blue'), ('red', 'blue', 'white', 'blue', 'restore', 'red'), ('red', 'blue', 'white', 'red', 'store', 'white'), ('red', 'blue', 'white', 'red', 'store', 'blue'), ('red', 'blue', 'white', 'red', 'store', 'red'), ('red', 'blue', 'white', 'red', 'restore', 'white'), ('red', 'blue', 'white', 'red', 'restore', 'blue'), ('red', 'blue', 'white', 'red', 'restore', 'red'), ('red', 'blue', 'blue', 'empty', 'store', 'white'), ('red', 'blue', 'blue', 'empty', 'store', 'blue'), ('red', 'blue', 'blue', 'empty', 'store', 'red'), ('red', 'blue', 'blue', 'empty', 'restore', 'white'), ('red', 'blue', 'blue', 'empty', 'restore', 'blue'), ('red', 'blue', 'blue', 'empty', 'restore', 'red'), ('red', 'blue', 'blue', 'white', 'store', 'white'), ('red', 'blue', 'blue', 'white', 'store', 'blue'), ('red', 'blue', 'blue', 'white', 'store', 'red'), ('red', 'blue', 'blue', 'white', 'restore', 'white'), ('red', 'blue', 'blue', 'white', 'restore', 'blue'), ('red', 'blue', 'blue', 'white', 'restore', 'red'), ('red', 'blue', 'blue', 'blue', 'store', 'white'), ('red', 'blue', 'blue', 'blue', 'store', 'blue'), ('red', 'blue', 'blue', 'blue', 'store', 'red'), ('red', 'blue', 'blue', 'blue', 'restore', 'white'), ('red', 'blue', 'blue', 'blue', 'restore', 'blue'), ('red', 'blue', 'blue', 'blue', 'restore', 'red'), ('red', 'blue', 'blue', 'red', 'store', 'white'), ('red', 'blue', 'blue', 'red', 'store', 'blue'), ('red', 'blue', 'blue', 'red', 'store', 'red'), ('red', 'blue', 'blue', 'red', 'restore', 'white'), ('red', 'blue', 'blue', 'red', 'restore', 'blue'), ('red', 'blue', 'blue', 'red', 'restore', 'red'), ('red', 'blue', 'red', 'empty', 'store', 'white'), ('red', 'blue', 'red', 'empty', 'store', 'blue'), ('red', 'blue', 'red', 'empty', 'store', 'red'), ('red', 'blue', 'red', 'empty', 'restore', 'white'), ('red', 'blue', 'red', 'empty', 'restore', 'blue'), ('red', 'blue', 'red', 'empty', 'restore', 'red'), ('red', 'blue', 'red', 'white', 'store', 'white'), ('red', 'blue', 'red', 'white', 'store', 'blue'), ('red', 'blue', 'red', 'white', 'store', 'red'), ('red', 'blue', 'red', 'white', 'restore', 'white'), ('red', 'blue', 'red', 'white', 'restore', 'blue'), ('red', 'blue', 'red', 'white', 'restore', 'red'), ('red', 'blue', 'red', 'blue', 'store', 'white'), ('red', 'blue', 'red', 'blue', 'store', 'blue'), ('red', 'blue', 'red', 'blue', 'store', 'red'), ('red', 'blue', 'red', 'blue', 'restore', 'white'), ('red', 'blue', 'red', 'blue', 'restore', 'blue'), ('red', 'blue', 'red', 'blue', 'restore', 'red'), ('red', 'blue', 'red', 'red', 'store', 'white'), ('red', 'blue', 'red', 'red', 'store', 'blue'), ('red', 'blue', 'red', 'red', 'store', 'red'), ('red', 'blue', 'red', 'red', 'restore', 'white'), ('red', 'blue', 'red', 'red', 'restore', 'blue'), ('red', 'blue', 'red', 'red', 'restore', 'red'), ('red', 'red', 'empty', 'empty', 'store', 'white'), ('red', 'red', 'empty', 'empty', 'store', 'blue'), ('red', 'red', 'empty', 'empty', 'store', 'red'), ('red', 'red', 'empty', 'empty', 'restore', 'white'), ('red', 'red', 'empty', 'empty', 'restore', 'blue'), ('red', 'red', 'empty', 'empty', 'restore', 'red'), ('red', 'red', 'empty', 'white', 'store', 'white'), ('red', 'red', 'empty', 'white', 'store', 'blue'), ('red', 'red', 'empty', 'white', 'store', 'red'), ('red', 'red', 'empty', 'white', 'restore', 'white'), ('red', 'red', 'empty', 'white', 'restore', 'blue'), ('red', 'red', 'empty', 'white', 'restore', 'red'), ('red', 'red', 'empty', 'blue', 'store', 'white'), ('red', 'red', 'empty', 'blue', 'store', 'blue'), ('red', 'red', 'empty', 'blue', 'store', 'red'), ('red', 'red', 'empty', 'blue', 'restore', 'white'), ('red', 'red', 'empty', 'blue', 'restore', 'blue'), ('red', 'red', 'empty', 'blue', 'restore', 'red'), ('red', 'red', 'empty', 'red', 'store', 'white'), ('red', 'red', 'empty', 'red', 'store', 'blue'), ('red', 'red', 'empty', 'red', 'store', 'red'), ('red', 'red', 'empty', 'red', 'restore', 'white'), ('red', 'red', 'empty', 'red', 'restore', 'blue'), ('red', 'red', 'empty', 'red', 'restore', 'red'), ('red', 'red', 'white', 'empty', 'store', 'white'), ('red', 'red', 'white', 'empty', 'store', 'blue'), ('red', 'red', 'white', 'empty', 'store', 'red'), ('red', 'red', 'white', 'empty', 'restore', 'white'), ('red', 'red', 'white', 'empty', 'restore', 'blue'), ('red', 'red', 'white', 'empty', 'restore', 'red'), ('red', 'red', 'white', 'white', 'store', 'white'), ('red', 'red', 'white', 'white', 'store', 'blue'), ('red', 'red', 'white', 'white', 'store', 'red'), ('red', 'red', 'white', 'white', 'restore', 'white'), ('red', 'red', 'white', 'white', 'restore', 'blue'), ('red', 'red', 'white', 'white', 'restore', 'red'), ('red', 'red', 'white', 'blue', 'store', 'white'), ('red', 'red', 'white', 'blue', 'store', 'blue'), ('red', 'red', 'white', 'blue', 'store', 'red'), ('red', 'red', 'white', 'blue', 'restore', 'white'), ('red', 'red', 'white', 'blue', 'restore', 'blue'), ('red', 'red', 'white', 'blue', 'restore', 'red'), ('red', 'red', 'white', 'red', 'store', 'white'), ('red', 'red', 'white', 'red', 'store', 'blue'), ('red', 'red', 'white', 'red', 'store', 'red'), ('red', 'red', 'white', 'red', 'restore', 'white'), ('red', 'red', 'white', 'red', 'restore', 'blue'), ('red', 'red', 'white', 'red', 'restore', 'red'), ('red', 'red', 'blue', 'empty', 'store', 'white'), ('red', 'red', 'blue', 'empty', 'store', 'blue'), ('red', 'red', 'blue', 'empty', 'store', 'red'), ('red', 'red', 'blue', 'empty', 'restore', 'white'), ('red', 'red', 'blue', 'empty', 'restore', 'blue'), ('red', 'red', 'blue', 'empty', 'restore', 'red'), ('red', 'red', 'blue', 'white', 'store', 'white'), ('red', 'red', 'blue', 'white', 'store', 'blue'), ('red', 'red', 'blue', 'white', 'store', 'red'), ('red', 'red', 'blue', 'white', 'restore', 'white'), ('red', 'red', 'blue', 'white', 'restore', 'blue'), ('red', 'red', 'blue', 'white', 'restore', 'red'), ('red', 'red', 'blue', 'blue', 'store', 'white'), ('red', 'red', 'blue', 'blue', 'store', 'blue'), ('red', 'red', 'blue', 'blue', 'store', 'red'), ('red', 'red', 'blue', 'blue', 'restore', 'white'), ('red', 'red', 'blue', 'blue', 'restore', 'blue'), ('red', 'red', 'blue', 'blue', 'restore', 'red'), ('red', 'red', 'blue', 'red', 'store', 'white'), ('red', 'red', 'blue', 'red', 'store', 'blue'), ('red', 'red', 'blue', 'red', 'store', 'red'), ('red', 'red', 'blue', 'red', 'restore', 'white'), ('red', 'red', 'blue', 'red', 'restore', 'blue'), ('red', 'red', 'blue', 'red', 'restore', 'red'), ('red', 'red', 'red', 'empty', 'store', 'white'), ('red', 'red', 'red', 'empty', 'store', 'blue'), ('red', 'red', 'red', 'empty', 'store', 'red'), ('red', 'red', 'red', 'empty', 'restore', 'white'), ('red', 'red', 'red', 'empty', 'restore', 'blue'), ('red', 'red', 'red', 'empty', 'restore', 'red'), ('red', 'red', 'red', 'white', 'store', 'white'), ('red', 'red', 'red', 'white', 'store', 'blue'), ('red', 'red', 'red', 'white', 'store', 'red'), ('red', 'red', 'red', 'white', 'restore', 'white'), ('red', 'red', 'red', 'white', 'restore', 'blue'), ('red', 'red', 'red', 'white', 'restore', 'red'), ('red', 'red', 'red', 'blue', 'store', 'white'), ('red', 'red', 'red', 'blue', 'store', 'blue'), ('red', 'red', 'red', 'blue', 'store', 'red'), ('red', 'red', 'red', 'blue', 'restore', 'white'), ('red', 'red', 'red', 'blue', 'restore', 'blue'), ('red', 'red', 'red', 'blue', 'restore', 'red'), ('red', 'red', 'red', 'red', 'store', 'white'), ('red', 'red', 'red', 'red', 'store', 'blue'), ('red', 'red', 'red', 'red', 'store', 'red'), ('red', 'red', 'red', 'red', 'restore', 'white'), ('red', 'red', 'red', 'red', 'restore', 'blue'), ('red', 'red', 'red', 'red', 'restore', 'red')]\n"
     ]
    }
   ],
   "source": [
    "states = get_states()\n",
    "print(states)\n",
    "\n",
    "num_states = len(states)\n",
    "\n",
    "# check if all elements are unique.\n",
    "np.testing.assert_equal(len(list(set(states))), num_states)"
   ],
   "metadata": {
    "collapsed": false,
    "pycharm": {
     "name": "#%%\n"
    }
   }
  },
  {
   "cell_type": "code",
   "execution_count": 577,
   "outputs": [],
   "source": [
    "def field_content_equals(from_state: list, to_state: list) -> bool:\n",
    "    \"\"\"\n",
    "    Indicates whether the field_content part of the from_state and the to_state\n",
    "    are the same.\n",
    "    \"\"\"\n",
    "    return from_state[:4] == to_state[:4]"
   ],
   "metadata": {
    "collapsed": false,
    "pycharm": {
     "name": "#%%\n"
    }
   }
  },
  {
   "cell_type": "code",
   "execution_count": 578,
   "outputs": [],
   "source": [
    "def transition_prob(action: int, from_state: list, to_state: list) -> float:\n",
    "    \"\"\"\n",
    "    Computes the transition probability between a from_state and a to_state executing\n",
    "    an action.\n",
    "\n",
    "    :param action: the action to be executed (lies in [0, 1, 2, 3])\n",
    "    :param from_state: from-state of the transition\n",
    "    :param to_state: to-state of the transition\n",
    "    :return: Transition probability\n",
    "    \"\"\"\n",
    "\n",
    "    # get a list version of the from_state to compare it later with the to_state.\n",
    "    copy_from_state = list(from_state)\n",
    "\n",
    "    # grab the item part of the to_state.\n",
    "    next_item = to_state[-1]\n",
    "\n",
    "    if copy_from_state[4] == 'store':\n",
    "        # if this transition is not valid (warehouse location occupied)\n",
    "        if copy_from_state[action] != 'empty':\n",
    "            # agent stays in the from_state -> probability = 1\n",
    "            return 1 if from_state == to_state else 0\n",
    "\n",
    "        # if the applied action results in the to_state, return probability for that\n",
    "        copy_from_state[action] = copy_from_state[-1]\n",
    "        return probs['store_' + next_item] if field_content_equals(copy_from_state, list(to_state)) else 0\n",
    "    elif copy_from_state[4] == 'restore':\n",
    "        # if this transition is not valid (warehouse location is empty)\n",
    "        if copy_from_state[action] != copy_from_state[-1]:\n",
    "            # agent stays in the from_state -> probability = 1\n",
    "            return 1 if from_state == to_state else 0\n",
    "\n",
    "        # if the applied action results in the to_state, return probability for that\n",
    "        copy_from_state[action] = 'empty'\n",
    "        return probs['restore_' + next_item] if field_content_equals(copy_from_state, list(to_state)) else 0\n",
    "\n",
    "    return 0"
   ],
   "metadata": {
    "collapsed": false,
    "pycharm": {
     "name": "#%%\n"
    }
   }
  },
  {
   "cell_type": "code",
   "execution_count": 579,
   "outputs": [],
   "source": [
    "# test transition probabilities\n",
    "\n",
    "test_prob_impossible_restore_stay = transition_prob(0, ['empty', 'empty', 'empty', 'empty', 'restore', 'red'],\n",
    "                                                    ['empty', 'empty', 'empty', 'empty', 'restore', 'red'])\n",
    "\n",
    "np.testing.assert_equal(test_prob_impossible_restore_stay, 1)\n",
    "\n",
    "test_prob_impossible_store_no_stay = transition_prob(0, ['blue', 'empty', 'empty', 'empty', 'restore', 'red'],\n",
    "                                                     ['blue', 'red', 'empty', 'empty', 'restore', 'red'])\n",
    "\n",
    "np.testing.assert_equal(test_prob_impossible_store_no_stay, 0)\n",
    "\n",
    "test_prob_possible_store = transition_prob(1, ['blue', 'empty', 'empty', 'empty', 'store', 'red'],\n",
    "                                           ['blue', 'red', 'empty', 'empty', 'store', 'blue'])\n",
    "\n",
    "np.testing.assert_equal(test_prob_possible_store, probs['store_blue'])"
   ],
   "metadata": {
    "collapsed": false,
    "pycharm": {
     "name": "#%%\n"
    }
   }
  },
  {
   "cell_type": "code",
   "execution_count": 580,
   "outputs": [],
   "source": [
    "def reward(action: int, state: List[str]) -> float:\n",
    "    if state[action] != 'empty':\n",
    "        return rewards_dict[action]\n",
    "\n",
    "    return 0"
   ],
   "metadata": {
    "collapsed": false,
    "pycharm": {
     "name": "#%%\n"
    }
   }
  },
  {
   "cell_type": "code",
   "execution_count": 581,
   "outputs": [],
   "source": [
    "def transition_and_reward_matrix():\n",
    "    \"\"\"\n",
    "    Computes the transition matrix as a scipy.sparse.csr_matrix and the reward matrix.\n",
    "\n",
    "    :return: transition and reward matrix\n",
    "    \"\"\"\n",
    "    transitions = []\n",
    "    rewards = []\n",
    "\n",
    "    # compute the transition matrix and reward vector for every action.\n",
    "    for action in actions:\n",
    "        row = []\n",
    "        col = []\n",
    "        data = []\n",
    "\n",
    "        reward_vector = []\n",
    "\n",
    "        # compute the transition probability between every state and append it to transitions.\n",
    "        for id_from, from_state in enumerate(states):\n",
    "            for id_to, to_state in enumerate(states):\n",
    "                p = transition_prob(action, from_state, to_state)\n",
    "\n",
    "                if p > 0:\n",
    "                    row.append(id_from)\n",
    "                    col.append(id_to)\n",
    "                    data.append(p)\n",
    "\n",
    "            # append the reward of every state to rewards.\n",
    "            reward_vector.append(reward(action, from_state))\n",
    "\n",
    "        transitions.append(csr_matrix((data, (row, col)), shape=(num_states, num_states)))\n",
    "        rewards.append(reward_vector)\n",
    "\n",
    "    # transpose rewards since the mdptoolbox expects a (S, A) reward matrix\n",
    "    return transitions, np.array(rewards).T"
   ],
   "metadata": {
    "collapsed": false,
    "pycharm": {
     "name": "#%%\n"
    }
   }
  },
  {
   "cell_type": "code",
   "execution_count": 582,
   "outputs": [],
   "source": [
    "P, R = transition_and_reward_matrix()"
   ],
   "metadata": {
    "collapsed": false,
    "pycharm": {
     "name": "#%%\n"
    }
   }
  },
  {
   "cell_type": "code",
   "execution_count": 583,
   "outputs": [
    {
     "data": {
      "text/plain": "array([[0., 0., 0., ..., 0., 0., 0.],\n       [0., 0., 0., ..., 0., 0., 0.],\n       [0., 0., 0., ..., 0., 0., 0.],\n       ...,\n       [0., 0., 0., ..., 1., 0., 0.],\n       [0., 0., 0., ..., 0., 1., 0.],\n       [0., 0., 0., ..., 0., 0., 0.]])"
     },
     "execution_count": 583,
     "metadata": {},
     "output_type": "execute_result"
    }
   ],
   "source": [
    "P[0].toarray()"
   ],
   "metadata": {
    "collapsed": false,
    "pycharm": {
     "name": "#%%\n"
    }
   }
  },
  {
   "cell_type": "code",
   "execution_count": 584,
   "outputs": [
    {
     "data": {
      "text/plain": "array([[0, 0, 0, 0],\n       [0, 0, 0, 0],\n       [0, 0, 0, 0],\n       ...,\n       [4, 3, 2, 1],\n       [4, 3, 2, 1],\n       [4, 3, 2, 1]])"
     },
     "execution_count": 584,
     "metadata": {},
     "output_type": "execute_result"
    }
   ],
   "source": [
    "R"
   ],
   "metadata": {
    "collapsed": false,
    "pycharm": {
     "name": "#%%\n"
    }
   }
  },
  {
   "cell_type": "code",
   "execution_count": 585,
   "outputs": [],
   "source": [
    "# test if transition matrices are stochastic matrices.\n",
    "ones = np.zeros((4, num_states))\n",
    "for i, m in enumerate(P):\n",
    "    ones[i] = np.sum(np.array(m.toarray()), axis=1)\n",
    "\n",
    "np.testing.assert_array_almost_equal(ones, np.ones_like(ones))"
   ],
   "metadata": {
    "collapsed": false,
    "pycharm": {
     "name": "#%%\n"
    }
   }
  },
  {
   "cell_type": "code",
   "execution_count": 586,
   "outputs": [],
   "source": [
    "# test if shape of reward matrix is correct.\n",
    "np.testing.assert_array_equal(R.shape, (num_states, 4))"
   ],
   "metadata": {
    "collapsed": false,
    "pycharm": {
     "name": "#%%\n"
    }
   }
  },
  {
   "cell_type": "code",
   "execution_count": 587,
   "outputs": [],
   "source": [
    "algorithms = [mdp.PolicyIteration, mdp.PolicyIterationModified]\n",
    "discounts = [0.3, 0.5, 0.7, 0.9]\n",
    "\n",
    "policies = []\n",
    "for alg in algorithms:\n",
    "    for d in discounts:\n",
    "        pass\n",
    "        # pi = alg(P, R, d)\n",
    "        # pi.run()\n",
    "\n",
    "        # policies.append(pi.policy)"
   ],
   "metadata": {
    "collapsed": false,
    "pycharm": {
     "name": "#%%\n"
    }
   }
  },
  {
   "cell_type": "code",
   "execution_count": 588,
   "outputs": [],
   "source": [
    "pi = mdp.PolicyIteration(P, R, 0.3)\n",
    "pi.run()"
   ],
   "metadata": {
    "collapsed": false,
    "pycharm": {
     "name": "#%%\n"
    }
   }
  },
  {
   "cell_type": "code",
   "execution_count": 589,
   "outputs": [
    {
     "name": "stdout",
     "output_type": "stream",
     "text": [
      "1536\n"
     ]
    }
   ],
   "source": [
    "result_policy = pi.policy\n",
    "print(len(result_policy))"
   ],
   "metadata": {
    "collapsed": false,
    "pycharm": {
     "name": "#%%\n"
    }
   }
  },
  {
   "cell_type": "code",
   "execution_count": 590,
   "outputs": [],
   "source": [
    "def next_comb_mdp(cur_state: List, state_index: int, policy: tuple) -> List:\n",
    "    \"\"\"\n",
    "    Computes the next field_content part starting in the cur_state and following the policy.\n",
    "\n",
    "    :param cur_state: the previous state.\n",
    "    :param state_index: index in states of cur_state. Used to find the value in policy.\n",
    "    :param policy: the policy to be followed.\n",
    "    :return: field_content part as List.\n",
    "    \"\"\"\n",
    "\n",
    "    action = policy[state_index]\n",
    "    result = cur_state[:4]\n",
    "    cur_task = cur_state[4]\n",
    "    cur_item = cur_state[-1]\n",
    "\n",
    "    if cur_task == 'store':\n",
    "        result[action] = cur_item\n",
    "    elif cur_task == 'restore':\n",
    "        result[action] = 'empty'\n",
    "\n",
    "    return result"
   ],
   "metadata": {
    "collapsed": false,
    "pycharm": {
     "name": "#%%\n"
    }
   }
  },
  {
   "cell_type": "code",
   "execution_count": 591,
   "outputs": [],
   "source": [
    "def distance_mdp(warehouse_input: List[tuple], policy: tuple) -> float:\n",
    "    \"\"\"\n",
    "    Computes the distance the robot goes, given the warehouse_input and following the policy.\n",
    "\n",
    "    :param warehouse_input: List of task/item combinations that are coming to the warehouse.\n",
    "    :param policy: the policy to be followed.\n",
    "    :return: total distance the robot goes.\n",
    "    \"\"\"\n",
    "\n",
    "    # start with empty warehouse\n",
    "    cur_comb = ['empty', 'empty', 'empty', 'empty']\n",
    "    total_dist = 0\n",
    "\n",
    "    # work off the warehouse_input\n",
    "    for cur_task, cur_item in warehouse_input:\n",
    "        cur_comb.append(cur_task)\n",
    "        cur_comb.append(cur_item)\n",
    "\n",
    "        # find transition index for policy\n",
    "        state_index = states.index(tuple(cur_comb))\n",
    "\n",
    "        # compute next field_content part and add distance to total_dist\n",
    "        cur_comb = next_comb_mdp(cur_comb, state_index, policy)\n",
    "        total_dist += dist_dict[policy[state_index]]\n",
    "\n",
    "    return total_dist"
   ],
   "metadata": {
    "collapsed": false,
    "pycharm": {
     "name": "#%%\n"
    }
   }
  },
  {
   "cell_type": "code",
   "execution_count": 592,
   "outputs": [],
   "source": [
    "def next_comb_greedy(cur_state: List) -> List:\n",
    "    \"\"\"\n",
    "    Computes the next field_content part starting in the cur_state following a greedy approach.\n",
    "    \n",
    "    :param cur_state: the previous state.\n",
    "    :return: field_content part as List.\n",
    "    \"\"\"\n",
    "    \n",
    "    result = cur_state[:4]\n",
    "    cur_task = cur_state[4]\n",
    "    cur_item = cur_state[-1]\n",
    "\n",
    "    if cur_task == 'store':\n",
    "        # find next empty field\n",
    "        for action, field in enumerate(result):\n",
    "            if field == 'empty':\n",
    "                result[action] = cur_item\n",
    "                return result, action\n",
    "\n",
    "    elif cur_task == 'restore':\n",
    "        # find next field with cur_item\n",
    "        for action, field in enumerate(result):\n",
    "            if field == cur_item:\n",
    "                result[action] = 'empty'\n",
    "                return result, action\n",
    "\n",
    "    return result, 0"
   ],
   "metadata": {
    "collapsed": false,
    "pycharm": {
     "name": "#%%\n"
    }
   }
  },
  {
   "cell_type": "code",
   "execution_count": 593,
   "outputs": [],
   "source": [
    "def distance_greedy(warehouse_input: List[tuple]) -> float:\n",
    "    \"\"\"\n",
    "    Computes the distance the robot goes, given the warehouse_input and following a greedy approach.\n",
    "\n",
    "    :param warehouse_input: List of task/item combinations that are coming to the warehouse.\n",
    "    :return: total distance the robot goes.\n",
    "    \"\"\"\n",
    "    \n",
    "    # start with empty warehouse\n",
    "    cur_comb = ['empty', 'empty', 'empty', 'empty']\n",
    "    total_reward = 0\n",
    "\n",
    "    # work off the warehouse_input\n",
    "    for cur_task, cur_item in warehouse_input:\n",
    "        cur_comb.append(cur_task)\n",
    "        cur_comb.append(cur_item)\n",
    "\n",
    "        # compute next field_content part and add distance to total_dist\n",
    "        cur_comb, action = next_comb_greedy(cur_comb)\n",
    "        total_reward += dist_dict[action]\n",
    "\n",
    "    return total_reward"
   ],
   "metadata": {
    "collapsed": false,
    "pycharm": {
     "name": "#%%\n"
    }
   }
  },
  {
   "cell_type": "code",
   "execution_count": 594,
   "outputs": [
    {
     "name": "stdout",
     "output_type": "stream",
     "text": [
      "[('store', 'red'), ('store', 'blue'), ('store', 'white'), ('restore', 'blue'), ('restore', 'white'), ('store', 'white'), ('store', 'red'), ('store', 'white'), ('store', 'red'), ('restore', 'red'), ('restore', 'red'), ('store', 'white'), ('store', 'blue'), ('store', 'white'), ('restore', 'red'), ('restore', 'white'), ('restore', 'white'), ('store', 'red'), ('store', 'blue'), ('restore', 'red'), ('store', 'blue'), ('store', 'white'), ('restore', 'white'), ('restore', 'blue'), ('restore', 'white'), ('restore', 'white'), ('restore', 'blue'), ('restore', 'blue'), ('store', 'red'), ('restore', 'red'), ('store', 'red'), ('store', 'white'), ('store', 'red'), ('store', 'red'), ('store', 'white'), ('store', 'white'), ('restore', 'red'), ('restore', 'red'), ('restore', 'red'), ('store', 'red'), ('restore', 'white'), ('restore', 'red'), ('restore', 'white'), ('store', 'red'), ('store', 'red'), ('store', 'white'), ('store', 'white'), ('store', 'blue'), ('restore', 'red'), ('restore', 'red'), ('restore', 'white'), ('restore', 'blue'), ('restore', 'white'), ('restore', 'white'), ('store', 'blue'), ('store', 'white'), ('store', 'white'), ('restore', 'blue'), ('restore', 'white'), ('restore', 'white')]\n"
     ]
    }
   ],
   "source": [
    "def data_to_warehouse_input() -> List[tuple]:\n",
    "    \"\"\"\n",
    "    Reads the warehouse input from testingdata.txt and stores it into task/item combinations.\n",
    "    :return: List of task/item combinations.\n",
    "    \"\"\"\n",
    "    f = open('testingdata.txt', 'r')\n",
    "\n",
    "    result = []\n",
    "    line = f.readline()\n",
    "    while line:\n",
    "        result.append(tuple(line.split()))\n",
    "        line = f.readline()\n",
    "\n",
    "    return result\n",
    "\n",
    "\n",
    "w_input = data_to_warehouse_input()\n",
    "print(w_input)"
   ],
   "metadata": {
    "collapsed": false,
    "pycharm": {
     "name": "#%%\n"
    }
   }
  },
  {
   "cell_type": "code",
   "execution_count": 595,
   "outputs": [
    {
     "name": "stdout",
     "output_type": "stream",
     "text": [
      "120\n",
      "192\n"
     ]
    }
   ],
   "source": [
    "for policy in policies:\n",
    "    print(distance_mdp(w_input, policy))\n",
    "\n",
    "print(distance_mdp(w_input, result_policy))\n",
    "print(distance_greedy(w_input))"
   ],
   "metadata": {
    "collapsed": false,
    "pycharm": {
     "name": "#%%\n"
    }
   }
  }
 ],
 "metadata": {
  "kernelspec": {
   "display_name": "Python 3",
   "language": "python",
   "name": "python3"
  },
  "language_info": {
   "codemirror_mode": {
    "name": "ipython",
    "version": 2
   },
   "file_extension": ".py",
   "mimetype": "text/x-python",
   "name": "python",
   "nbconvert_exporter": "python",
   "pygments_lexer": "ipython2",
   "version": "2.7.6"
  }
 },
 "nbformat": 4,
 "nbformat_minor": 0
}