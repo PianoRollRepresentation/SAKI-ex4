{
 "cells": [
  {
   "cell_type": "code",
   "execution_count": 1,
   "metadata": {
    "collapsed": true
   },
   "outputs": [],
   "source": [
    "import copy\n",
    "\n",
    "import numpy as np\n",
    "from mdptoolbox import mdp"
   ]
  },
  {
   "cell_type": "code",
   "execution_count": 2,
   "outputs": [],
   "source": [
    "items = ['empty', 'white', 'blue', 'red']"
   ],
   "metadata": {
    "collapsed": false,
    "pycharm": {
     "name": "#%%\n"
    }
   }
  },
  {
   "cell_type": "code",
   "execution_count": 3,
   "outputs": [],
   "source": [
    "from itertools import product\n",
    "def all_repeat():\n",
    "    \"\"\"\n",
    "    Computes all permutations of items with repetitions\n",
    "\n",
    "    -> returns ['empty', 'empty', 'empty', 'empty'], ['empty', 'empty', 'empty', 'red'], ..., ['empty', 'white', 'blue', 'red']\n",
    "\n",
    "    :return: permutations of items with repetitions\n",
    "    \"\"\"\n",
    "    results = []\n",
    "    for c in product(items, repeat = 4):\n",
    "        comb = [[c[0], c[1]], [c[2], c[3]]]\n",
    "        results.append(comb)\n",
    "    return results"
   ],
   "metadata": {
    "collapsed": false,
    "pycharm": {
     "name": "#%%\n"
    }
   }
  },
  {
   "cell_type": "code",
   "execution_count": 4,
   "outputs": [
    {
     "name": "stdout",
     "output_type": "stream",
     "text": [
      "[[['empty', 'empty'], ['empty', 'empty']], [['empty', 'empty'], ['empty', 'white']], [['empty', 'empty'], ['empty', 'blue']], [['empty', 'empty'], ['empty', 'red']], [['empty', 'empty'], ['white', 'empty']], [['empty', 'empty'], ['white', 'white']], [['empty', 'empty'], ['white', 'blue']], [['empty', 'empty'], ['white', 'red']], [['empty', 'empty'], ['blue', 'empty']], [['empty', 'empty'], ['blue', 'white']], [['empty', 'empty'], ['blue', 'blue']], [['empty', 'empty'], ['blue', 'red']], [['empty', 'empty'], ['red', 'empty']], [['empty', 'empty'], ['red', 'white']], [['empty', 'empty'], ['red', 'blue']], [['empty', 'empty'], ['red', 'red']], [['empty', 'white'], ['empty', 'empty']], [['empty', 'white'], ['empty', 'white']], [['empty', 'white'], ['empty', 'blue']], [['empty', 'white'], ['empty', 'red']], [['empty', 'white'], ['white', 'empty']], [['empty', 'white'], ['white', 'white']], [['empty', 'white'], ['white', 'blue']], [['empty', 'white'], ['white', 'red']], [['empty', 'white'], ['blue', 'empty']], [['empty', 'white'], ['blue', 'white']], [['empty', 'white'], ['blue', 'blue']], [['empty', 'white'], ['blue', 'red']], [['empty', 'white'], ['red', 'empty']], [['empty', 'white'], ['red', 'white']], [['empty', 'white'], ['red', 'blue']], [['empty', 'white'], ['red', 'red']], [['empty', 'blue'], ['empty', 'empty']], [['empty', 'blue'], ['empty', 'white']], [['empty', 'blue'], ['empty', 'blue']], [['empty', 'blue'], ['empty', 'red']], [['empty', 'blue'], ['white', 'empty']], [['empty', 'blue'], ['white', 'white']], [['empty', 'blue'], ['white', 'blue']], [['empty', 'blue'], ['white', 'red']], [['empty', 'blue'], ['blue', 'empty']], [['empty', 'blue'], ['blue', 'white']], [['empty', 'blue'], ['blue', 'blue']], [['empty', 'blue'], ['blue', 'red']], [['empty', 'blue'], ['red', 'empty']], [['empty', 'blue'], ['red', 'white']], [['empty', 'blue'], ['red', 'blue']], [['empty', 'blue'], ['red', 'red']], [['empty', 'red'], ['empty', 'empty']], [['empty', 'red'], ['empty', 'white']], [['empty', 'red'], ['empty', 'blue']], [['empty', 'red'], ['empty', 'red']], [['empty', 'red'], ['white', 'empty']], [['empty', 'red'], ['white', 'white']], [['empty', 'red'], ['white', 'blue']], [['empty', 'red'], ['white', 'red']], [['empty', 'red'], ['blue', 'empty']], [['empty', 'red'], ['blue', 'white']], [['empty', 'red'], ['blue', 'blue']], [['empty', 'red'], ['blue', 'red']], [['empty', 'red'], ['red', 'empty']], [['empty', 'red'], ['red', 'white']], [['empty', 'red'], ['red', 'blue']], [['empty', 'red'], ['red', 'red']], [['white', 'empty'], ['empty', 'empty']], [['white', 'empty'], ['empty', 'white']], [['white', 'empty'], ['empty', 'blue']], [['white', 'empty'], ['empty', 'red']], [['white', 'empty'], ['white', 'empty']], [['white', 'empty'], ['white', 'white']], [['white', 'empty'], ['white', 'blue']], [['white', 'empty'], ['white', 'red']], [['white', 'empty'], ['blue', 'empty']], [['white', 'empty'], ['blue', 'white']], [['white', 'empty'], ['blue', 'blue']], [['white', 'empty'], ['blue', 'red']], [['white', 'empty'], ['red', 'empty']], [['white', 'empty'], ['red', 'white']], [['white', 'empty'], ['red', 'blue']], [['white', 'empty'], ['red', 'red']], [['white', 'white'], ['empty', 'empty']], [['white', 'white'], ['empty', 'white']], [['white', 'white'], ['empty', 'blue']], [['white', 'white'], ['empty', 'red']], [['white', 'white'], ['white', 'empty']], [['white', 'white'], ['white', 'white']], [['white', 'white'], ['white', 'blue']], [['white', 'white'], ['white', 'red']], [['white', 'white'], ['blue', 'empty']], [['white', 'white'], ['blue', 'white']], [['white', 'white'], ['blue', 'blue']], [['white', 'white'], ['blue', 'red']], [['white', 'white'], ['red', 'empty']], [['white', 'white'], ['red', 'white']], [['white', 'white'], ['red', 'blue']], [['white', 'white'], ['red', 'red']], [['white', 'blue'], ['empty', 'empty']], [['white', 'blue'], ['empty', 'white']], [['white', 'blue'], ['empty', 'blue']], [['white', 'blue'], ['empty', 'red']], [['white', 'blue'], ['white', 'empty']], [['white', 'blue'], ['white', 'white']], [['white', 'blue'], ['white', 'blue']], [['white', 'blue'], ['white', 'red']], [['white', 'blue'], ['blue', 'empty']], [['white', 'blue'], ['blue', 'white']], [['white', 'blue'], ['blue', 'blue']], [['white', 'blue'], ['blue', 'red']], [['white', 'blue'], ['red', 'empty']], [['white', 'blue'], ['red', 'white']], [['white', 'blue'], ['red', 'blue']], [['white', 'blue'], ['red', 'red']], [['white', 'red'], ['empty', 'empty']], [['white', 'red'], ['empty', 'white']], [['white', 'red'], ['empty', 'blue']], [['white', 'red'], ['empty', 'red']], [['white', 'red'], ['white', 'empty']], [['white', 'red'], ['white', 'white']], [['white', 'red'], ['white', 'blue']], [['white', 'red'], ['white', 'red']], [['white', 'red'], ['blue', 'empty']], [['white', 'red'], ['blue', 'white']], [['white', 'red'], ['blue', 'blue']], [['white', 'red'], ['blue', 'red']], [['white', 'red'], ['red', 'empty']], [['white', 'red'], ['red', 'white']], [['white', 'red'], ['red', 'blue']], [['white', 'red'], ['red', 'red']], [['blue', 'empty'], ['empty', 'empty']], [['blue', 'empty'], ['empty', 'white']], [['blue', 'empty'], ['empty', 'blue']], [['blue', 'empty'], ['empty', 'red']], [['blue', 'empty'], ['white', 'empty']], [['blue', 'empty'], ['white', 'white']], [['blue', 'empty'], ['white', 'blue']], [['blue', 'empty'], ['white', 'red']], [['blue', 'empty'], ['blue', 'empty']], [['blue', 'empty'], ['blue', 'white']], [['blue', 'empty'], ['blue', 'blue']], [['blue', 'empty'], ['blue', 'red']], [['blue', 'empty'], ['red', 'empty']], [['blue', 'empty'], ['red', 'white']], [['blue', 'empty'], ['red', 'blue']], [['blue', 'empty'], ['red', 'red']], [['blue', 'white'], ['empty', 'empty']], [['blue', 'white'], ['empty', 'white']], [['blue', 'white'], ['empty', 'blue']], [['blue', 'white'], ['empty', 'red']], [['blue', 'white'], ['white', 'empty']], [['blue', 'white'], ['white', 'white']], [['blue', 'white'], ['white', 'blue']], [['blue', 'white'], ['white', 'red']], [['blue', 'white'], ['blue', 'empty']], [['blue', 'white'], ['blue', 'white']], [['blue', 'white'], ['blue', 'blue']], [['blue', 'white'], ['blue', 'red']], [['blue', 'white'], ['red', 'empty']], [['blue', 'white'], ['red', 'white']], [['blue', 'white'], ['red', 'blue']], [['blue', 'white'], ['red', 'red']], [['blue', 'blue'], ['empty', 'empty']], [['blue', 'blue'], ['empty', 'white']], [['blue', 'blue'], ['empty', 'blue']], [['blue', 'blue'], ['empty', 'red']], [['blue', 'blue'], ['white', 'empty']], [['blue', 'blue'], ['white', 'white']], [['blue', 'blue'], ['white', 'blue']], [['blue', 'blue'], ['white', 'red']], [['blue', 'blue'], ['blue', 'empty']], [['blue', 'blue'], ['blue', 'white']], [['blue', 'blue'], ['blue', 'blue']], [['blue', 'blue'], ['blue', 'red']], [['blue', 'blue'], ['red', 'empty']], [['blue', 'blue'], ['red', 'white']], [['blue', 'blue'], ['red', 'blue']], [['blue', 'blue'], ['red', 'red']], [['blue', 'red'], ['empty', 'empty']], [['blue', 'red'], ['empty', 'white']], [['blue', 'red'], ['empty', 'blue']], [['blue', 'red'], ['empty', 'red']], [['blue', 'red'], ['white', 'empty']], [['blue', 'red'], ['white', 'white']], [['blue', 'red'], ['white', 'blue']], [['blue', 'red'], ['white', 'red']], [['blue', 'red'], ['blue', 'empty']], [['blue', 'red'], ['blue', 'white']], [['blue', 'red'], ['blue', 'blue']], [['blue', 'red'], ['blue', 'red']], [['blue', 'red'], ['red', 'empty']], [['blue', 'red'], ['red', 'white']], [['blue', 'red'], ['red', 'blue']], [['blue', 'red'], ['red', 'red']], [['red', 'empty'], ['empty', 'empty']], [['red', 'empty'], ['empty', 'white']], [['red', 'empty'], ['empty', 'blue']], [['red', 'empty'], ['empty', 'red']], [['red', 'empty'], ['white', 'empty']], [['red', 'empty'], ['white', 'white']], [['red', 'empty'], ['white', 'blue']], [['red', 'empty'], ['white', 'red']], [['red', 'empty'], ['blue', 'empty']], [['red', 'empty'], ['blue', 'white']], [['red', 'empty'], ['blue', 'blue']], [['red', 'empty'], ['blue', 'red']], [['red', 'empty'], ['red', 'empty']], [['red', 'empty'], ['red', 'white']], [['red', 'empty'], ['red', 'blue']], [['red', 'empty'], ['red', 'red']], [['red', 'white'], ['empty', 'empty']], [['red', 'white'], ['empty', 'white']], [['red', 'white'], ['empty', 'blue']], [['red', 'white'], ['empty', 'red']], [['red', 'white'], ['white', 'empty']], [['red', 'white'], ['white', 'white']], [['red', 'white'], ['white', 'blue']], [['red', 'white'], ['white', 'red']], [['red', 'white'], ['blue', 'empty']], [['red', 'white'], ['blue', 'white']], [['red', 'white'], ['blue', 'blue']], [['red', 'white'], ['blue', 'red']], [['red', 'white'], ['red', 'empty']], [['red', 'white'], ['red', 'white']], [['red', 'white'], ['red', 'blue']], [['red', 'white'], ['red', 'red']], [['red', 'blue'], ['empty', 'empty']], [['red', 'blue'], ['empty', 'white']], [['red', 'blue'], ['empty', 'blue']], [['red', 'blue'], ['empty', 'red']], [['red', 'blue'], ['white', 'empty']], [['red', 'blue'], ['white', 'white']], [['red', 'blue'], ['white', 'blue']], [['red', 'blue'], ['white', 'red']], [['red', 'blue'], ['blue', 'empty']], [['red', 'blue'], ['blue', 'white']], [['red', 'blue'], ['blue', 'blue']], [['red', 'blue'], ['blue', 'red']], [['red', 'blue'], ['red', 'empty']], [['red', 'blue'], ['red', 'white']], [['red', 'blue'], ['red', 'blue']], [['red', 'blue'], ['red', 'red']], [['red', 'red'], ['empty', 'empty']], [['red', 'red'], ['empty', 'white']], [['red', 'red'], ['empty', 'blue']], [['red', 'red'], ['empty', 'red']], [['red', 'red'], ['white', 'empty']], [['red', 'red'], ['white', 'white']], [['red', 'red'], ['white', 'blue']], [['red', 'red'], ['white', 'red']], [['red', 'red'], ['blue', 'empty']], [['red', 'red'], ['blue', 'white']], [['red', 'red'], ['blue', 'blue']], [['red', 'red'], ['blue', 'red']], [['red', 'red'], ['red', 'empty']], [['red', 'red'], ['red', 'white']], [['red', 'red'], ['red', 'blue']], [['red', 'red'], ['red', 'red']]]\n"
     ]
    }
   ],
   "source": [
    "item_combinations = all_repeat()\n",
    "print(item_combinations)"
   ],
   "metadata": {
    "collapsed": false,
    "pycharm": {
     "name": "#%%\n"
    }
   }
  },
  {
   "cell_type": "code",
   "execution_count": 5,
   "outputs": [],
   "source": [
    "def neighboured_fields(field_from: tuple, field_to: tuple) -> bool:\n",
    "    \"\"\"\n",
    "    Indicates if the input fields are horizontally or vertically neighboured.\n",
    "\n",
    "    :param field_from: coordinates of from-field.\n",
    "    :param field_to: coordinates of to-field.\n",
    "    :return: True if the fields are neighboured, False otherwise.\n",
    "    \"\"\"\n",
    "    return np.linalg.norm(np.subtract(field_from, field_to)) <= 1"
   ],
   "metadata": {
    "collapsed": false,
    "pycharm": {
     "name": "#%%\n"
    }
   }
  },
  {
   "cell_type": "code",
   "execution_count": 6,
   "outputs": [],
   "source": [
    "def num_key_neighbours(comb: list, key: str, field: tuple) -> int:\n",
    "    result = 0\n",
    "    y = field[0]\n",
    "    x = field[1]\n",
    "\n",
    "    for step in [[0, 1], [1, 0], [0, -1], [-1, 0]]:\n",
    "        y += step[0]\n",
    "        x += step[1]\n",
    "\n",
    "        if 1 >= y >= 0 and 1 >= x >= 0 and comb[y][x] == key:\n",
    "            result += 1\n",
    "\n",
    "        y = field[0]\n",
    "        x = field[1]\n",
    "\n",
    "    return result\n",
    "\n"
   ],
   "metadata": {
    "collapsed": false,
    "pycharm": {
     "name": "#%%\n"
    }
   }
  },
  {
   "cell_type": "code",
   "execution_count": 7,
   "outputs": [],
   "source": [
    "def impossible_store_transition(key: str, from_comb: list, to_comb: list, field: tuple):\n",
    "    \"\"\"\n",
    "    Indicates if this store transition is impossible.\n",
    "\n",
    "    Example:\n",
    "        from-state: ['red']  ->  ['empty' 'blue']\n",
    "                                 ['white' 'empty']\n",
    "\n",
    "        to-state: ['empty' 'blue']\n",
    "                  ['white' 'empty'] -> ['blue']\n",
    "\n",
    "        is impossible, because 'red' needs to be stored somewhere.\n",
    "\n",
    "    :param key: key of the item to be stored in the warehouse (in example: 'red').\n",
    "    :param from_comb: from-state without the key as list (item to be stored, in example: [['empty', 'blue']\n",
    "                                                                                          ['white', 'empty']]).\n",
    "    :param to_comb: to-state without the key as list (item to be stored/restored, in example: [['empty', 'blue']\n",
    "                                                                                               ['white', 'empty']]).\n",
    "    :param field: coordinates the robot stands at.\n",
    "    :return: True if the transition is impossible, False otherwise.\n",
    "    \"\"\"\n",
    "    from_comb_temp = copy.deepcopy(from_comb)\n",
    "    y = field[0]\n",
    "    x = field[1]\n",
    "\n",
    "    if from_comb_temp[y][x] == 'empty':\n",
    "        from_comb_temp[y][x] = key\n",
    "\n",
    "        if from_comb_temp == to_comb:\n",
    "            return False\n",
    "    return True"
   ],
   "metadata": {
    "collapsed": false,
    "pycharm": {
     "name": "#%%\n"
    }
   }
  },
  {
   "cell_type": "code",
   "execution_count": 8,
   "outputs": [],
   "source": [
    "def impossible_restore_transition(key: str, from_comb: list, to_comb: list, field: tuple):\n",
    "    \"\"\"\n",
    "    Indicates if this restore transition is impossible.\n",
    "\n",
    "    Example:\n",
    "        from-state: ['empty' 'blue']\n",
    "                    ['white' 'empty'] -> ['blue']\n",
    "\n",
    "        to-state: ['empty' 'blue']\n",
    "                  ['white' 'empty'] -> ['white']\n",
    "\n",
    "        is impossible, because some 'blue' needs to be restored.\n",
    "\n",
    "    :param key: key of the item to be restored in the warehouse (in example: 'blue').\n",
    "    :param from_comb: from-state without the key as list (item to be restored, in example: [['empty', 'blue']\n",
    "                                                                                            ['white', 'empty']]).\n",
    "    :param to_comb: to-state without the key as list (item to be stored/restored, in example: [['empty', 'blue']\n",
    "                                                                                               ['white', 'empty']]).\n",
    "    :param field: coordinates the robot stands at.\n",
    "    :return: True if the transition is impossible, False otherwise.\n",
    "    \"\"\"\n",
    "    from_comb_temp = copy.deepcopy(from_comb)\n",
    "    y = field[0]\n",
    "    x = field[1]\n",
    "\n",
    "    if from_comb_temp[y][x] == key:\n",
    "        from_comb_temp[y][x] = 'empty'\n",
    "\n",
    "        if from_comb_temp == to_comb:\n",
    "            return False\n",
    "    return True\n"
   ],
   "metadata": {
    "collapsed": false,
    "pycharm": {
     "name": "#%%\n"
    }
   }
  },
  {
   "cell_type": "code",
   "execution_count": 9,
   "outputs": [],
   "source": [
    "def store_transition_probability(from_comb: list, p_to: int, field: tuple):\n",
    "    \"\"\"\n",
    "    Probability to transition from the from-state to the to-state via storing.\n",
    "\n",
    "    Example:\n",
    "        from-state: ['red']  ->  ['empty' 'blue']\n",
    "                                 ['white' 'empty']\n",
    "\n",
    "        to-state: ['red' 'blue']\n",
    "                  ['white' 'empty'] -> ['blue']\n",
    "\n",
    "        returns (1 / 2) * prob_blue\n",
    "    :param from_comb: from-state without the key (item to be stored) as list (in example: [['empty', 'blue']\n",
    "                                                                                           ['white', 'empty']]).\n",
    "    :param p_to: probability of the store/restore operation in the to-state (in example: prob_blue).\n",
    "    :param field: coordinates the robot stands at.\n",
    "    :return: Transition probability of storing.\n",
    "    \"\"\"\n",
    "    num_free_fields = num_key_neighbours(from_comb, 'empty', field)\n",
    "    if num_free_fields == 0:\n",
    "        return 0\n",
    "\n",
    "    return p_to / (2 * num_free_fields)"
   ],
   "metadata": {
    "collapsed": false,
    "pycharm": {
     "name": "#%%\n"
    }
   }
  },
  {
   "cell_type": "code",
   "execution_count": 10,
   "outputs": [],
   "source": [
    "def restore_transition_probability(key_from: str, from_comb: list, p_to: int, field: tuple):\n",
    "    \"\"\"\n",
    "    Probability to transition from the from-state to the to-state via restoring.\n",
    "\n",
    "    Example:\n",
    "        from-state: ['red' 'blue']\n",
    "                    ['white' 'empty'] -> ['red']\n",
    "\n",
    "        to-state: ['empty' 'blue']\n",
    "                  ['white' 'empty'] -> ['blue']\n",
    "\n",
    "        returns (1 / 2) * prob_blue\n",
    "\n",
    "    :param key_from: key (item to be restored) of from-state (in example: 'red').\n",
    "    :param from_comb: from-state without the key (item to be restored) as list (in example: [['red', 'blue']\n",
    "                                                                                             ['white', 'empty']]).\n",
    "    :param p_to: probability of the store/restore operation in the to-state (in example: prob_blue).\n",
    "    :param field: coordinates the robot stands at.\n",
    "    :return: Transition probability of storing.\n",
    "    \"\"\"\n",
    "    num_free_fields = num_key_neighbours(from_comb, key_from, field)\n",
    "    if num_free_fields == 0:\n",
    "        return 0\n",
    "\n",
    "    return p_to / (2 * num_free_fields)"
   ],
   "metadata": {
    "collapsed": false,
    "pycharm": {
     "name": "#%%\n"
    }
   }
  },
  {
   "cell_type": "code",
   "execution_count": 11,
   "outputs": [],
   "source": [
    "def get_store_transitions(key_from: str, from_comb: list, p_to: float, field: tuple) -> list:\n",
    "    \"\"\"\n",
    "    Returns a list of all store transition probabilities with fixed from-state and fixed stored/restored item in the to-state.\n",
    "\n",
    "    :param key_from: key of the item to be stored in the warehouse.\n",
    "    :param from_comb: from-state without the key as list (item to be stored)\n",
    "    :param p_to: probability of the store/restore operation in the to-state.\n",
    "    :param field: coordinates the robot stands at.\n",
    "    :return: List of store transition probabilities.\n",
    "    \"\"\"\n",
    "    if from_comb[field[0]][field[1]] != 'empty':\n",
    "\n",
    "    result = []\n",
    "    for item in item_combinations:\n",
    "        if impossible_store_transition(key_from, from_comb, item, field):\n",
    "            result.append(0)\n",
    "            continue\n",
    "\n",
    "        result.append(1 / 6)\n",
    "        # result.append(store_transition_probability(item, p_to, field))\n",
    "\n",
    "    return result"
   ],
   "metadata": {
    "collapsed": false,
    "pycharm": {
     "name": "#%%\n"
    }
   }
  },
  {
   "cell_type": "code",
   "execution_count": 12,
   "outputs": [],
   "source": [
    "def get_restore_transitions(key_from: str, from_comb: list, p_to: float, field: tuple) -> list:\n",
    "    \"\"\"\n",
    "    Returns a list of all restore transition probabilities with fixed from-state and fixed stored/restored item in the to-state.\n",
    "\n",
    "    :param key_from: key of the item to be restored in the warehouse.\n",
    "    :param from_comb: from-state without the key as list (item to be stored)\n",
    "    :param p_to: probability of the store/restore operation in the to-state.\n",
    "    :param field: coordinates the robot stands at.\n",
    "    :return: List of restore transition probabilities.\n",
    "    \"\"\"\n",
    "    result = []\n",
    "    for item in item_combinations:\n",
    "        if impossible_restore_transition(key_from, from_comb, item, field):\n",
    "            result.append(0)\n",
    "            continue\n",
    "\n",
    "        result.append(1 / 6)\n",
    "        # result.append(restore_transition_probability(key_from, item, p_to, field))\n",
    "\n",
    "    return result"
   ],
   "metadata": {
    "collapsed": false,
    "pycharm": {
     "name": "#%%\n"
    }
   }
  },
  {
   "cell_type": "code",
   "execution_count": 47,
   "outputs": [],
   "source": [
    "def init_transitions(w, b, r) -> np.array:\n",
    "    \"\"\"\n",
    "    Computes the transition probability matrix.\n",
    "\n",
    "    :param w: probability that a white item is store/restored.\n",
    "    :param b: probability that a blue item is store/restored.\n",
    "    :param r: probability that a red item is store/restored.\n",
    "    :return: transition probability matrix.\n",
    "    \"\"\"\n",
    "    probabilities = {'white': w, 'blue': b, 'red': r}\n",
    "    fields = [(0, 0), (0, 1), (1, 0), (1, 1)]\n",
    "\n",
    "    result = []\n",
    "    for field in fields:\n",
    "        matrix = []\n",
    "        for key_row, p_row in probabilities.items():\n",
    "            for comb_row in item_combinations:\n",
    "                line = []\n",
    "                for key_column, p_column in probabilities.items():\n",
    "                    store_transitions = get_store_transitions(key_from=key_row, from_comb=comb_row, p_to=p_column, field=field)\n",
    "\n",
    "                    line += store_transitions + store_transitions\n",
    "\n",
    "            for comb_row in item_combinations:\n",
    "                line = []\n",
    "                for key_column, p_column in probabilities.items():\n",
    "                    restore_transitions = get_restore_transitions(key_from=key_row, from_comb=comb_row, p_to=p_column, field=field)\n",
    "\n",
    "                    line += restore_transitions + restore_transitions\n",
    "\n",
    "                matrix.append(line)\n",
    "\n",
    "        result.append(matrix)\n",
    "\n",
    "    return np.array(result)\n"
   ],
   "metadata": {
    "collapsed": false,
    "pycharm": {
     "name": "#%%\n"
    }
   }
  },
  {
   "cell_type": "code",
   "execution_count": 46,
   "outputs": [
    {
     "ename": "KeyboardInterrupt",
     "evalue": "",
     "output_type": "error",
     "traceback": [
      "\u001B[1;31m---------------------------------------------------------------------------\u001B[0m",
      "\u001B[1;31mKeyboardInterrupt\u001B[0m                         Traceback (most recent call last)",
      "\u001B[1;32m<ipython-input-46-36f73e6415f9>\u001B[0m in \u001B[0;36m<module>\u001B[1;34m\u001B[0m\n\u001B[0;32m      5\u001B[0m \u001B[0mred\u001B[0m \u001B[1;33m=\u001B[0m \u001B[1;36m0.1\u001B[0m\u001B[1;33m\u001B[0m\u001B[1;33m\u001B[0m\u001B[0m\n\u001B[0;32m      6\u001B[0m \u001B[1;33m\u001B[0m\u001B[0m\n\u001B[1;32m----> 7\u001B[1;33m \u001B[0mtransitions_test\u001B[0m \u001B[1;33m=\u001B[0m \u001B[0minit_transitions\u001B[0m\u001B[1;33m(\u001B[0m\u001B[0mwhite\u001B[0m\u001B[1;33m,\u001B[0m \u001B[0mblue\u001B[0m\u001B[1;33m,\u001B[0m \u001B[0mred\u001B[0m\u001B[1;33m)\u001B[0m\u001B[1;33m\u001B[0m\u001B[1;33m\u001B[0m\u001B[0m\n\u001B[0m\u001B[0;32m      8\u001B[0m \u001B[0mneu\u001B[0m \u001B[1;33m=\u001B[0m \u001B[0mnp\u001B[0m\u001B[1;33m.\u001B[0m\u001B[0msum\u001B[0m\u001B[1;33m(\u001B[0m\u001B[0mtransitions_test\u001B[0m\u001B[1;33m,\u001B[0m \u001B[0maxis\u001B[0m\u001B[1;33m=\u001B[0m\u001B[1;36m2\u001B[0m\u001B[1;33m)\u001B[0m\u001B[1;33m\u001B[0m\u001B[1;33m\u001B[0m\u001B[0m\n\u001B[0;32m      9\u001B[0m \u001B[1;33m\u001B[0m\u001B[0m\n",
      "\u001B[1;32m<ipython-input-45-cbe02c51a913>\u001B[0m in \u001B[0;36minit_transitions\u001B[1;34m(w, b, r)\u001B[0m\n\u001B[0;32m     17\u001B[0m         \u001B[1;32mfor\u001B[0m \u001B[0mkey_row\u001B[0m\u001B[1;33m,\u001B[0m \u001B[0mp_row\u001B[0m \u001B[1;32min\u001B[0m \u001B[0mprobabilities\u001B[0m\u001B[1;33m.\u001B[0m\u001B[0mitems\u001B[0m\u001B[1;33m(\u001B[0m\u001B[1;33m)\u001B[0m\u001B[1;33m:\u001B[0m\u001B[1;33m\u001B[0m\u001B[1;33m\u001B[0m\u001B[0m\n\u001B[0;32m     18\u001B[0m             \u001B[0mline\u001B[0m \u001B[1;33m=\u001B[0m \u001B[1;33m[\u001B[0m\u001B[1;33m]\u001B[0m\u001B[1;33m\u001B[0m\u001B[1;33m\u001B[0m\u001B[0m\n\u001B[1;32m---> 19\u001B[1;33m             \u001B[1;32mfor\u001B[0m \u001B[0mcomb_row\u001B[0m \u001B[1;32min\u001B[0m \u001B[0mitem_combinations\u001B[0m\u001B[1;33m:\u001B[0m\u001B[1;33m\u001B[0m\u001B[1;33m\u001B[0m\u001B[0m\n\u001B[0m\u001B[0;32m     20\u001B[0m                 \u001B[1;32mfor\u001B[0m \u001B[0mkey_column\u001B[0m\u001B[1;33m,\u001B[0m \u001B[0mp_column\u001B[0m \u001B[1;32min\u001B[0m \u001B[0mprobabilities\u001B[0m\u001B[1;33m.\u001B[0m\u001B[0mitems\u001B[0m\u001B[1;33m(\u001B[0m\u001B[1;33m)\u001B[0m\u001B[1;33m:\u001B[0m\u001B[1;33m\u001B[0m\u001B[1;33m\u001B[0m\u001B[0m\n\u001B[0;32m     21\u001B[0m                     \u001B[0mstore_transitions\u001B[0m \u001B[1;33m=\u001B[0m \u001B[0mget_store_transitions\u001B[0m\u001B[1;33m(\u001B[0m\u001B[0mkey_from\u001B[0m\u001B[1;33m=\u001B[0m\u001B[0mkey_row\u001B[0m\u001B[1;33m,\u001B[0m \u001B[0mfrom_comb\u001B[0m\u001B[1;33m=\u001B[0m\u001B[0mcomb_row\u001B[0m\u001B[1;33m,\u001B[0m \u001B[0mp_to\u001B[0m\u001B[1;33m=\u001B[0m\u001B[0mp_column\u001B[0m\u001B[1;33m,\u001B[0m \u001B[0mfield\u001B[0m\u001B[1;33m=\u001B[0m\u001B[0mfield\u001B[0m\u001B[1;33m)\u001B[0m\u001B[1;33m\u001B[0m\u001B[1;33m\u001B[0m\u001B[0m\n",
      "\u001B[1;32m<ipython-input-45-cbe02c51a913>\u001B[0m in \u001B[0;36minit_transitions\u001B[1;34m(w, b, r)\u001B[0m\n\u001B[0;32m     17\u001B[0m         \u001B[1;32mfor\u001B[0m \u001B[0mkey_row\u001B[0m\u001B[1;33m,\u001B[0m \u001B[0mp_row\u001B[0m \u001B[1;32min\u001B[0m \u001B[0mprobabilities\u001B[0m\u001B[1;33m.\u001B[0m\u001B[0mitems\u001B[0m\u001B[1;33m(\u001B[0m\u001B[1;33m)\u001B[0m\u001B[1;33m:\u001B[0m\u001B[1;33m\u001B[0m\u001B[1;33m\u001B[0m\u001B[0m\n\u001B[0;32m     18\u001B[0m             \u001B[0mline\u001B[0m \u001B[1;33m=\u001B[0m \u001B[1;33m[\u001B[0m\u001B[1;33m]\u001B[0m\u001B[1;33m\u001B[0m\u001B[1;33m\u001B[0m\u001B[0m\n\u001B[1;32m---> 19\u001B[1;33m             \u001B[1;32mfor\u001B[0m \u001B[0mcomb_row\u001B[0m \u001B[1;32min\u001B[0m \u001B[0mitem_combinations\u001B[0m\u001B[1;33m:\u001B[0m\u001B[1;33m\u001B[0m\u001B[1;33m\u001B[0m\u001B[0m\n\u001B[0m\u001B[0;32m     20\u001B[0m                 \u001B[1;32mfor\u001B[0m \u001B[0mkey_column\u001B[0m\u001B[1;33m,\u001B[0m \u001B[0mp_column\u001B[0m \u001B[1;32min\u001B[0m \u001B[0mprobabilities\u001B[0m\u001B[1;33m.\u001B[0m\u001B[0mitems\u001B[0m\u001B[1;33m(\u001B[0m\u001B[1;33m)\u001B[0m\u001B[1;33m:\u001B[0m\u001B[1;33m\u001B[0m\u001B[1;33m\u001B[0m\u001B[0m\n\u001B[0;32m     21\u001B[0m                     \u001B[0mstore_transitions\u001B[0m \u001B[1;33m=\u001B[0m \u001B[0mget_store_transitions\u001B[0m\u001B[1;33m(\u001B[0m\u001B[0mkey_from\u001B[0m\u001B[1;33m=\u001B[0m\u001B[0mkey_row\u001B[0m\u001B[1;33m,\u001B[0m \u001B[0mfrom_comb\u001B[0m\u001B[1;33m=\u001B[0m\u001B[0mcomb_row\u001B[0m\u001B[1;33m,\u001B[0m \u001B[0mp_to\u001B[0m\u001B[1;33m=\u001B[0m\u001B[0mp_column\u001B[0m\u001B[1;33m,\u001B[0m \u001B[0mfield\u001B[0m\u001B[1;33m=\u001B[0m\u001B[0mfield\u001B[0m\u001B[1;33m)\u001B[0m\u001B[1;33m\u001B[0m\u001B[1;33m\u001B[0m\u001B[0m\n",
      "\u001B[1;32m_pydevd_bundle\\pydevd_cython_win32_39_64.pyx\u001B[0m in \u001B[0;36m_pydevd_bundle.pydevd_cython_win32_39_64.SafeCallWrapper.__call__\u001B[1;34m()\u001B[0m\n",
      "\u001B[1;32m_pydevd_bundle\\pydevd_cython_win32_39_64.pyx\u001B[0m in \u001B[0;36m_pydevd_bundle.pydevd_cython_win32_39_64.PyDBFrame.trace_dispatch\u001B[1;34m()\u001B[0m\n",
      "\u001B[1;32m_pydevd_bundle\\pydevd_cython_win32_39_64.pyx\u001B[0m in \u001B[0;36m_pydevd_bundle.pydevd_cython_win32_39_64.PyDBFrame.trace_dispatch\u001B[1;34m()\u001B[0m\n",
      "\u001B[1;32m_pydevd_bundle\\pydevd_cython_win32_39_64.pyx\u001B[0m in \u001B[0;36m_pydevd_bundle.pydevd_cython_win32_39_64.PyDBFrame.trace_dispatch\u001B[1;34m()\u001B[0m\n",
      "\u001B[1;32mC:\\Program Files\\JetBrains\\PyCharm 2021.1\\plugins\\python\\helpers-pro\\jupyter_debug\\pydev_jupyter_plugin.py\u001B[0m in \u001B[0;36mstop\u001B[1;34m(plugin, pydb, frame, event, args, stop_info, arg, step_cmd)\u001B[0m\n\u001B[0;32m    163\u001B[0m         \u001B[0mframe\u001B[0m \u001B[1;33m=\u001B[0m \u001B[0msuspend_jupyter\u001B[0m\u001B[1;33m(\u001B[0m\u001B[0mmain_debugger\u001B[0m\u001B[1;33m,\u001B[0m \u001B[0mthread\u001B[0m\u001B[1;33m,\u001B[0m \u001B[0mframe\u001B[0m\u001B[1;33m,\u001B[0m \u001B[0mstep_cmd\u001B[0m\u001B[1;33m)\u001B[0m\u001B[1;33m\u001B[0m\u001B[1;33m\u001B[0m\u001B[0m\n\u001B[0;32m    164\u001B[0m         \u001B[1;32mif\u001B[0m \u001B[0mframe\u001B[0m\u001B[1;33m:\u001B[0m\u001B[1;33m\u001B[0m\u001B[1;33m\u001B[0m\u001B[0m\n\u001B[1;32m--> 165\u001B[1;33m             \u001B[0mmain_debugger\u001B[0m\u001B[1;33m.\u001B[0m\u001B[0mdo_wait_suspend\u001B[0m\u001B[1;33m(\u001B[0m\u001B[0mthread\u001B[0m\u001B[1;33m,\u001B[0m \u001B[0mframe\u001B[0m\u001B[1;33m,\u001B[0m \u001B[0mevent\u001B[0m\u001B[1;33m,\u001B[0m \u001B[0marg\u001B[0m\u001B[1;33m)\u001B[0m\u001B[1;33m\u001B[0m\u001B[1;33m\u001B[0m\u001B[0m\n\u001B[0m\u001B[0;32m    166\u001B[0m             \u001B[1;32mreturn\u001B[0m \u001B[1;32mTrue\u001B[0m\u001B[1;33m\u001B[0m\u001B[1;33m\u001B[0m\u001B[0m\n\u001B[0;32m    167\u001B[0m     \u001B[1;32mreturn\u001B[0m \u001B[1;32mFalse\u001B[0m\u001B[1;33m\u001B[0m\u001B[1;33m\u001B[0m\u001B[0m\n",
      "\u001B[1;32mC:\\Program Files\\JetBrains\\PyCharm 2021.1\\plugins\\python\\helpers\\pydev\\pydevd.py\u001B[0m in \u001B[0;36mdo_wait_suspend\u001B[1;34m(self, thread, frame, event, arg, send_suspend_message, is_unhandled_exception)\u001B[0m\n\u001B[0;32m   1145\u001B[0m \u001B[1;33m\u001B[0m\u001B[0m\n\u001B[0;32m   1146\u001B[0m         \u001B[1;32mwith\u001B[0m \u001B[0mself\u001B[0m\u001B[1;33m.\u001B[0m\u001B[0m_threads_suspended_single_notification\u001B[0m\u001B[1;33m.\u001B[0m\u001B[0mnotify_thread_suspended\u001B[0m\u001B[1;33m(\u001B[0m\u001B[0mthread_id\u001B[0m\u001B[1;33m,\u001B[0m \u001B[0mstop_reason\u001B[0m\u001B[1;33m)\u001B[0m\u001B[1;33m:\u001B[0m\u001B[1;33m\u001B[0m\u001B[1;33m\u001B[0m\u001B[0m\n\u001B[1;32m-> 1147\u001B[1;33m             \u001B[0mself\u001B[0m\u001B[1;33m.\u001B[0m\u001B[0m_do_wait_suspend\u001B[0m\u001B[1;33m(\u001B[0m\u001B[0mthread\u001B[0m\u001B[1;33m,\u001B[0m \u001B[0mframe\u001B[0m\u001B[1;33m,\u001B[0m \u001B[0mevent\u001B[0m\u001B[1;33m,\u001B[0m \u001B[0marg\u001B[0m\u001B[1;33m,\u001B[0m \u001B[0msuspend_type\u001B[0m\u001B[1;33m,\u001B[0m \u001B[0mfrom_this_thread\u001B[0m\u001B[1;33m)\u001B[0m\u001B[1;33m\u001B[0m\u001B[1;33m\u001B[0m\u001B[0m\n\u001B[0m\u001B[0;32m   1148\u001B[0m \u001B[1;33m\u001B[0m\u001B[0m\n\u001B[0;32m   1149\u001B[0m     \u001B[1;32mdef\u001B[0m \u001B[0m_do_wait_suspend\u001B[0m\u001B[1;33m(\u001B[0m\u001B[0mself\u001B[0m\u001B[1;33m,\u001B[0m \u001B[0mthread\u001B[0m\u001B[1;33m,\u001B[0m \u001B[0mframe\u001B[0m\u001B[1;33m,\u001B[0m \u001B[0mevent\u001B[0m\u001B[1;33m,\u001B[0m \u001B[0marg\u001B[0m\u001B[1;33m,\u001B[0m \u001B[0msuspend_type\u001B[0m\u001B[1;33m,\u001B[0m \u001B[0mfrom_this_thread\u001B[0m\u001B[1;33m)\u001B[0m\u001B[1;33m:\u001B[0m\u001B[1;33m\u001B[0m\u001B[1;33m\u001B[0m\u001B[0m\n",
      "\u001B[1;32mC:\\Program Files\\JetBrains\\PyCharm 2021.1\\plugins\\python\\helpers\\pydev\\pydevd.py\u001B[0m in \u001B[0;36m_do_wait_suspend\u001B[1;34m(self, thread, frame, event, arg, suspend_type, from_this_thread)\u001B[0m\n\u001B[0;32m   1160\u001B[0m \u001B[1;33m\u001B[0m\u001B[0m\n\u001B[0;32m   1161\u001B[0m                 \u001B[0mself\u001B[0m\u001B[1;33m.\u001B[0m\u001B[0mprocess_internal_commands\u001B[0m\u001B[1;33m(\u001B[0m\u001B[1;33m)\u001B[0m\u001B[1;33m\u001B[0m\u001B[1;33m\u001B[0m\u001B[0m\n\u001B[1;32m-> 1162\u001B[1;33m                 \u001B[0mtime\u001B[0m\u001B[1;33m.\u001B[0m\u001B[0msleep\u001B[0m\u001B[1;33m(\u001B[0m\u001B[1;36m0.01\u001B[0m\u001B[1;33m)\u001B[0m\u001B[1;33m\u001B[0m\u001B[1;33m\u001B[0m\u001B[0m\n\u001B[0m\u001B[0;32m   1163\u001B[0m \u001B[1;33m\u001B[0m\u001B[0m\n\u001B[0;32m   1164\u001B[0m         \u001B[0mself\u001B[0m\u001B[1;33m.\u001B[0m\u001B[0mcancel_async_evaluation\u001B[0m\u001B[1;33m(\u001B[0m\u001B[0mget_current_thread_id\u001B[0m\u001B[1;33m(\u001B[0m\u001B[0mthread\u001B[0m\u001B[1;33m)\u001B[0m\u001B[1;33m,\u001B[0m \u001B[0mstr\u001B[0m\u001B[1;33m(\u001B[0m\u001B[0mid\u001B[0m\u001B[1;33m(\u001B[0m\u001B[0mframe\u001B[0m\u001B[1;33m)\u001B[0m\u001B[1;33m)\u001B[0m\u001B[1;33m)\u001B[0m\u001B[1;33m\u001B[0m\u001B[1;33m\u001B[0m\u001B[0m\n",
      "\u001B[1;31mKeyboardInterrupt\u001B[0m: "
     ]
    }
   ],
   "source": [
    "# define store/restore probabilities for an item of a specific color (white, blue, red):\n",
    "white = 0.2\n",
    "blue = 0.7\n",
    "red = 0.1\n",
    "\n",
    "transitions_test = init_transitions(white, blue, red)\n",
    "neu = np.sum(transitions_test, axis=2)"
   ],
   "metadata": {
    "collapsed": false,
    "pycharm": {
     "name": "#%%\n"
    }
   }
  },
  {
   "cell_type": "code",
   "execution_count": 34,
   "outputs": [
    {
     "ename": "KeyboardInterrupt",
     "evalue": "",
     "output_type": "error",
     "traceback": [
      "\u001B[1;31m---------------------------------------------------------------------------\u001B[0m",
      "\u001B[1;31mKeyboardInterrupt\u001B[0m                         Traceback (most recent call last)",
      "\u001B[1;32m<ipython-input-34-62152a507314>\u001B[0m in \u001B[0;36m<module>\u001B[1;34m\u001B[0m\n\u001B[1;32m----> 1\u001B[1;33m \u001B[0mprint\u001B[0m\u001B[1;33m(\u001B[0m\u001B[0mitem_combinations\u001B[0m\u001B[1;33m[\u001B[0m\u001B[1;36m64\u001B[0m\u001B[1;33m]\u001B[0m\u001B[1;33m)\u001B[0m\u001B[1;33m\u001B[0m\u001B[1;33m\u001B[0m\u001B[0m\n\u001B[0m\u001B[0;32m      2\u001B[0m \u001B[0mprint\u001B[0m\u001B[1;33m(\u001B[0m\u001B[0mneu\u001B[0m\u001B[1;33m)\u001B[0m\u001B[1;33m\u001B[0m\u001B[1;33m\u001B[0m\u001B[0m\n\u001B[0;32m      3\u001B[0m \u001B[1;33m\u001B[0m\u001B[0m\n",
      "\u001B[1;32m<ipython-input-34-62152a507314>\u001B[0m in \u001B[0;36m<module>\u001B[1;34m\u001B[0m\n\u001B[1;32m----> 1\u001B[1;33m \u001B[0mprint\u001B[0m\u001B[1;33m(\u001B[0m\u001B[0mitem_combinations\u001B[0m\u001B[1;33m[\u001B[0m\u001B[1;36m64\u001B[0m\u001B[1;33m]\u001B[0m\u001B[1;33m)\u001B[0m\u001B[1;33m\u001B[0m\u001B[1;33m\u001B[0m\u001B[0m\n\u001B[0m\u001B[0;32m      2\u001B[0m \u001B[0mprint\u001B[0m\u001B[1;33m(\u001B[0m\u001B[0mneu\u001B[0m\u001B[1;33m)\u001B[0m\u001B[1;33m\u001B[0m\u001B[1;33m\u001B[0m\u001B[0m\n\u001B[0;32m      3\u001B[0m \u001B[1;33m\u001B[0m\u001B[0m\n",
      "\u001B[1;32m_pydevd_bundle\\pydevd_cython_win32_39_64.pyx\u001B[0m in \u001B[0;36m_pydevd_bundle.pydevd_cython_win32_39_64.SafeCallWrapper.__call__\u001B[1;34m()\u001B[0m\n",
      "\u001B[1;32m_pydevd_bundle\\pydevd_cython_win32_39_64.pyx\u001B[0m in \u001B[0;36m_pydevd_bundle.pydevd_cython_win32_39_64.PyDBFrame.trace_dispatch\u001B[1;34m()\u001B[0m\n",
      "\u001B[1;32m_pydevd_bundle\\pydevd_cython_win32_39_64.pyx\u001B[0m in \u001B[0;36m_pydevd_bundle.pydevd_cython_win32_39_64.PyDBFrame.trace_dispatch\u001B[1;34m()\u001B[0m\n",
      "\u001B[1;32m_pydevd_bundle\\pydevd_cython_win32_39_64.pyx\u001B[0m in \u001B[0;36m_pydevd_bundle.pydevd_cython_win32_39_64.PyDBFrame.trace_dispatch\u001B[1;34m()\u001B[0m\n",
      "\u001B[1;32m_pydevd_bundle\\pydevd_cython_win32_39_64.pyx\u001B[0m in \u001B[0;36m_pydevd_bundle.pydevd_cython_win32_39_64.PyDBFrame.do_wait_suspend\u001B[1;34m()\u001B[0m\n",
      "\u001B[1;32mC:\\Program Files\\JetBrains\\PyCharm 2021.1\\plugins\\python\\helpers\\pydev\\pydevd.py\u001B[0m in \u001B[0;36mdo_wait_suspend\u001B[1;34m(self, thread, frame, event, arg, send_suspend_message, is_unhandled_exception)\u001B[0m\n\u001B[0;32m   1145\u001B[0m \u001B[1;33m\u001B[0m\u001B[0m\n\u001B[0;32m   1146\u001B[0m         \u001B[1;32mwith\u001B[0m \u001B[0mself\u001B[0m\u001B[1;33m.\u001B[0m\u001B[0m_threads_suspended_single_notification\u001B[0m\u001B[1;33m.\u001B[0m\u001B[0mnotify_thread_suspended\u001B[0m\u001B[1;33m(\u001B[0m\u001B[0mthread_id\u001B[0m\u001B[1;33m,\u001B[0m \u001B[0mstop_reason\u001B[0m\u001B[1;33m)\u001B[0m\u001B[1;33m:\u001B[0m\u001B[1;33m\u001B[0m\u001B[1;33m\u001B[0m\u001B[0m\n\u001B[1;32m-> 1147\u001B[1;33m             \u001B[0mself\u001B[0m\u001B[1;33m.\u001B[0m\u001B[0m_do_wait_suspend\u001B[0m\u001B[1;33m(\u001B[0m\u001B[0mthread\u001B[0m\u001B[1;33m,\u001B[0m \u001B[0mframe\u001B[0m\u001B[1;33m,\u001B[0m \u001B[0mevent\u001B[0m\u001B[1;33m,\u001B[0m \u001B[0marg\u001B[0m\u001B[1;33m,\u001B[0m \u001B[0msuspend_type\u001B[0m\u001B[1;33m,\u001B[0m \u001B[0mfrom_this_thread\u001B[0m\u001B[1;33m)\u001B[0m\u001B[1;33m\u001B[0m\u001B[1;33m\u001B[0m\u001B[0m\n\u001B[0m\u001B[0;32m   1148\u001B[0m \u001B[1;33m\u001B[0m\u001B[0m\n\u001B[0;32m   1149\u001B[0m     \u001B[1;32mdef\u001B[0m \u001B[0m_do_wait_suspend\u001B[0m\u001B[1;33m(\u001B[0m\u001B[0mself\u001B[0m\u001B[1;33m,\u001B[0m \u001B[0mthread\u001B[0m\u001B[1;33m,\u001B[0m \u001B[0mframe\u001B[0m\u001B[1;33m,\u001B[0m \u001B[0mevent\u001B[0m\u001B[1;33m,\u001B[0m \u001B[0marg\u001B[0m\u001B[1;33m,\u001B[0m \u001B[0msuspend_type\u001B[0m\u001B[1;33m,\u001B[0m \u001B[0mfrom_this_thread\u001B[0m\u001B[1;33m)\u001B[0m\u001B[1;33m:\u001B[0m\u001B[1;33m\u001B[0m\u001B[1;33m\u001B[0m\u001B[0m\n",
      "\u001B[1;32mC:\\Program Files\\JetBrains\\PyCharm 2021.1\\plugins\\python\\helpers\\pydev\\pydevd.py\u001B[0m in \u001B[0;36m_do_wait_suspend\u001B[1;34m(self, thread, frame, event, arg, suspend_type, from_this_thread)\u001B[0m\n\u001B[0;32m   1160\u001B[0m \u001B[1;33m\u001B[0m\u001B[0m\n\u001B[0;32m   1161\u001B[0m                 \u001B[0mself\u001B[0m\u001B[1;33m.\u001B[0m\u001B[0mprocess_internal_commands\u001B[0m\u001B[1;33m(\u001B[0m\u001B[1;33m)\u001B[0m\u001B[1;33m\u001B[0m\u001B[1;33m\u001B[0m\u001B[0m\n\u001B[1;32m-> 1162\u001B[1;33m                 \u001B[0mtime\u001B[0m\u001B[1;33m.\u001B[0m\u001B[0msleep\u001B[0m\u001B[1;33m(\u001B[0m\u001B[1;36m0.01\u001B[0m\u001B[1;33m)\u001B[0m\u001B[1;33m\u001B[0m\u001B[1;33m\u001B[0m\u001B[0m\n\u001B[0m\u001B[0;32m   1163\u001B[0m \u001B[1;33m\u001B[0m\u001B[0m\n\u001B[0;32m   1164\u001B[0m         \u001B[0mself\u001B[0m\u001B[1;33m.\u001B[0m\u001B[0mcancel_async_evaluation\u001B[0m\u001B[1;33m(\u001B[0m\u001B[0mget_current_thread_id\u001B[0m\u001B[1;33m(\u001B[0m\u001B[0mthread\u001B[0m\u001B[1;33m)\u001B[0m\u001B[1;33m,\u001B[0m \u001B[0mstr\u001B[0m\u001B[1;33m(\u001B[0m\u001B[0mid\u001B[0m\u001B[1;33m(\u001B[0m\u001B[0mframe\u001B[0m\u001B[1;33m)\u001B[0m\u001B[1;33m)\u001B[0m\u001B[1;33m)\u001B[0m\u001B[1;33m\u001B[0m\u001B[1;33m\u001B[0m\u001B[0m\n",
      "\u001B[1;31mKeyboardInterrupt\u001B[0m: "
     ]
    }
   ],
   "source": [
    "print(item_combinations[64])\n",
    "print(neu)"
   ],
   "metadata": {
    "collapsed": false,
    "pycharm": {
     "name": "#%%\n"
    }
   }
  },
  {
   "cell_type": "code",
   "execution_count": 20,
   "outputs": [
    {
     "name": "stderr",
     "output_type": "stream",
     "text": [
      "test_impossible_store_transition_False (__main__.TestTransitionSubMethods) ... FAIL\n",
      "test_impossible_store_transition_True (__main__.TestTransitionSubMethods) ... FAIL\n",
      "\n",
      "======================================================================\n",
      "FAIL: test_impossible_store_transition_False (__main__.TestTransitionSubMethods)\n",
      "----------------------------------------------------------------------\n",
      "Traceback (most recent call last):\n",
      "  File \"<ipython-input-16-14f55ad1c974>\", line 8, in test_impossible_store_transition_False\n",
      "    self.assertFalse(result)\n",
      "AssertionError: True is not false\n",
      "\n",
      "======================================================================\n",
      "FAIL: test_impossible_store_transition_True (__main__.TestTransitionSubMethods)\n",
      "----------------------------------------------------------------------\n",
      "Traceback (most recent call last):\n",
      "  File \"<ipython-input-16-14f55ad1c974>\", line 15, in test_impossible_store_transition_True\n",
      "    self.assertTrue(result)\n",
      "AssertionError: False is not true\n",
      "\n",
      "----------------------------------------------------------------------\n",
      "Ran 2 tests in 0.003s\n",
      "\n",
      "FAILED (failures=2)\n"
     ]
    },
    {
     "data": {
      "text/plain": "<unittest.main.TestProgram at 0x19d765d3790>"
     },
     "execution_count": 19,
     "metadata": {},
     "output_type": "execute_result"
    },
    {
     "name": "stderr",
     "output_type": "stream",
     "text": [
      "test_transition_matrix_shape (__main__.TestTransition) ... ok\n",
      "test_transition_matrix_sum_one (__main__.TestTransition) ... FAIL\n",
      "test_impossible_store_transition_False (__main__.TestTransitionSubMethods) ... FAIL\n",
      "test_impossible_store_transition_True (__main__.TestTransitionSubMethods) ... FAIL\n",
      "\n",
      "======================================================================\n",
      "FAIL: test_transition_matrix_sum_one (__main__.TestTransition)\n",
      "----------------------------------------------------------------------\n",
      "Traceback (most recent call last):\n",
      "  File \"<ipython-input-20-a560f891b2f6>\", line 17, in test_transition_matrix_sum_one\n",
      "    testing.assert_array_equal(transitions_summed, np.ones_like(transitions_summed))\n",
      "  File \"c:\\users\\thorb\\pycharmprojects\\saki\\ex4\\venv\\lib\\site-packages\\numpy\\testing\\_private\\utils.py\", line 934, in assert_array_equal\n",
      "    assert_array_compare(operator.__eq__, x, y, err_msg=err_msg,\n",
      "  File \"c:\\users\\thorb\\pycharmprojects\\saki\\ex4\\venv\\lib\\site-packages\\numpy\\testing\\_private\\utils.py\", line 844, in assert_array_compare\n",
      "    raise AssertionError(msg)\n",
      "AssertionError: \n",
      "Arrays are not equal\n",
      "\n",
      "Mismatched elements: 4608 / 6144 (75%)\n",
      "Max absolute difference: 1.\n",
      "Max relative difference: 1.\n",
      " x: array([[1., 1., 1., ..., 1., 1., 1.],\n",
      "       [1., 1., 1., ..., 1., 1., 1.],\n",
      "       [1., 1., 1., ..., 1., 1., 1.],\n",
      "       [1., 0., 0., ..., 0., 0., 1.]])\n",
      " y: array([[1., 1., 1., ..., 1., 1., 1.],\n",
      "       [1., 1., 1., ..., 1., 1., 1.],\n",
      "       [1., 1., 1., ..., 1., 1., 1.],\n",
      "       [1., 1., 1., ..., 1., 1., 1.]])\n",
      "\n",
      "======================================================================\n",
      "FAIL: test_impossible_store_transition_False (__main__.TestTransitionSubMethods)\n",
      "----------------------------------------------------------------------\n",
      "Traceback (most recent call last):\n",
      "  File \"<ipython-input-16-14f55ad1c974>\", line 8, in test_impossible_store_transition_False\n",
      "    self.assertFalse(result)\n",
      "AssertionError: True is not false\n",
      "\n",
      "======================================================================\n",
      "FAIL: test_impossible_store_transition_True (__main__.TestTransitionSubMethods)\n",
      "----------------------------------------------------------------------\n",
      "Traceback (most recent call last):\n",
      "  File \"<ipython-input-16-14f55ad1c974>\", line 15, in test_impossible_store_transition_True\n",
      "    self.assertTrue(result)\n",
      "AssertionError: False is not true\n",
      "\n",
      "----------------------------------------------------------------------\n",
      "Ran 4 tests in 110.058s\n",
      "\n",
      "FAILED (failures=3)\n"
     ]
    },
    {
     "data": {
      "text/plain": "<unittest.main.TestProgram at 0x19d762b2f10>"
     },
     "execution_count": 20,
     "metadata": {},
     "output_type": "execute_result"
    }
   ],
   "source": [
    "import unittest\n",
    "from numpy import testing\n",
    "\n",
    "class TestTransition(unittest.TestCase):\n",
    "    @classmethod\n",
    "    def setUpClass(cls) -> None:\n",
    "        cls.transitions = init_transitions(white, blue, red)\n",
    "\n",
    "    def test_transition_matrix_shape(self):\n",
    "        num_actions = 4\n",
    "        num_states = np.power(4, 4) * 2 * 3\n",
    "        self.assertEqual((num_actions, num_states, num_states), self.transitions.shape)\n",
    "\n",
    "    def test_transition_matrix_sum_one(self):\n",
    "        transitions_summed = np.sum(self.transitions, axis=2)\n",
    "        testing.assert_array_equal(transitions_summed, np.ones_like(transitions_summed))\n",
    "\n",
    "unittest.main(argv=[''], verbosity=2, exit=False)\n"
   ],
   "metadata": {
    "collapsed": false,
    "pycharm": {
     "name": "#%%\n"
    }
   }
  },
  {
   "cell_type": "code",
   "execution_count": 16,
   "outputs": [],
   "source": [
    "class TestTransitionSubMethods(unittest.TestCase):\n",
    "\n",
    "    def test_impossible_store_transition_False(self):\n",
    "        from_comb = [['empty', 'blue'], ['white', 'empty']]\n",
    "        to_comb = [['red', 'blue'], ['white', 'empty']]\n",
    "        field = (1, 0)\n",
    "        result = impossible_store_transition('red', from_comb, to_comb, field)\n",
    "        self.assertFalse(result)\n",
    "\n",
    "    def test_impossible_store_transition_True(self):\n",
    "        from_comb = [['empty', 'blue'], ['white', 'empty']]\n",
    "        to_comb = [['red', 'blue'], ['white', 'empty']]\n",
    "        field = (0, 0)\n",
    "        result = impossible_store_transition('red', from_comb, to_comb, field)\n",
    "        self.assertTrue(result)\n",
    "\n",
    "#unittest.main(argv=[''], verbosity=2, exit=False)"
   ],
   "metadata": {
    "collapsed": false,
    "pycharm": {
     "name": "#%%\n"
    }
   }
  },
  {
   "cell_type": "code",
   "execution_count": 17,
   "outputs": [
    {
     "ename": "NameError",
     "evalue": "name 'transitions' is not defined",
     "output_type": "error",
     "traceback": [
      "\u001B[1;31m---------------------------------------------------------------------------\u001B[0m",
      "\u001B[1;31mNameError\u001B[0m                                 Traceback (most recent call last)",
      "\u001B[1;32m<ipython-input-17-796bced05b64>\u001B[0m in \u001B[0;36m<module>\u001B[1;34m\u001B[0m\n\u001B[1;32m----> 1\u001B[1;33m \u001B[0mprocess\u001B[0m \u001B[1;33m=\u001B[0m \u001B[0mmdp\u001B[0m\u001B[1;33m.\u001B[0m\u001B[0mPolicyIteration\u001B[0m\u001B[1;33m(\u001B[0m\u001B[0mtransitions\u001B[0m\u001B[1;33m,\u001B[0m \u001B[0mreward\u001B[0m\u001B[1;33m,\u001B[0m \u001B[0mdiscount\u001B[0m\u001B[1;33m=\u001B[0m\u001B[1;36m0.9\u001B[0m\u001B[1;33m)\u001B[0m\u001B[1;33m\u001B[0m\u001B[1;33m\u001B[0m\u001B[0m\n\u001B[0m\u001B[0;32m      2\u001B[0m \u001B[1;33m\u001B[0m\u001B[0m\n",
      "\u001B[1;31mNameError\u001B[0m: name 'transitions' is not defined"
     ]
    }
   ],
   "source": [
    "process = mdp.PolicyIteration(transitions, reward, discount=0.9)"
   ],
   "metadata": {
    "collapsed": false,
    "pycharm": {
     "name": "#%%\n"
    }
   }
  },
  {
   "cell_type": "code",
   "execution_count": null,
   "outputs": [],
   "source": [
    "process.run()\n",
    "process.V"
   ],
   "metadata": {
    "collapsed": false,
    "pycharm": {
     "name": "#%%\n"
    }
   }
  },
  {
   "cell_type": "code",
   "execution_count": null,
   "outputs": [],
   "source": [
    "import mdptoolbox.example\n",
    "P, R = mdptoolbox.example.forest(is_sparse=True)\n",
    "P[0].toarray()"
   ],
   "metadata": {
    "collapsed": false,
    "pycharm": {
     "name": "#%%\n"
    }
   }
  }
 ],
 "metadata": {
  "kernelspec": {
   "display_name": "Python 3",
   "language": "python",
   "name": "python3"
  },
  "language_info": {
   "codemirror_mode": {
    "name": "ipython",
    "version": 2
   },
   "file_extension": ".py",
   "mimetype": "text/x-python",
   "name": "python",
   "nbconvert_exporter": "python",
   "pygments_lexer": "ipython2",
   "version": "2.7.6"
  }
 },
 "nbformat": 4,
 "nbformat_minor": 0
}